{
 "cells": [
  {
   "cell_type": "code",
   "execution_count": 2,
   "id": "77071363",
   "metadata": {},
   "outputs": [
    {
     "data": {
      "text/plain": [
       "'/workspaces/Project5/jupyter_notebooks'"
      ]
     },
     "execution_count": 2,
     "metadata": {},
     "output_type": "execute_result"
    }
   ],
   "source": [
    "import os\n",
    "current_dir = os.getcwd()\n",
    "current_dir"
   ]
  },
  {
   "cell_type": "code",
   "execution_count": 3,
   "id": "22ae4313",
   "metadata": {},
   "outputs": [
    {
     "name": "stdout",
     "output_type": "stream",
     "text": [
      "You set a new current directory\n"
     ]
    }
   ],
   "source": [
    "os.chdir(os.path.dirname(current_dir))\n",
    "print(\"You set a new current directory\")"
   ]
  },
  {
   "cell_type": "code",
   "execution_count": 4,
   "id": "19d59853",
   "metadata": {},
   "outputs": [
    {
     "data": {
      "text/plain": [
       "'/workspaces/Project5'"
      ]
     },
     "execution_count": 4,
     "metadata": {},
     "output_type": "execute_result"
    }
   ],
   "source": [
    "current_dir = os.getcwd()\n",
    "current_dir"
   ]
  },
  {
   "cell_type": "code",
   "execution_count": 17,
   "id": "f342f285",
   "metadata": {},
   "outputs": [
    {
     "data": {
      "text/html": [
       "<div>\n",
       "<style scoped>\n",
       "    .dataframe tbody tr th:only-of-type {\n",
       "        vertical-align: middle;\n",
       "    }\n",
       "\n",
       "    .dataframe tbody tr th {\n",
       "        vertical-align: top;\n",
       "    }\n",
       "\n",
       "    .dataframe thead th {\n",
       "        text-align: right;\n",
       "    }\n",
       "</style>\n",
       "<table border=\"1\" class=\"dataframe\">\n",
       "  <thead>\n",
       "    <tr style=\"text-align: right;\">\n",
       "      <th></th>\n",
       "      <th>Date</th>\n",
       "      <th>Bitcoin_Close</th>\n",
       "      <th>Nasdaq_Close_lag1</th>\n",
       "      <th>CPI</th>\n",
       "      <th>Debt_to_GDP_lag365</th>\n",
       "      <th>Debt_to_GDP_lag90</th>\n",
       "      <th>Gold_Close_lag7</th>\n",
       "      <th>Gold_Close_lag365</th>\n",
       "      <th>CPI_pct_change_365d</th>\n",
       "      <th>Fed_Funds_Rate_lag365</th>\n",
       "      <th>CPI_pct_change_90d</th>\n",
       "      <th>Fed_Funds_Rate_lag90</th>\n",
       "      <th>Consumer_Sentiment</th>\n",
       "      <th>Nasdaq_365d_return</th>\n",
       "      <th>Unemployment_Rate</th>\n",
       "      <th>Ten_Year_Yield</th>\n",
       "      <th>Unemployment_Rate_lag30</th>\n",
       "      <th>Unemployment_Rate_lag90</th>\n",
       "    </tr>\n",
       "  </thead>\n",
       "  <tbody>\n",
       "    <tr>\n",
       "      <th>0</th>\n",
       "      <td>2011-07-18</td>\n",
       "      <td>13.1600</td>\n",
       "      <td>2789.800049</td>\n",
       "      <td>225.395</td>\n",
       "      <td>89.56528</td>\n",
       "      <td>92.1938</td>\n",
       "      <td>1548.800049</td>\n",
       "      <td>1181.699951</td>\n",
       "      <td>0.035799</td>\n",
       "      <td>0.18</td>\n",
       "      <td>0.00581</td>\n",
       "      <td>0.1</td>\n",
       "      <td>63.7</td>\n",
       "      <td>566.880127</td>\n",
       "      <td>9.0</td>\n",
       "      <td>2.94</td>\n",
       "      <td>9.1</td>\n",
       "      <td>9.1</td>\n",
       "    </tr>\n",
       "    <tr>\n",
       "      <th>1</th>\n",
       "      <td>2011-07-19</td>\n",
       "      <td>13.4800</td>\n",
       "      <td>2765.110107</td>\n",
       "      <td>225.395</td>\n",
       "      <td>89.56528</td>\n",
       "      <td>92.1938</td>\n",
       "      <td>1561.900024</td>\n",
       "      <td>1181.699951</td>\n",
       "      <td>0.035799</td>\n",
       "      <td>0.18</td>\n",
       "      <td>0.00581</td>\n",
       "      <td>0.1</td>\n",
       "      <td>63.7</td>\n",
       "      <td>628.290039</td>\n",
       "      <td>9.0</td>\n",
       "      <td>2.91</td>\n",
       "      <td>9.1</td>\n",
       "      <td>9.1</td>\n",
       "    </tr>\n",
       "    <tr>\n",
       "      <th>2</th>\n",
       "      <td>2011-07-20</td>\n",
       "      <td>13.8502</td>\n",
       "      <td>2826.520020</td>\n",
       "      <td>225.395</td>\n",
       "      <td>89.56528</td>\n",
       "      <td>92.1938</td>\n",
       "      <td>1585.199951</td>\n",
       "      <td>1191.500000</td>\n",
       "      <td>0.035799</td>\n",
       "      <td>0.18</td>\n",
       "      <td>0.00581</td>\n",
       "      <td>0.1</td>\n",
       "      <td>63.7</td>\n",
       "      <td>591.739990</td>\n",
       "      <td>9.0</td>\n",
       "      <td>2.96</td>\n",
       "      <td>9.1</td>\n",
       "      <td>9.1</td>\n",
       "    </tr>\n",
       "    <tr>\n",
       "      <th>3</th>\n",
       "      <td>2011-07-21</td>\n",
       "      <td>13.6894</td>\n",
       "      <td>2814.229980</td>\n",
       "      <td>225.395</td>\n",
       "      <td>89.56528</td>\n",
       "      <td>92.1938</td>\n",
       "      <td>1589.000000</td>\n",
       "      <td>1191.599976</td>\n",
       "      <td>0.035799</td>\n",
       "      <td>0.18</td>\n",
       "      <td>0.00581</td>\n",
       "      <td>0.1</td>\n",
       "      <td>63.7</td>\n",
       "      <td>647.099854</td>\n",
       "      <td>9.0</td>\n",
       "      <td>3.03</td>\n",
       "      <td>9.1</td>\n",
       "      <td>9.1</td>\n",
       "    </tr>\n",
       "    <tr>\n",
       "      <th>4</th>\n",
       "      <td>2011-07-22</td>\n",
       "      <td>13.6100</td>\n",
       "      <td>2834.429932</td>\n",
       "      <td>225.395</td>\n",
       "      <td>89.56528</td>\n",
       "      <td>92.1938</td>\n",
       "      <td>1589.800049</td>\n",
       "      <td>1195.500000</td>\n",
       "      <td>0.035799</td>\n",
       "      <td>0.18</td>\n",
       "      <td>0.00581</td>\n",
       "      <td>0.1</td>\n",
       "      <td>63.7</td>\n",
       "      <td>612.940186</td>\n",
       "      <td>9.0</td>\n",
       "      <td>2.99</td>\n",
       "      <td>9.1</td>\n",
       "      <td>9.1</td>\n",
       "    </tr>\n",
       "  </tbody>\n",
       "</table>\n",
       "</div>"
      ],
      "text/plain": [
       "         Date  Bitcoin_Close  Nasdaq_Close_lag1      CPI  Debt_to_GDP_lag365  \\\n",
       "0  2011-07-18        13.1600        2789.800049  225.395            89.56528   \n",
       "1  2011-07-19        13.4800        2765.110107  225.395            89.56528   \n",
       "2  2011-07-20        13.8502        2826.520020  225.395            89.56528   \n",
       "3  2011-07-21        13.6894        2814.229980  225.395            89.56528   \n",
       "4  2011-07-22        13.6100        2834.429932  225.395            89.56528   \n",
       "\n",
       "   Debt_to_GDP_lag90  Gold_Close_lag7  Gold_Close_lag365  CPI_pct_change_365d  \\\n",
       "0            92.1938      1548.800049        1181.699951             0.035799   \n",
       "1            92.1938      1561.900024        1181.699951             0.035799   \n",
       "2            92.1938      1585.199951        1191.500000             0.035799   \n",
       "3            92.1938      1589.000000        1191.599976             0.035799   \n",
       "4            92.1938      1589.800049        1195.500000             0.035799   \n",
       "\n",
       "   Fed_Funds_Rate_lag365  CPI_pct_change_90d  Fed_Funds_Rate_lag90  \\\n",
       "0                   0.18             0.00581                   0.1   \n",
       "1                   0.18             0.00581                   0.1   \n",
       "2                   0.18             0.00581                   0.1   \n",
       "3                   0.18             0.00581                   0.1   \n",
       "4                   0.18             0.00581                   0.1   \n",
       "\n",
       "   Consumer_Sentiment  Nasdaq_365d_return  Unemployment_Rate  Ten_Year_Yield  \\\n",
       "0                63.7          566.880127                9.0            2.94   \n",
       "1                63.7          628.290039                9.0            2.91   \n",
       "2                63.7          591.739990                9.0            2.96   \n",
       "3                63.7          647.099854                9.0            3.03   \n",
       "4                63.7          612.940186                9.0            2.99   \n",
       "\n",
       "   Unemployment_Rate_lag30  Unemployment_Rate_lag90  \n",
       "0                      9.1                      9.1  \n",
       "1                      9.1                      9.1  \n",
       "2                      9.1                      9.1  \n",
       "3                      9.1                      9.1  \n",
       "4                      9.1                      9.1  "
      ]
     },
     "execution_count": 17,
     "metadata": {},
     "output_type": "execute_result"
    }
   ],
   "source": [
    "import pandas as pd\n",
    "df = (pd.read_csv(\"outputs/datasets/final_features/BtcFinalFeatures.csv\"))\n",
    "df.head()"
   ]
  },
  {
   "cell_type": "code",
   "execution_count": 18,
   "id": "3517e8c9",
   "metadata": {},
   "outputs": [
    {
     "data": {
      "text/plain": [
       "<Axes: xlabel='Bitcoin_Close', ylabel='Count'>"
      ]
     },
     "execution_count": 18,
     "metadata": {},
     "output_type": "execute_result"
    },
    {
     "data": {
      "image/png": "[encoded data removed]",
      "text/plain": [
       "<Figure size 640x480 with 1 Axes>"
      ]
     },
     "metadata": {},
     "output_type": "display_data"
    }
   ],
   "source": [
    "import seaborn as sns\n",
    "sns.histplot(df['Bitcoin_Close'], bins=50, kde=True)"
   ]
  },
  {
   "cell_type": "code",
   "execution_count": 19,
   "id": "d296ac58",
   "metadata": {},
   "outputs": [
    {
     "name": "stdout",
     "output_type": "stream",
     "text": [
      "    Transformation          MSE       RMSE        MAE            R2\n",
      "3            power  3635.364329  60.293983  53.464107  1.334368e-01\n",
      "6  quantile_normal    11.209123   3.348003   3.188711 -9.738197e+00\n",
      "4          box_cox    13.017351   3.607957   3.526180 -1.201735e+01\n",
      "5      yeo_johnson    13.029635   3.609659   3.528003 -1.202964e+01\n",
      "0            log_e    33.113387   5.754423   5.231055 -9.374549e+01\n",
      "1           log_10     6.245572   2.499114   2.271818 -9.374549e+01\n",
      "2       reciprocal     0.009673   0.098349   0.084484 -4.358088e+07\n"
     ]
    }
   ],
   "source": [
    "import numpy as np\n",
    "import pandas as pd\n",
    "from sklearn.preprocessing import PowerTransformer, QuantileTransformer\n",
    "from sklearn.linear_model import LinearRegression\n",
    "from sklearn.metrics import mean_squared_error, mean_absolute_error, r2_score\n",
    "\n",
    "# Define transformations\n",
    "def apply_transform(y, method):\n",
    "    if method == 'log_e':\n",
    "        return np.log1p(y)\n",
    "    elif method == 'log_10':\n",
    "        return np.log10(y + 1)\n",
    "    elif method == 'reciprocal':\n",
    "        return 1 / (y + 1e-6)\n",
    "    elif method == 'power':\n",
    "        return np.power(y, 0.5)\n",
    "    elif method == 'box_cox':\n",
    "        pt = PowerTransformer(method='box-cox')\n",
    "        return pt.fit_transform(y.values.reshape(-1, 1)).flatten()\n",
    "    elif method == 'yeo_johnson':\n",
    "        pt = PowerTransformer(method='yeo-johnson')\n",
    "        return pt.fit_transform(y.values.reshape(-1, 1)).flatten()\n",
    "    elif method == 'quantile_normal':\n",
    "        qt = QuantileTransformer(output_distribution='normal', random_state=0)\n",
    "        return qt.fit_transform(y.values.reshape(-1, 1)).flatten()\n",
    "    else:\n",
    "        return y\n",
    "\n",
    "# List of transformations to test\n",
    "transformers = ['log_e', 'log_10', 'reciprocal', 'power', 'box_cox', 'yeo_johnson', 'quantile_normal']\n",
    "\n",
    "# Prepare features and target\n",
    "X = df.drop(columns=['Bitcoin_Close', 'Date'])\n",
    "y_raw = df['Bitcoin_Close']\n",
    "\n",
    "# Chronological split\n",
    "split_idx = int(len(df) * 0.8)\n",
    "X_train, X_test = X.iloc[:split_idx], X.iloc[split_idx:]\n",
    "y_train_raw, y_test_raw = y_raw.iloc[:split_idx], y_raw.iloc[split_idx:]\n",
    "\n",
    "# Store results\n",
    "results = []\n",
    "\n",
    "for method in transformers:\n",
    "    try:\n",
    "        y_train = apply_transform(y_train_raw, method)\n",
    "        y_test = apply_transform(y_test_raw, method)\n",
    "\n",
    "        model = LinearRegression()\n",
    "        model.fit(X_train, y_train)\n",
    "        y_pred = model.predict(X_test)\n",
    "\n",
    "        mse = mean_squared_error(y_test, y_pred)\n",
    "        rmse = np.sqrt(mse)\n",
    "        mae = mean_absolute_error(y_test, y_pred)\n",
    "        r2 = r2_score(y_test, y_pred)\n",
    "\n",
    "        results.append({\n",
    "            'Transformation': method,\n",
    "            'MSE': mse,\n",
    "            'RMSE': rmse,\n",
    "            'MAE': mae,\n",
    "            'R2': r2\n",
    "        })\n",
    "    except Exception as e:\n",
    "        results.append({\n",
    "            'Transformation': method,\n",
    "            'Error': str(e)\n",
    "        })\n",
    "\n",
    "# Display results\n",
    "results_df = pd.DataFrame(results)\n",
    "print(results_df.sort_values('R2', ascending=False))\n",
    "\n"
   ]
  },
  {
   "cell_type": "code",
   "execution_count": 20,
   "id": "5fdc9c3a",
   "metadata": {},
   "outputs": [],
   "source": [
    "df['Bitcoin_Close_Power'] = np.power(df['Bitcoin_Close'], 0.5)"
   ]
  },
  {
   "cell_type": "code",
   "execution_count": 21,
   "id": "b7317a5e",
   "metadata": {},
   "outputs": [
    {
     "data": {
      "image/png": "[encoded data removed]",
      "text/plain": [
       "<Figure size 640x480 with 1 Axes>"
      ]
     },
     "metadata": {},
     "output_type": "display_data"
    }
   ],
   "source": [
    "import seaborn as sns\n",
    "import matplotlib.pyplot as plt\n",
    "\n",
    "sns.histplot(df['Bitcoin_Close_Power'], bins=50, kde=True)\n",
    "plt.title('Transformed Bitcoin_Close (Power = 0.5)')\n",
    "plt.xlabel('Bitcoin_Close_Power')\n",
    "plt.ylabel('Count')\n",
    "plt.show()"
   ]
  },
  {
   "cell_type": "code",
   "execution_count": 11,
   "id": "a2381c8b",
   "metadata": {},
   "outputs": [
    {
     "name": "stdout",
     "output_type": "stream",
     "text": [
      "features_train shape: (4103, 16) \n",
      "features_test shape: (1026, 16)\n",
      "target_train shape: (4103,) \n",
      "target_test shape: (1026,)\n"
     ]
    }
   ],
   "source": [
    "from sklearn.model_selection import train_test_split\n",
    "features_train, features_test, target_train, target_test = train_test_split(\n",
    "    df.drop(['Bitcoin_Close', 'Date', 'Bitcoin_Close_Power'], axis=1),\n",
    "    df['Bitcoin_Close_Power'],\n",
    "    test_size=0.2,\n",
    "    shuffle=False,\n",
    "    random_state=0\n",
    ")\n",
    "\n",
    "print(f\"features_train shape: {features_train.shape} \\nfeatures_test shape: {features_test.shape}\")\n",
    "print(f\"target_train shape: {target_train.shape} \\ntarget_test shape: {target_test.shape}\")"
   ]
  },
  {
   "cell_type": "code",
   "execution_count": 12,
   "id": "87b4e9a3",
   "metadata": {},
   "outputs": [],
   "source": [
    "features_train.to_csv(\"outputs/datasets/train_test_initial/features_train_power.csv\", index=False)"
   ]
  },
  {
   "cell_type": "code",
   "execution_count": 13,
   "id": "48b296e9",
   "metadata": {},
   "outputs": [],
   "source": [
    "features_test.to_csv(\"outputs/datasets/train_test_initial/features_test_power.csv\", index=False)"
   ]
  },
  {
   "cell_type": "code",
   "execution_count": 14,
   "id": "b39a2716",
   "metadata": {},
   "outputs": [],
   "source": [
    "target_train.to_csv(\"outputs/datasets/train_test_initial/target_train_power.csv\", index=False)"
   ]
  },
  {
   "cell_type": "code",
   "execution_count": 15,
   "id": "33a154b8",
   "metadata": {},
   "outputs": [],
   "source": [
    "target_test.to_csv(\"outputs/datasets/train_test_initial/target_test_power.csv\", index=False)"
   ]
  },
  {
   "cell_type": "code",
   "execution_count": 16,
   "id": "c33eef1b",
   "metadata": {},
   "outputs": [
    {
     "ename": "KeyError",
     "evalue": "'Bitcoin_Close_power'",
     "output_type": "error",
     "traceback": [
      "\u001b[0;31m---------------------------------------------------------------------------\u001b[0m",
      "\u001b[0;31mKeyError\u001b[0m                                  Traceback (most recent call last)",
      "File \u001b[0;32m~/.local/lib/python3.12/site-packages/pandas/core/indexes/base.py:3790\u001b[0m, in \u001b[0;36mIndex.get_loc\u001b[0;34m(self, key)\u001b[0m\n\u001b[1;32m   3789\u001b[0m \u001b[38;5;28;01mtry\u001b[39;00m:\n\u001b[0;32m-> 3790\u001b[0m     \u001b[38;5;28;01mreturn\u001b[39;00m \u001b[38;5;28;43mself\u001b[39;49m\u001b[38;5;241;43m.\u001b[39;49m\u001b[43m_engine\u001b[49m\u001b[38;5;241;43m.\u001b[39;49m\u001b[43mget_loc\u001b[49m\u001b[43m(\u001b[49m\u001b[43mcasted_key\u001b[49m\u001b[43m)\u001b[49m\n\u001b[1;32m   3791\u001b[0m \u001b[38;5;28;01mexcept\u001b[39;00m \u001b[38;5;167;01mKeyError\u001b[39;00m \u001b[38;5;28;01mas\u001b[39;00m err:\n",
      "File \u001b[0;32mindex.pyx:152\u001b[0m, in \u001b[0;36mpandas._libs.index.IndexEngine.get_loc\u001b[0;34m()\u001b[0m\n",
      "File \u001b[0;32mindex.pyx:181\u001b[0m, in \u001b[0;36mpandas._libs.index.IndexEngine.get_loc\u001b[0;34m()\u001b[0m\n",
      "File \u001b[0;32mpandas/_libs/hashtable_class_helper.pxi:7080\u001b[0m, in \u001b[0;36mpandas._libs.hashtable.PyObjectHashTable.get_item\u001b[0;34m()\u001b[0m\n",
      "File \u001b[0;32mpandas/_libs/hashtable_class_helper.pxi:7088\u001b[0m, in \u001b[0;36mpandas._libs.hashtable.PyObjectHashTable.get_item\u001b[0;34m()\u001b[0m\n",
      "\u001b[0;31mKeyError\u001b[0m: 'Bitcoin_Close_power'",
      "\nThe above exception was the direct cause of the following exception:\n",
      "\u001b[0;31mKeyError\u001b[0m                                  Traceback (most recent call last)",
      "Cell \u001b[0;32mIn[16], line 4\u001b[0m\n\u001b[1;32m      1\u001b[0m \u001b[38;5;28;01mimport\u001b[39;00m \u001b[38;5;21;01mseaborn\u001b[39;00m \u001b[38;5;28;01mas\u001b[39;00m \u001b[38;5;21;01msns\u001b[39;00m\n\u001b[1;32m      2\u001b[0m \u001b[38;5;28;01mimport\u001b[39;00m \u001b[38;5;21;01mmatplotlib\u001b[39;00m\u001b[38;5;21;01m.\u001b[39;00m\u001b[38;5;21;01mpyplot\u001b[39;00m \u001b[38;5;28;01mas\u001b[39;00m \u001b[38;5;21;01mplt\u001b[39;00m\n\u001b[0;32m----> 4\u001b[0m sns\u001b[38;5;241m.\u001b[39mhistplot(\u001b[43mdf\u001b[49m\u001b[43m[\u001b[49m\u001b[38;5;124;43m'\u001b[39;49m\u001b[38;5;124;43mBitcoin_Close_power\u001b[39;49m\u001b[38;5;124;43m'\u001b[39;49m\u001b[43m]\u001b[49m, bins\u001b[38;5;241m=\u001b[39m\u001b[38;5;241m50\u001b[39m, kde\u001b[38;5;241m=\u001b[39m\u001b[38;5;28;01mTrue\u001b[39;00m)\n\u001b[1;32m      5\u001b[0m plt\u001b[38;5;241m.\u001b[39mtitle(\u001b[38;5;124m'\u001b[39m\u001b[38;5;124mTransformed Bitcoin_Close (Power = 0.5)\u001b[39m\u001b[38;5;124m'\u001b[39m)\n\u001b[1;32m      6\u001b[0m plt\u001b[38;5;241m.\u001b[39mxlabel(\u001b[38;5;124m'\u001b[39m\u001b[38;5;124mBitcoin_Close_power\u001b[39m\u001b[38;5;124m'\u001b[39m)\n",
      "File \u001b[0;32m~/.local/lib/python3.12/site-packages/pandas/core/frame.py:3896\u001b[0m, in \u001b[0;36mDataFrame.__getitem__\u001b[0;34m(self, key)\u001b[0m\n\u001b[1;32m   3894\u001b[0m \u001b[38;5;28;01mif\u001b[39;00m \u001b[38;5;28mself\u001b[39m\u001b[38;5;241m.\u001b[39mcolumns\u001b[38;5;241m.\u001b[39mnlevels \u001b[38;5;241m>\u001b[39m \u001b[38;5;241m1\u001b[39m:\n\u001b[1;32m   3895\u001b[0m     \u001b[38;5;28;01mreturn\u001b[39;00m \u001b[38;5;28mself\u001b[39m\u001b[38;5;241m.\u001b[39m_getitem_multilevel(key)\n\u001b[0;32m-> 3896\u001b[0m indexer \u001b[38;5;241m=\u001b[39m \u001b[38;5;28;43mself\u001b[39;49m\u001b[38;5;241;43m.\u001b[39;49m\u001b[43mcolumns\u001b[49m\u001b[38;5;241;43m.\u001b[39;49m\u001b[43mget_loc\u001b[49m\u001b[43m(\u001b[49m\u001b[43mkey\u001b[49m\u001b[43m)\u001b[49m\n\u001b[1;32m   3897\u001b[0m \u001b[38;5;28;01mif\u001b[39;00m is_integer(indexer):\n\u001b[1;32m   3898\u001b[0m     indexer \u001b[38;5;241m=\u001b[39m [indexer]\n",
      "File \u001b[0;32m~/.local/lib/python3.12/site-packages/pandas/core/indexes/base.py:3797\u001b[0m, in \u001b[0;36mIndex.get_loc\u001b[0;34m(self, key)\u001b[0m\n\u001b[1;32m   3792\u001b[0m     \u001b[38;5;28;01mif\u001b[39;00m \u001b[38;5;28misinstance\u001b[39m(casted_key, \u001b[38;5;28mslice\u001b[39m) \u001b[38;5;129;01mor\u001b[39;00m (\n\u001b[1;32m   3793\u001b[0m         \u001b[38;5;28misinstance\u001b[39m(casted_key, abc\u001b[38;5;241m.\u001b[39mIterable)\n\u001b[1;32m   3794\u001b[0m         \u001b[38;5;129;01mand\u001b[39;00m \u001b[38;5;28many\u001b[39m(\u001b[38;5;28misinstance\u001b[39m(x, \u001b[38;5;28mslice\u001b[39m) \u001b[38;5;28;01mfor\u001b[39;00m x \u001b[38;5;129;01min\u001b[39;00m casted_key)\n\u001b[1;32m   3795\u001b[0m     ):\n\u001b[1;32m   3796\u001b[0m         \u001b[38;5;28;01mraise\u001b[39;00m InvalidIndexError(key)\n\u001b[0;32m-> 3797\u001b[0m     \u001b[38;5;28;01mraise\u001b[39;00m \u001b[38;5;167;01mKeyError\u001b[39;00m(key) \u001b[38;5;28;01mfrom\u001b[39;00m \u001b[38;5;21;01merr\u001b[39;00m\n\u001b[1;32m   3798\u001b[0m \u001b[38;5;28;01mexcept\u001b[39;00m \u001b[38;5;167;01mTypeError\u001b[39;00m:\n\u001b[1;32m   3799\u001b[0m     \u001b[38;5;66;03m# If we have a listlike key, _check_indexing_error will raise\u001b[39;00m\n\u001b[1;32m   3800\u001b[0m     \u001b[38;5;66;03m#  InvalidIndexError. Otherwise we fall through and re-raise\u001b[39;00m\n\u001b[1;32m   3801\u001b[0m     \u001b[38;5;66;03m#  the TypeError.\u001b[39;00m\n\u001b[1;32m   3802\u001b[0m     \u001b[38;5;28mself\u001b[39m\u001b[38;5;241m.\u001b[39m_check_indexing_error(key)\n",
      "\u001b[0;31mKeyError\u001b[0m: 'Bitcoin_Close_power'"
     ]
    }
   ],
   "source": [
    "import seaborn as sns\n",
    "import matplotlib.pyplot as plt\n",
    "\n",
    "sns.histplot(df['Bitcoin_Close_power'], bins=50, kde=True)\n",
    "plt.title('Transformed Bitcoin_Close (Power = 0.5)')\n",
    "plt.xlabel('Bitcoin_Close_power')\n",
    "plt.ylabel('Count')\n",
    "plt.show()"
   ]
  },
  {
   "cell_type": "code",
   "execution_count": null,
   "id": "fd6df39c",
   "metadata": {},
   "outputs": [],
   "source": []
  }
 ],
 "metadata": {
  "kernelspec": {
   "display_name": "3.12.1",
   "language": "python",
   "name": "python3"
  },
  "language_info": {
   "codemirror_mode": {
    "name": "ipython",
    "version": 3
   },
   "file_extension": ".py",
   "mimetype": "text/x-python",
   "name": "python",
   "nbconvert_exporter": "python",
   "pygments_lexer": "ipython3",
   "version": "3.12.1"
  }
 },
 "nbformat": 4,
 "nbformat_minor": 5
}
