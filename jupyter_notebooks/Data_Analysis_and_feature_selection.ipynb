{
 "cells": [
  {
   "cell_type": "markdown",
   "id": "d0099d9f",
   "metadata": {},
   "source": [
    "# **Data Analysis & Feature Selection Notebook**\n",
    "\n",
    "## Objectives\n",
    "\n",
    "* This notebook will be used to test the dataset for use going forward by performing correlation tests & PPS analysis.\n",
    "\n",
    "* Our aim is to reduce the number of columns significantly after the feature engineering already performed.  Using the test results from correlation and PPS, we hope to select those features with the greatest meaning for our dataset and prune it down to a lean and meaningful dataset ready for modeling.\n",
    "\n",
    "## Inputs\n",
    "\n",
    "* We will use the BitCoinVsMacroNasdaq_v4 dataset saved within outputs/datasets/collection\n",
    "\n",
    "## Outputs\n",
    "\n",
    "* Create the train and test datasets from the cleaned and tested dataset"
   ]
  },
  {
   "cell_type": "markdown",
   "id": "718f9df8",
   "metadata": {},
   "source": [
    "---"
   ]
  },
  {
   "cell_type": "markdown",
   "id": "d5a9c4c5",
   "metadata": {},
   "source": [
    "# Change working directory"
   ]
  },
  {
   "cell_type": "markdown",
   "id": "bc01f613",
   "metadata": {},
   "source": [
    "We need to change the working directory from its current folder to its parent folder\n",
    "* We access the current directory with os.getcwd()"
   ]
  },
  {
   "cell_type": "code",
   "execution_count": 1,
   "id": "987ed63c",
   "metadata": {},
   "outputs": [
    {
     "data": {
      "text/plain": [
       "'/workspaces/Project5/jupyter_notebooks'"
      ]
     },
     "execution_count": 1,
     "metadata": {},
     "output_type": "execute_result"
    }
   ],
   "source": [
    "import os\n",
    "current_dir = os.getcwd()\n",
    "current_dir"
   ]
  },
  {
   "cell_type": "markdown",
   "id": "51c5cbb7",
   "metadata": {},
   "source": [
    "We want to make the parent of the current directory the new current directory\n",
    "* os.path.dirname() gets the parent directory\n",
    "* os.chir() defines the new current directory"
   ]
  },
  {
   "cell_type": "code",
   "execution_count": 2,
   "id": "3bcab90c",
   "metadata": {},
   "outputs": [
    {
     "name": "stdout",
     "output_type": "stream",
     "text": [
      "You set a new current directory\n"
     ]
    }
   ],
   "source": [
    "os.chdir(os.path.dirname(current_dir))\n",
    "print(\"You set a new current directory\")"
   ]
  },
  {
   "cell_type": "markdown",
   "id": "e41f75b1",
   "metadata": {},
   "source": [
    "Confirm the new current directory"
   ]
  },
  {
   "cell_type": "code",
   "execution_count": 3,
   "id": "8529aa62",
   "metadata": {},
   "outputs": [
    {
     "data": {
      "text/plain": [
       "'/workspaces/Project5'"
      ]
     },
     "execution_count": 3,
     "metadata": {},
     "output_type": "execute_result"
    }
   ],
   "source": [
    "current_dir = os.getcwd()\n",
    "current_dir"
   ]
  },
  {
   "cell_type": "markdown",
   "id": "804c1103",
   "metadata": {},
   "source": [
    "---"
   ]
  },
  {
   "cell_type": "markdown",
   "id": "38f069a9",
   "metadata": {},
   "source": [
    "# Analyse combined dataset"
   ]
  },
  {
   "cell_type": "markdown",
   "id": "529989e8",
   "metadata": {},
   "source": [
    "### Load and sort the data"
   ]
  },
  {
   "cell_type": "code",
   "execution_count": 60,
   "id": "795a923b",
   "metadata": {},
   "outputs": [
    {
     "data": {
      "text/html": [
       "<div>\n",
       "<style scoped>\n",
       "    .dataframe tbody tr th:only-of-type {\n",
       "        vertical-align: middle;\n",
       "    }\n",
       "\n",
       "    .dataframe tbody tr th {\n",
       "        vertical-align: top;\n",
       "    }\n",
       "\n",
       "    .dataframe thead th {\n",
       "        text-align: right;\n",
       "    }\n",
       "</style>\n",
       "<table border=\"1\" class=\"dataframe\">\n",
       "  <thead>\n",
       "    <tr style=\"text-align: right;\">\n",
       "      <th></th>\n",
       "      <th>Date</th>\n",
       "      <th>Bitcoin_Close</th>\n",
       "      <th>Nasdaq_Close</th>\n",
       "      <th>Gold_Close</th>\n",
       "      <th>Brent_Close</th>\n",
       "      <th>CPI</th>\n",
       "      <th>Ten_Year_Yield</th>\n",
       "      <th>Fed_Funds_Rate</th>\n",
       "      <th>M2_Money_Supply</th>\n",
       "      <th>VIX</th>\n",
       "      <th>Consumer_Sentiment</th>\n",
       "      <th>Real_GDP</th>\n",
       "      <th>Unemployment_Rate</th>\n",
       "      <th>Retail_Sales</th>\n",
       "      <th>Debt_to_GDP</th>\n",
       "    </tr>\n",
       "  </thead>\n",
       "  <tbody>\n",
       "    <tr>\n",
       "      <th>0</th>\n",
       "      <td>2010-07-18</td>\n",
       "      <td>0.0500</td>\n",
       "      <td>2198.229980</td>\n",
       "      <td>1181.699951</td>\n",
       "      <td>75.620003</td>\n",
       "      <td>217.605</td>\n",
       "      <td>2.99</td>\n",
       "      <td>0.18</td>\n",
       "      <td>8639.8</td>\n",
       "      <td>25.97</td>\n",
       "      <td>67.8</td>\n",
       "      <td>16872.266</td>\n",
       "      <td>9.4</td>\n",
       "      <td>347612.0</td>\n",
       "      <td>89.56528</td>\n",
       "    </tr>\n",
       "    <tr>\n",
       "      <th>1</th>\n",
       "      <td>2010-07-19</td>\n",
       "      <td>0.0858</td>\n",
       "      <td>2198.229980</td>\n",
       "      <td>1181.699951</td>\n",
       "      <td>75.620003</td>\n",
       "      <td>217.605</td>\n",
       "      <td>2.99</td>\n",
       "      <td>0.18</td>\n",
       "      <td>8639.8</td>\n",
       "      <td>25.97</td>\n",
       "      <td>67.8</td>\n",
       "      <td>16872.266</td>\n",
       "      <td>9.4</td>\n",
       "      <td>347612.0</td>\n",
       "      <td>89.56528</td>\n",
       "    </tr>\n",
       "    <tr>\n",
       "      <th>2</th>\n",
       "      <td>2010-07-20</td>\n",
       "      <td>0.0808</td>\n",
       "      <td>2222.489990</td>\n",
       "      <td>1191.500000</td>\n",
       "      <td>76.220001</td>\n",
       "      <td>217.605</td>\n",
       "      <td>2.98</td>\n",
       "      <td>0.18</td>\n",
       "      <td>8639.8</td>\n",
       "      <td>23.93</td>\n",
       "      <td>67.8</td>\n",
       "      <td>16872.266</td>\n",
       "      <td>9.4</td>\n",
       "      <td>347612.0</td>\n",
       "      <td>89.56528</td>\n",
       "    </tr>\n",
       "    <tr>\n",
       "      <th>3</th>\n",
       "      <td>2010-07-21</td>\n",
       "      <td>0.0747</td>\n",
       "      <td>2187.330078</td>\n",
       "      <td>1191.599976</td>\n",
       "      <td>75.370003</td>\n",
       "      <td>217.605</td>\n",
       "      <td>2.90</td>\n",
       "      <td>0.18</td>\n",
       "      <td>8639.8</td>\n",
       "      <td>25.64</td>\n",
       "      <td>67.8</td>\n",
       "      <td>16872.266</td>\n",
       "      <td>9.4</td>\n",
       "      <td>347612.0</td>\n",
       "      <td>89.56528</td>\n",
       "    </tr>\n",
       "    <tr>\n",
       "      <th>4</th>\n",
       "      <td>2010-07-22</td>\n",
       "      <td>0.0792</td>\n",
       "      <td>2245.889893</td>\n",
       "      <td>1195.500000</td>\n",
       "      <td>77.820000</td>\n",
       "      <td>217.605</td>\n",
       "      <td>2.96</td>\n",
       "      <td>0.18</td>\n",
       "      <td>8639.8</td>\n",
       "      <td>24.63</td>\n",
       "      <td>67.8</td>\n",
       "      <td>16872.266</td>\n",
       "      <td>9.4</td>\n",
       "      <td>347612.0</td>\n",
       "      <td>89.56528</td>\n",
       "    </tr>\n",
       "  </tbody>\n",
       "</table>\n",
       "</div>"
      ],
      "text/plain": [
       "         Date  Bitcoin_Close  Nasdaq_Close   Gold_Close  Brent_Close      CPI  \\\n",
       "0  2010-07-18         0.0500   2198.229980  1181.699951    75.620003  217.605   \n",
       "1  2010-07-19         0.0858   2198.229980  1181.699951    75.620003  217.605   \n",
       "2  2010-07-20         0.0808   2222.489990  1191.500000    76.220001  217.605   \n",
       "3  2010-07-21         0.0747   2187.330078  1191.599976    75.370003  217.605   \n",
       "4  2010-07-22         0.0792   2245.889893  1195.500000    77.820000  217.605   \n",
       "\n",
       "   Ten_Year_Yield  Fed_Funds_Rate  M2_Money_Supply    VIX  Consumer_Sentiment  \\\n",
       "0            2.99            0.18           8639.8  25.97                67.8   \n",
       "1            2.99            0.18           8639.8  25.97                67.8   \n",
       "2            2.98            0.18           8639.8  23.93                67.8   \n",
       "3            2.90            0.18           8639.8  25.64                67.8   \n",
       "4            2.96            0.18           8639.8  24.63                67.8   \n",
       "\n",
       "    Real_GDP  Unemployment_Rate  Retail_Sales  Debt_to_GDP  \n",
       "0  16872.266                9.4      347612.0     89.56528  \n",
       "1  16872.266                9.4      347612.0     89.56528  \n",
       "2  16872.266                9.4      347612.0     89.56528  \n",
       "3  16872.266                9.4      347612.0     89.56528  \n",
       "4  16872.266                9.4      347612.0     89.56528  "
      ]
     },
     "execution_count": 60,
     "metadata": {},
     "output_type": "execute_result"
    }
   ],
   "source": [
    "import pandas as pd\n",
    "df_enriched = pd.read_csv(f\"outputs/datasets/collection/BitCoinVsMacroNasdaq_v5.csv\")\n",
    "df_enriched.head()"
   ]
  },
  {
   "cell_type": "code",
   "execution_count": 61,
   "id": "57ddd7df",
   "metadata": {},
   "outputs": [],
   "source": [
    "df_enriched[\"Date\"] = pd.to_datetime(df_enriched[\"Date\"])\n",
    "df_enriched = df_enriched.sort_values(\"Date\")"
   ]
  },
  {
   "cell_type": "markdown",
   "id": "76af9b93",
   "metadata": {},
   "source": [
    "Check BitCoin price history and distribution"
   ]
  },
  {
   "cell_type": "code",
   "execution_count": 62,
   "id": "8daed678",
   "metadata": {},
   "outputs": [
    {
     "data": {
      "image/png": "[encoded data removed]",
      "text/plain": [
       "<Figure size 640x480 with 1 Axes>"
      ]
     },
     "metadata": {},
     "output_type": "display_data"
    }
   ],
   "source": [
    "import seaborn as sns\n",
    "import matplotlib.pyplot as plt\n",
    "\n",
    "sns.lineplot(data=df_enriched, x=\"Date\", y=\"Bitcoin_Close\")\n",
    "\n",
    "plt.title(\"BitCoin Price History\")\n",
    "plt.xlabel(\"Date\")\n",
    "plt.ylabel(\"BitCoin Price\")\n",
    "plt.xticks(rotation=45)\n",
    "plt.tight_layout()\n",
    "plt.show()\n"
   ]
  },
  {
   "cell_type": "code",
   "execution_count": 65,
   "id": "d4abcbe1",
   "metadata": {},
   "outputs": [
    {
     "data": {
      "image/png": "[encoded data removed]",
      "text/plain": [
       "<Figure size 640x480 with 1 Axes>"
      ]
     },
     "metadata": {},
     "output_type": "display_data"
    }
   ],
   "source": [
    "import seaborn as sns\n",
    "import matplotlib.pyplot as plt\n",
    "\n",
    "sns.histplot(data=df_enriched, x=\"Bitcoin_Close\", kde=True, bins=30, color=\"steelblue\")\n",
    "\n",
    "plt.title(\"Distribution of BitCoin Price\")\n",
    "plt.xlabel(\"Bitcoin Closing Price\")\n",
    "plt.ylabel(\"Frequency\")\n",
    "plt.tight_layout()\n",
    "plt.show()\n"
   ]
  },
  {
   "cell_type": "markdown",
   "id": "0bc1508d",
   "metadata": {},
   "source": [
    "We can see that the price of BitCoin was stable right up to 2017 and then started to gather momentum.  We then see large increases over shorter periods of time.\n",
    "\n",
    "As a result the distribution of the BitCoin price is not normal and may require transforming."
   ]
  },
  {
   "cell_type": "markdown",
   "id": "bea96122",
   "metadata": {},
   "source": [
    "---"
   ]
  },
  {
   "cell_type": "markdown",
   "id": "6d8e9389",
   "metadata": {},
   "source": [
    "# Perform correlation & PPS review"
   ]
  },
  {
   "cell_type": "markdown",
   "id": "596c8013",
   "metadata": {},
   "source": [
    "Here, we will perform a Spearman correlation review, which tells us the monotonic relationship between features i.e. as one increases, the other increases or decreases, but not necessarily at the same rate."
   ]
  },
  {
   "cell_type": "code",
   "execution_count": 8,
   "id": "7146f0e7",
   "metadata": {},
   "outputs": [
    {
     "data": {
      "text/plain": [
       "Nasdaq_Close          0.979650\n",
       "CPI                   0.970699\n",
       "Retail_Sales          0.964372\n",
       "Real_GDP              0.963363\n",
       "M2_Money_Supply       0.961354\n",
       "Debt_to_GDP           0.915886\n",
       "Unemployment_Rate     0.679118\n",
       "Gold_Close            0.613852\n",
       "Fed_Funds_Rate        0.473553\n",
       "Ten_Year_Yield        0.257468\n",
       "Brent_Close           0.254973\n",
       "Consumer_Sentiment    0.215752\n",
       "VIX                   0.070919\n",
       "Name: Bitcoin_Close, dtype: float64"
      ]
     },
     "execution_count": 8,
     "metadata": {},
     "output_type": "execute_result"
    }
   ],
   "source": [
    "corr_spearman = df_enriched.corr(method='spearman', numeric_only=True)['Bitcoin_Close'].drop('Bitcoin_Close').apply(abs).sort_values(ascending=False)\n",
    "corr_spearman"
   ]
  },
  {
   "cell_type": "markdown",
   "id": "7ee95e24",
   "metadata": {},
   "source": [
    "We can see a number of highly correlated absolute features in the dataset.  Many of which are above 90%.\n",
    "\n",
    "We will now perform a Pearson correlation test, which measures the linear relationship between features i.e. each increase in one feature causes a fixed or proportional change in another"
   ]
  },
  {
   "cell_type": "code",
   "execution_count": 9,
   "id": "5ebba682",
   "metadata": {},
   "outputs": [
    {
     "data": {
      "text/plain": [
       "Nasdaq_Close          0.915067\n",
       "Gold_Close            0.885899\n",
       "CPI                   0.850711\n",
       "Retail_Sales          0.841639\n",
       "Real_GDP              0.808054\n",
       "M2_Money_Supply       0.793514\n",
       "Debt_to_GDP           0.719441\n",
       "Fed_Funds_Rate        0.633266\n",
       "Ten_Year_Yield        0.508819\n",
       "Consumer_Sentiment    0.468182\n",
       "Unemployment_Rate     0.381728\n",
       "VIX                   0.063427\n",
       "Brent_Close           0.055733\n",
       "Name: Bitcoin_Close, dtype: float64"
      ]
     },
     "execution_count": 9,
     "metadata": {},
     "output_type": "execute_result"
    }
   ],
   "source": [
    "corr_pearson = df_enriched.corr(method='pearson', numeric_only=True)['Bitcoin_Close'].drop('Bitcoin_Close').apply(abs).sort_values(ascending=False)\n",
    "corr_pearson"
   ]
  },
  {
   "cell_type": "markdown",
   "id": "766134c7",
   "metadata": {},
   "source": [
    "Again, the results show a number of highly correlated features, but lesser than those captured under Spearman."
   ]
  },
  {
   "cell_type": "markdown",
   "id": "95063772",
   "metadata": {},
   "source": [
    "Finally, we will calculate the Predictive Power Score (PPS).  It tells us how well one feature can predict another feature."
   ]
  },
  {
   "cell_type": "code",
   "execution_count": 10,
   "id": "2e487751",
   "metadata": {},
   "outputs": [],
   "source": [
    "import numpy as np\n",
    "import matplotlib.pyplot as plt\n",
    "import seaborn as sns\n",
    "import ppscore as pps\n",
    "\n",
    "def CalculatePPS(df):\n",
    "    pps_matrix_raw = pps.matrix(df)\n",
    "    pps_matrix = pps_matrix_raw.filter(['x', 'y', 'ppscore']).pivot(columns='x', index='y', values='ppscore')\n",
    "\n",
    "    pps_score_stats = pps_matrix_raw.query(\"ppscore < 1\").filter(['ppscore']).describe().T\n",
    "    print(\"PPS threshold - check PPS score IQR to decide threshold for heatmap \\n\")\n",
    "    print(pps_score_stats.round(3))\n",
    "\n",
    "    return pps_matrix"
   ]
  },
  {
   "cell_type": "code",
   "execution_count": 11,
   "id": "b5892f14",
   "metadata": {},
   "outputs": [
    {
     "name": "stderr",
     "output_type": "stream",
     "text": [
      "/home/cistudent/.local/lib/python3.12/site-packages/ppscore/calculation.py:201: FutureWarning: is_categorical_dtype is deprecated and will be removed in a future version. Use isinstance(dtype, CategoricalDtype) instead\n",
      "  or is_categorical_dtype(series)\n",
      "/home/cistudent/.local/lib/python3.12/site-packages/ppscore/calculation.py:201: FutureWarning: is_categorical_dtype is deprecated and will be removed in a future version. Use isinstance(dtype, CategoricalDtype) instead\n",
      "  or is_categorical_dtype(series)\n",
      "/home/cistudent/.local/lib/python3.12/site-packages/ppscore/calculation.py:201: FutureWarning: is_categorical_dtype is deprecated and will be removed in a future version. Use isinstance(dtype, CategoricalDtype) instead\n",
      "  or is_categorical_dtype(series)\n",
      "/home/cistudent/.local/lib/python3.12/site-packages/ppscore/calculation.py:201: FutureWarning: is_categorical_dtype is deprecated and will be removed in a future version. Use isinstance(dtype, CategoricalDtype) instead\n",
      "  or is_categorical_dtype(series)\n",
      "/home/cistudent/.local/lib/python3.12/site-packages/ppscore/calculation.py:201: FutureWarning: is_categorical_dtype is deprecated and will be removed in a future version. Use isinstance(dtype, CategoricalDtype) instead\n",
      "  or is_categorical_dtype(series)\n",
      "/home/cistudent/.local/lib/python3.12/site-packages/ppscore/calculation.py:201: FutureWarning: is_categorical_dtype is deprecated and will be removed in a future version. Use isinstance(dtype, CategoricalDtype) instead\n",
      "  or is_categorical_dtype(series)\n",
      "/home/cistudent/.local/lib/python3.12/site-packages/ppscore/calculation.py:201: FutureWarning: is_categorical_dtype is deprecated and will be removed in a future version. Use isinstance(dtype, CategoricalDtype) instead\n",
      "  or is_categorical_dtype(series)\n",
      "/home/cistudent/.local/lib/python3.12/site-packages/ppscore/calculation.py:201: FutureWarning: is_categorical_dtype is deprecated and will be removed in a future version. Use isinstance(dtype, CategoricalDtype) instead\n",
      "  or is_categorical_dtype(series)\n",
      "/home/cistudent/.local/lib/python3.12/site-packages/ppscore/calculation.py:201: FutureWarning: is_categorical_dtype is deprecated and will be removed in a future version. Use isinstance(dtype, CategoricalDtype) instead\n",
      "  or is_categorical_dtype(series)\n",
      "/home/cistudent/.local/lib/python3.12/site-packages/ppscore/calculation.py:201: FutureWarning: is_categorical_dtype is deprecated and will be removed in a future version. Use isinstance(dtype, CategoricalDtype) instead\n",
      "  or is_categorical_dtype(series)\n",
      "/home/cistudent/.local/lib/python3.12/site-packages/ppscore/calculation.py:201: FutureWarning: is_categorical_dtype is deprecated and will be removed in a future version. Use isinstance(dtype, CategoricalDtype) instead\n",
      "  or is_categorical_dtype(series)\n",
      "/home/cistudent/.local/lib/python3.12/site-packages/ppscore/calculation.py:201: FutureWarning: is_categorical_dtype is deprecated and will be removed in a future version. Use isinstance(dtype, CategoricalDtype) instead\n",
      "  or is_categorical_dtype(series)\n",
      "/home/cistudent/.local/lib/python3.12/site-packages/ppscore/calculation.py:201: FutureWarning: is_categorical_dtype is deprecated and will be removed in a future version. Use isinstance(dtype, CategoricalDtype) instead\n",
      "  or is_categorical_dtype(series)\n",
      "/home/cistudent/.local/lib/python3.12/site-packages/ppscore/calculation.py:201: FutureWarning: is_categorical_dtype is deprecated and will be removed in a future version. Use isinstance(dtype, CategoricalDtype) instead\n",
      "  or is_categorical_dtype(series)\n",
      "/home/cistudent/.local/lib/python3.12/site-packages/ppscore/calculation.py:201: FutureWarning: is_categorical_dtype is deprecated and will be removed in a future version. Use isinstance(dtype, CategoricalDtype) instead\n",
      "  or is_categorical_dtype(series)\n",
      "/home/cistudent/.local/lib/python3.12/site-packages/ppscore/calculation.py:201: FutureWarning: is_categorical_dtype is deprecated and will be removed in a future version. Use isinstance(dtype, CategoricalDtype) instead\n",
      "  or is_categorical_dtype(series)\n",
      "/home/cistudent/.local/lib/python3.12/site-packages/ppscore/calculation.py:201: FutureWarning: is_categorical_dtype is deprecated and will be removed in a future version. Use isinstance(dtype, CategoricalDtype) instead\n",
      "  or is_categorical_dtype(series)\n",
      "/home/cistudent/.local/lib/python3.12/site-packages/ppscore/calculation.py:201: FutureWarning: is_categorical_dtype is deprecated and will be removed in a future version. Use isinstance(dtype, CategoricalDtype) instead\n",
      "  or is_categorical_dtype(series)\n",
      "/home/cistudent/.local/lib/python3.12/site-packages/ppscore/calculation.py:201: FutureWarning: is_categorical_dtype is deprecated and will be removed in a future version. Use isinstance(dtype, CategoricalDtype) instead\n",
      "  or is_categorical_dtype(series)\n",
      "/home/cistudent/.local/lib/python3.12/site-packages/ppscore/calculation.py:201: FutureWarning: is_categorical_dtype is deprecated and will be removed in a future version. Use isinstance(dtype, CategoricalDtype) instead\n",
      "  or is_categorical_dtype(series)\n",
      "/home/cistudent/.local/lib/python3.12/site-packages/ppscore/calculation.py:201: FutureWarning: is_categorical_dtype is deprecated and will be removed in a future version. Use isinstance(dtype, CategoricalDtype) instead\n",
      "  or is_categorical_dtype(series)\n",
      "/home/cistudent/.local/lib/python3.12/site-packages/ppscore/calculation.py:201: FutureWarning: is_categorical_dtype is deprecated and will be removed in a future version. Use isinstance(dtype, CategoricalDtype) instead\n",
      "  or is_categorical_dtype(series)\n",
      "/home/cistudent/.local/lib/python3.12/site-packages/ppscore/calculation.py:201: FutureWarning: is_categorical_dtype is deprecated and will be removed in a future version. Use isinstance(dtype, CategoricalDtype) instead\n",
      "  or is_categorical_dtype(series)\n",
      "/home/cistudent/.local/lib/python3.12/site-packages/ppscore/calculation.py:201: FutureWarning: is_categorical_dtype is deprecated and will be removed in a future version. Use isinstance(dtype, CategoricalDtype) instead\n",
      "  or is_categorical_dtype(series)\n",
      "/home/cistudent/.local/lib/python3.12/site-packages/ppscore/calculation.py:201: FutureWarning: is_categorical_dtype is deprecated and will be removed in a future version. Use isinstance(dtype, CategoricalDtype) instead\n",
      "  or is_categorical_dtype(series)\n",
      "/home/cistudent/.local/lib/python3.12/site-packages/ppscore/calculation.py:201: FutureWarning: is_categorical_dtype is deprecated and will be removed in a future version. Use isinstance(dtype, CategoricalDtype) instead\n",
      "  or is_categorical_dtype(series)\n",
      "/home/cistudent/.local/lib/python3.12/site-packages/ppscore/calculation.py:201: FutureWarning: is_categorical_dtype is deprecated and will be removed in a future version. Use isinstance(dtype, CategoricalDtype) instead\n",
      "  or is_categorical_dtype(series)\n",
      "/home/cistudent/.local/lib/python3.12/site-packages/ppscore/calculation.py:201: FutureWarning: is_categorical_dtype is deprecated and will be removed in a future version. Use isinstance(dtype, CategoricalDtype) instead\n",
      "  or is_categorical_dtype(series)\n",
      "/home/cistudent/.local/lib/python3.12/site-packages/ppscore/calculation.py:201: FutureWarning: is_categorical_dtype is deprecated and will be removed in a future version. Use isinstance(dtype, CategoricalDtype) instead\n",
      "  or is_categorical_dtype(series)\n",
      "/home/cistudent/.local/lib/python3.12/site-packages/ppscore/calculation.py:201: FutureWarning: is_categorical_dtype is deprecated and will be removed in a future version. Use isinstance(dtype, CategoricalDtype) instead\n",
      "  or is_categorical_dtype(series)\n",
      "/home/cistudent/.local/lib/python3.12/site-packages/ppscore/calculation.py:201: FutureWarning: is_categorical_dtype is deprecated and will be removed in a future version. Use isinstance(dtype, CategoricalDtype) instead\n",
      "  or is_categorical_dtype(series)\n",
      "/home/cistudent/.local/lib/python3.12/site-packages/ppscore/calculation.py:201: FutureWarning: is_categorical_dtype is deprecated and will be removed in a future version. Use isinstance(dtype, CategoricalDtype) instead\n",
      "  or is_categorical_dtype(series)\n",
      "/home/cistudent/.local/lib/python3.12/site-packages/ppscore/calculation.py:201: FutureWarning: is_categorical_dtype is deprecated and will be removed in a future version. Use isinstance(dtype, CategoricalDtype) instead\n",
      "  or is_categorical_dtype(series)\n",
      "/home/cistudent/.local/lib/python3.12/site-packages/ppscore/calculation.py:201: FutureWarning: is_categorical_dtype is deprecated and will be removed in a future version. Use isinstance(dtype, CategoricalDtype) instead\n",
      "  or is_categorical_dtype(series)\n",
      "/home/cistudent/.local/lib/python3.12/site-packages/ppscore/calculation.py:201: FutureWarning: is_categorical_dtype is deprecated and will be removed in a future version. Use isinstance(dtype, CategoricalDtype) instead\n",
      "  or is_categorical_dtype(series)\n",
      "/home/cistudent/.local/lib/python3.12/site-packages/ppscore/calculation.py:201: FutureWarning: is_categorical_dtype is deprecated and will be removed in a future version. Use isinstance(dtype, CategoricalDtype) instead\n",
      "  or is_categorical_dtype(series)\n",
      "/home/cistudent/.local/lib/python3.12/site-packages/ppscore/calculation.py:201: FutureWarning: is_categorical_dtype is deprecated and will be removed in a future version. Use isinstance(dtype, CategoricalDtype) instead\n",
      "  or is_categorical_dtype(series)\n",
      "/home/cistudent/.local/lib/python3.12/site-packages/ppscore/calculation.py:201: FutureWarning: is_categorical_dtype is deprecated and will be removed in a future version. Use isinstance(dtype, CategoricalDtype) instead\n",
      "  or is_categorical_dtype(series)\n",
      "/home/cistudent/.local/lib/python3.12/site-packages/ppscore/calculation.py:201: FutureWarning: is_categorical_dtype is deprecated and will be removed in a future version. Use isinstance(dtype, CategoricalDtype) instead\n",
      "  or is_categorical_dtype(series)\n",
      "/home/cistudent/.local/lib/python3.12/site-packages/ppscore/calculation.py:201: FutureWarning: is_categorical_dtype is deprecated and will be removed in a future version. Use isinstance(dtype, CategoricalDtype) instead\n",
      "  or is_categorical_dtype(series)\n",
      "/home/cistudent/.local/lib/python3.12/site-packages/ppscore/calculation.py:201: FutureWarning: is_categorical_dtype is deprecated and will be removed in a future version. Use isinstance(dtype, CategoricalDtype) instead\n",
      "  or is_categorical_dtype(series)\n",
      "/home/cistudent/.local/lib/python3.12/site-packages/ppscore/calculation.py:201: FutureWarning: is_categorical_dtype is deprecated and will be removed in a future version. Use isinstance(dtype, CategoricalDtype) instead\n",
      "  or is_categorical_dtype(series)\n",
      "/home/cistudent/.local/lib/python3.12/site-packages/ppscore/calculation.py:201: FutureWarning: is_categorical_dtype is deprecated and will be removed in a future version. Use isinstance(dtype, CategoricalDtype) instead\n",
      "  or is_categorical_dtype(series)\n",
      "/home/cistudent/.local/lib/python3.12/site-packages/ppscore/calculation.py:201: FutureWarning: is_categorical_dtype is deprecated and will be removed in a future version. Use isinstance(dtype, CategoricalDtype) instead\n",
      "  or is_categorical_dtype(series)\n",
      "/home/cistudent/.local/lib/python3.12/site-packages/ppscore/calculation.py:201: FutureWarning: is_categorical_dtype is deprecated and will be removed in a future version. Use isinstance(dtype, CategoricalDtype) instead\n",
      "  or is_categorical_dtype(series)\n",
      "/home/cistudent/.local/lib/python3.12/site-packages/ppscore/calculation.py:201: FutureWarning: is_categorical_dtype is deprecated and will be removed in a future version. Use isinstance(dtype, CategoricalDtype) instead\n",
      "  or is_categorical_dtype(series)\n",
      "/home/cistudent/.local/lib/python3.12/site-packages/ppscore/calculation.py:201: FutureWarning: is_categorical_dtype is deprecated and will be removed in a future version. Use isinstance(dtype, CategoricalDtype) instead\n",
      "  or is_categorical_dtype(series)\n",
      "/home/cistudent/.local/lib/python3.12/site-packages/ppscore/calculation.py:201: FutureWarning: is_categorical_dtype is deprecated and will be removed in a future version. Use isinstance(dtype, CategoricalDtype) instead\n",
      "  or is_categorical_dtype(series)\n",
      "/home/cistudent/.local/lib/python3.12/site-packages/ppscore/calculation.py:201: FutureWarning: is_categorical_dtype is deprecated and will be removed in a future version. Use isinstance(dtype, CategoricalDtype) instead\n",
      "  or is_categorical_dtype(series)\n",
      "/home/cistudent/.local/lib/python3.12/site-packages/ppscore/calculation.py:201: FutureWarning: is_categorical_dtype is deprecated and will be removed in a future version. Use isinstance(dtype, CategoricalDtype) instead\n",
      "  or is_categorical_dtype(series)\n",
      "/home/cistudent/.local/lib/python3.12/site-packages/ppscore/calculation.py:201: FutureWarning: is_categorical_dtype is deprecated and will be removed in a future version. Use isinstance(dtype, CategoricalDtype) instead\n",
      "  or is_categorical_dtype(series)\n",
      "/home/cistudent/.local/lib/python3.12/site-packages/ppscore/calculation.py:201: FutureWarning: is_categorical_dtype is deprecated and will be removed in a future version. Use isinstance(dtype, CategoricalDtype) instead\n",
      "  or is_categorical_dtype(series)\n",
      "/home/cistudent/.local/lib/python3.12/site-packages/ppscore/calculation.py:201: FutureWarning: is_categorical_dtype is deprecated and will be removed in a future version. Use isinstance(dtype, CategoricalDtype) instead\n",
      "  or is_categorical_dtype(series)\n",
      "/home/cistudent/.local/lib/python3.12/site-packages/ppscore/calculation.py:201: FutureWarning: is_categorical_dtype is deprecated and will be removed in a future version. Use isinstance(dtype, CategoricalDtype) instead\n",
      "  or is_categorical_dtype(series)\n",
      "/home/cistudent/.local/lib/python3.12/site-packages/ppscore/calculation.py:201: FutureWarning: is_categorical_dtype is deprecated and will be removed in a future version. Use isinstance(dtype, CategoricalDtype) instead\n",
      "  or is_categorical_dtype(series)\n",
      "/home/cistudent/.local/lib/python3.12/site-packages/ppscore/calculation.py:201: FutureWarning: is_categorical_dtype is deprecated and will be removed in a future version. Use isinstance(dtype, CategoricalDtype) instead\n",
      "  or is_categorical_dtype(series)\n",
      "/home/cistudent/.local/lib/python3.12/site-packages/ppscore/calculation.py:201: FutureWarning: is_categorical_dtype is deprecated and will be removed in a future version. Use isinstance(dtype, CategoricalDtype) instead\n",
      "  or is_categorical_dtype(series)\n",
      "/home/cistudent/.local/lib/python3.12/site-packages/ppscore/calculation.py:201: FutureWarning: is_categorical_dtype is deprecated and will be removed in a future version. Use isinstance(dtype, CategoricalDtype) instead\n",
      "  or is_categorical_dtype(series)\n",
      "/home/cistudent/.local/lib/python3.12/site-packages/ppscore/calculation.py:201: FutureWarning: is_categorical_dtype is deprecated and will be removed in a future version. Use isinstance(dtype, CategoricalDtype) instead\n",
      "  or is_categorical_dtype(series)\n",
      "/home/cistudent/.local/lib/python3.12/site-packages/ppscore/calculation.py:201: FutureWarning: is_categorical_dtype is deprecated and will be removed in a future version. Use isinstance(dtype, CategoricalDtype) instead\n",
      "  or is_categorical_dtype(series)\n",
      "/home/cistudent/.local/lib/python3.12/site-packages/ppscore/calculation.py:201: FutureWarning: is_categorical_dtype is deprecated and will be removed in a future version. Use isinstance(dtype, CategoricalDtype) instead\n",
      "  or is_categorical_dtype(series)\n",
      "/home/cistudent/.local/lib/python3.12/site-packages/ppscore/calculation.py:201: FutureWarning: is_categorical_dtype is deprecated and will be removed in a future version. Use isinstance(dtype, CategoricalDtype) instead\n",
      "  or is_categorical_dtype(series)\n",
      "/home/cistudent/.local/lib/python3.12/site-packages/ppscore/calculation.py:201: FutureWarning: is_categorical_dtype is deprecated and will be removed in a future version. Use isinstance(dtype, CategoricalDtype) instead\n",
      "  or is_categorical_dtype(series)\n",
      "/home/cistudent/.local/lib/python3.12/site-packages/ppscore/calculation.py:201: FutureWarning: is_categorical_dtype is deprecated and will be removed in a future version. Use isinstance(dtype, CategoricalDtype) instead\n",
      "  or is_categorical_dtype(series)\n",
      "/home/cistudent/.local/lib/python3.12/site-packages/ppscore/calculation.py:201: FutureWarning: is_categorical_dtype is deprecated and will be removed in a future version. Use isinstance(dtype, CategoricalDtype) instead\n",
      "  or is_categorical_dtype(series)\n",
      "/home/cistudent/.local/lib/python3.12/site-packages/ppscore/calculation.py:201: FutureWarning: is_categorical_dtype is deprecated and will be removed in a future version. Use isinstance(dtype, CategoricalDtype) instead\n",
      "  or is_categorical_dtype(series)\n",
      "/home/cistudent/.local/lib/python3.12/site-packages/ppscore/calculation.py:201: FutureWarning: is_categorical_dtype is deprecated and will be removed in a future version. Use isinstance(dtype, CategoricalDtype) instead\n",
      "  or is_categorical_dtype(series)\n",
      "/home/cistudent/.local/lib/python3.12/site-packages/ppscore/calculation.py:201: FutureWarning: is_categorical_dtype is deprecated and will be removed in a future version. Use isinstance(dtype, CategoricalDtype) instead\n",
      "  or is_categorical_dtype(series)\n",
      "/home/cistudent/.local/lib/python3.12/site-packages/ppscore/calculation.py:201: FutureWarning: is_categorical_dtype is deprecated and will be removed in a future version. Use isinstance(dtype, CategoricalDtype) instead\n",
      "  or is_categorical_dtype(series)\n",
      "/home/cistudent/.local/lib/python3.12/site-packages/ppscore/calculation.py:201: FutureWarning: is_categorical_dtype is deprecated and will be removed in a future version. Use isinstance(dtype, CategoricalDtype) instead\n",
      "  or is_categorical_dtype(series)\n",
      "/home/cistudent/.local/lib/python3.12/site-packages/ppscore/calculation.py:201: FutureWarning: is_categorical_dtype is deprecated and will be removed in a future version. Use isinstance(dtype, CategoricalDtype) instead\n",
      "  or is_categorical_dtype(series)\n",
      "/home/cistudent/.local/lib/python3.12/site-packages/ppscore/calculation.py:201: FutureWarning: is_categorical_dtype is deprecated and will be removed in a future version. Use isinstance(dtype, CategoricalDtype) instead\n",
      "  or is_categorical_dtype(series)\n",
      "/home/cistudent/.local/lib/python3.12/site-packages/ppscore/calculation.py:201: FutureWarning: is_categorical_dtype is deprecated and will be removed in a future version. Use isinstance(dtype, CategoricalDtype) instead\n",
      "  or is_categorical_dtype(series)\n",
      "/home/cistudent/.local/lib/python3.12/site-packages/ppscore/calculation.py:201: FutureWarning: is_categorical_dtype is deprecated and will be removed in a future version. Use isinstance(dtype, CategoricalDtype) instead\n",
      "  or is_categorical_dtype(series)\n",
      "/home/cistudent/.local/lib/python3.12/site-packages/ppscore/calculation.py:201: FutureWarning: is_categorical_dtype is deprecated and will be removed in a future version. Use isinstance(dtype, CategoricalDtype) instead\n",
      "  or is_categorical_dtype(series)\n",
      "/home/cistudent/.local/lib/python3.12/site-packages/ppscore/calculation.py:201: FutureWarning: is_categorical_dtype is deprecated and will be removed in a future version. Use isinstance(dtype, CategoricalDtype) instead\n",
      "  or is_categorical_dtype(series)\n",
      "/home/cistudent/.local/lib/python3.12/site-packages/ppscore/calculation.py:201: FutureWarning: is_categorical_dtype is deprecated and will be removed in a future version. Use isinstance(dtype, CategoricalDtype) instead\n",
      "  or is_categorical_dtype(series)\n",
      "/home/cistudent/.local/lib/python3.12/site-packages/ppscore/calculation.py:201: FutureWarning: is_categorical_dtype is deprecated and will be removed in a future version. Use isinstance(dtype, CategoricalDtype) instead\n",
      "  or is_categorical_dtype(series)\n",
      "/home/cistudent/.local/lib/python3.12/site-packages/ppscore/calculation.py:201: FutureWarning: is_categorical_dtype is deprecated and will be removed in a future version. Use isinstance(dtype, CategoricalDtype) instead\n",
      "  or is_categorical_dtype(series)\n",
      "/home/cistudent/.local/lib/python3.12/site-packages/ppscore/calculation.py:201: FutureWarning: is_categorical_dtype is deprecated and will be removed in a future version. Use isinstance(dtype, CategoricalDtype) instead\n",
      "  or is_categorical_dtype(series)\n",
      "/home/cistudent/.local/lib/python3.12/site-packages/ppscore/calculation.py:201: FutureWarning: is_categorical_dtype is deprecated and will be removed in a future version. Use isinstance(dtype, CategoricalDtype) instead\n",
      "  or is_categorical_dtype(series)\n",
      "/home/cistudent/.local/lib/python3.12/site-packages/ppscore/calculation.py:201: FutureWarning: is_categorical_dtype is deprecated and will be removed in a future version. Use isinstance(dtype, CategoricalDtype) instead\n",
      "  or is_categorical_dtype(series)\n",
      "/home/cistudent/.local/lib/python3.12/site-packages/ppscore/calculation.py:201: FutureWarning: is_categorical_dtype is deprecated and will be removed in a future version. Use isinstance(dtype, CategoricalDtype) instead\n",
      "  or is_categorical_dtype(series)\n",
      "/home/cistudent/.local/lib/python3.12/site-packages/ppscore/calculation.py:201: FutureWarning: is_categorical_dtype is deprecated and will be removed in a future version. Use isinstance(dtype, CategoricalDtype) instead\n",
      "  or is_categorical_dtype(series)\n",
      "/home/cistudent/.local/lib/python3.12/site-packages/ppscore/calculation.py:201: FutureWarning: is_categorical_dtype is deprecated and will be removed in a future version. Use isinstance(dtype, CategoricalDtype) instead\n",
      "  or is_categorical_dtype(series)\n",
      "/home/cistudent/.local/lib/python3.12/site-packages/ppscore/calculation.py:201: FutureWarning: is_categorical_dtype is deprecated and will be removed in a future version. Use isinstance(dtype, CategoricalDtype) instead\n",
      "  or is_categorical_dtype(series)\n",
      "/home/cistudent/.local/lib/python3.12/site-packages/ppscore/calculation.py:201: FutureWarning: is_categorical_dtype is deprecated and will be removed in a future version. Use isinstance(dtype, CategoricalDtype) instead\n",
      "  or is_categorical_dtype(series)\n",
      "/home/cistudent/.local/lib/python3.12/site-packages/ppscore/calculation.py:201: FutureWarning: is_categorical_dtype is deprecated and will be removed in a future version. Use isinstance(dtype, CategoricalDtype) instead\n",
      "  or is_categorical_dtype(series)\n",
      "/home/cistudent/.local/lib/python3.12/site-packages/ppscore/calculation.py:201: FutureWarning: is_categorical_dtype is deprecated and will be removed in a future version. Use isinstance(dtype, CategoricalDtype) instead\n",
      "  or is_categorical_dtype(series)\n",
      "/home/cistudent/.local/lib/python3.12/site-packages/ppscore/calculation.py:201: FutureWarning: is_categorical_dtype is deprecated and will be removed in a future version. Use isinstance(dtype, CategoricalDtype) instead\n",
      "  or is_categorical_dtype(series)\n",
      "/home/cistudent/.local/lib/python3.12/site-packages/ppscore/calculation.py:201: FutureWarning: is_categorical_dtype is deprecated and will be removed in a future version. Use isinstance(dtype, CategoricalDtype) instead\n",
      "  or is_categorical_dtype(series)\n",
      "/home/cistudent/.local/lib/python3.12/site-packages/ppscore/calculation.py:201: FutureWarning: is_categorical_dtype is deprecated and will be removed in a future version. Use isinstance(dtype, CategoricalDtype) instead\n",
      "  or is_categorical_dtype(series)\n",
      "/home/cistudent/.local/lib/python3.12/site-packages/ppscore/calculation.py:201: FutureWarning: is_categorical_dtype is deprecated and will be removed in a future version. Use isinstance(dtype, CategoricalDtype) instead\n",
      "  or is_categorical_dtype(series)\n",
      "/home/cistudent/.local/lib/python3.12/site-packages/ppscore/calculation.py:201: FutureWarning: is_categorical_dtype is deprecated and will be removed in a future version. Use isinstance(dtype, CategoricalDtype) instead\n",
      "  or is_categorical_dtype(series)\n",
      "/home/cistudent/.local/lib/python3.12/site-packages/ppscore/calculation.py:201: FutureWarning: is_categorical_dtype is deprecated and will be removed in a future version. Use isinstance(dtype, CategoricalDtype) instead\n",
      "  or is_categorical_dtype(series)\n",
      "/home/cistudent/.local/lib/python3.12/site-packages/ppscore/calculation.py:201: FutureWarning: is_categorical_dtype is deprecated and will be removed in a future version. Use isinstance(dtype, CategoricalDtype) instead\n",
      "  or is_categorical_dtype(series)\n",
      "/home/cistudent/.local/lib/python3.12/site-packages/ppscore/calculation.py:201: FutureWarning: is_categorical_dtype is deprecated and will be removed in a future version. Use isinstance(dtype, CategoricalDtype) instead\n",
      "  or is_categorical_dtype(series)\n",
      "/home/cistudent/.local/lib/python3.12/site-packages/ppscore/calculation.py:201: FutureWarning: is_categorical_dtype is deprecated and will be removed in a future version. Use isinstance(dtype, CategoricalDtype) instead\n",
      "  or is_categorical_dtype(series)\n",
      "/home/cistudent/.local/lib/python3.12/site-packages/ppscore/calculation.py:201: FutureWarning: is_categorical_dtype is deprecated and will be removed in a future version. Use isinstance(dtype, CategoricalDtype) instead\n",
      "  or is_categorical_dtype(series)\n",
      "/home/cistudent/.local/lib/python3.12/site-packages/ppscore/calculation.py:201: FutureWarning: is_categorical_dtype is deprecated and will be removed in a future version. Use isinstance(dtype, CategoricalDtype) instead\n",
      "  or is_categorical_dtype(series)\n",
      "/home/cistudent/.local/lib/python3.12/site-packages/ppscore/calculation.py:201: FutureWarning: is_categorical_dtype is deprecated and will be removed in a future version. Use isinstance(dtype, CategoricalDtype) instead\n",
      "  or is_categorical_dtype(series)\n",
      "/home/cistudent/.local/lib/python3.12/site-packages/ppscore/calculation.py:201: FutureWarning: is_categorical_dtype is deprecated and will be removed in a future version. Use isinstance(dtype, CategoricalDtype) instead\n",
      "  or is_categorical_dtype(series)\n",
      "/home/cistudent/.local/lib/python3.12/site-packages/ppscore/calculation.py:201: FutureWarning: is_categorical_dtype is deprecated and will be removed in a future version. Use isinstance(dtype, CategoricalDtype) instead\n",
      "  or is_categorical_dtype(series)\n",
      "/home/cistudent/.local/lib/python3.12/site-packages/ppscore/calculation.py:201: FutureWarning: is_categorical_dtype is deprecated and will be removed in a future version. Use isinstance(dtype, CategoricalDtype) instead\n",
      "  or is_categorical_dtype(series)\n",
      "/home/cistudent/.local/lib/python3.12/site-packages/ppscore/calculation.py:201: FutureWarning: is_categorical_dtype is deprecated and will be removed in a future version. Use isinstance(dtype, CategoricalDtype) instead\n",
      "  or is_categorical_dtype(series)\n",
      "/home/cistudent/.local/lib/python3.12/site-packages/ppscore/calculation.py:201: FutureWarning: is_categorical_dtype is deprecated and will be removed in a future version. Use isinstance(dtype, CategoricalDtype) instead\n",
      "  or is_categorical_dtype(series)\n",
      "/home/cistudent/.local/lib/python3.12/site-packages/ppscore/calculation.py:201: FutureWarning: is_categorical_dtype is deprecated and will be removed in a future version. Use isinstance(dtype, CategoricalDtype) instead\n",
      "  or is_categorical_dtype(series)\n",
      "/home/cistudent/.local/lib/python3.12/site-packages/ppscore/calculation.py:201: FutureWarning: is_categorical_dtype is deprecated and will be removed in a future version. Use isinstance(dtype, CategoricalDtype) instead\n",
      "  or is_categorical_dtype(series)\n",
      "/home/cistudent/.local/lib/python3.12/site-packages/ppscore/calculation.py:201: FutureWarning: is_categorical_dtype is deprecated and will be removed in a future version. Use isinstance(dtype, CategoricalDtype) instead\n",
      "  or is_categorical_dtype(series)\n",
      "/home/cistudent/.local/lib/python3.12/site-packages/ppscore/calculation.py:201: FutureWarning: is_categorical_dtype is deprecated and will be removed in a future version. Use isinstance(dtype, CategoricalDtype) instead\n",
      "  or is_categorical_dtype(series)\n",
      "/home/cistudent/.local/lib/python3.12/site-packages/ppscore/calculation.py:201: FutureWarning: is_categorical_dtype is deprecated and will be removed in a future version. Use isinstance(dtype, CategoricalDtype) instead\n",
      "  or is_categorical_dtype(series)\n",
      "/home/cistudent/.local/lib/python3.12/site-packages/ppscore/calculation.py:201: FutureWarning: is_categorical_dtype is deprecated and will be removed in a future version. Use isinstance(dtype, CategoricalDtype) instead\n",
      "  or is_categorical_dtype(series)\n",
      "/home/cistudent/.local/lib/python3.12/site-packages/ppscore/calculation.py:201: FutureWarning: is_categorical_dtype is deprecated and will be removed in a future version. Use isinstance(dtype, CategoricalDtype) instead\n",
      "  or is_categorical_dtype(series)\n",
      "/home/cistudent/.local/lib/python3.12/site-packages/ppscore/calculation.py:201: FutureWarning: is_categorical_dtype is deprecated and will be removed in a future version. Use isinstance(dtype, CategoricalDtype) instead\n",
      "  or is_categorical_dtype(series)\n",
      "/home/cistudent/.local/lib/python3.12/site-packages/ppscore/calculation.py:201: FutureWarning: is_categorical_dtype is deprecated and will be removed in a future version. Use isinstance(dtype, CategoricalDtype) instead\n",
      "  or is_categorical_dtype(series)\n",
      "/home/cistudent/.local/lib/python3.12/site-packages/ppscore/calculation.py:201: FutureWarning: is_categorical_dtype is deprecated and will be removed in a future version. Use isinstance(dtype, CategoricalDtype) instead\n",
      "  or is_categorical_dtype(series)\n",
      "/home/cistudent/.local/lib/python3.12/site-packages/ppscore/calculation.py:201: FutureWarning: is_categorical_dtype is deprecated and will be removed in a future version. Use isinstance(dtype, CategoricalDtype) instead\n",
      "  or is_categorical_dtype(series)\n",
      "/home/cistudent/.local/lib/python3.12/site-packages/ppscore/calculation.py:201: FutureWarning: is_categorical_dtype is deprecated and will be removed in a future version. Use isinstance(dtype, CategoricalDtype) instead\n",
      "  or is_categorical_dtype(series)\n",
      "/home/cistudent/.local/lib/python3.12/site-packages/ppscore/calculation.py:201: FutureWarning: is_categorical_dtype is deprecated and will be removed in a future version. Use isinstance(dtype, CategoricalDtype) instead\n",
      "  or is_categorical_dtype(series)\n",
      "/home/cistudent/.local/lib/python3.12/site-packages/ppscore/calculation.py:201: FutureWarning: is_categorical_dtype is deprecated and will be removed in a future version. Use isinstance(dtype, CategoricalDtype) instead\n",
      "  or is_categorical_dtype(series)\n",
      "/home/cistudent/.local/lib/python3.12/site-packages/ppscore/calculation.py:201: FutureWarning: is_categorical_dtype is deprecated and will be removed in a future version. Use isinstance(dtype, CategoricalDtype) instead\n",
      "  or is_categorical_dtype(series)\n",
      "/home/cistudent/.local/lib/python3.12/site-packages/ppscore/calculation.py:201: FutureWarning: is_categorical_dtype is deprecated and will be removed in a future version. Use isinstance(dtype, CategoricalDtype) instead\n",
      "  or is_categorical_dtype(series)\n",
      "/home/cistudent/.local/lib/python3.12/site-packages/ppscore/calculation.py:201: FutureWarning: is_categorical_dtype is deprecated and will be removed in a future version. Use isinstance(dtype, CategoricalDtype) instead\n",
      "  or is_categorical_dtype(series)\n",
      "/home/cistudent/.local/lib/python3.12/site-packages/ppscore/calculation.py:201: FutureWarning: is_categorical_dtype is deprecated and will be removed in a future version. Use isinstance(dtype, CategoricalDtype) instead\n",
      "  or is_categorical_dtype(series)\n",
      "/home/cistudent/.local/lib/python3.12/site-packages/ppscore/calculation.py:201: FutureWarning: is_categorical_dtype is deprecated and will be removed in a future version. Use isinstance(dtype, CategoricalDtype) instead\n",
      "  or is_categorical_dtype(series)\n",
      "/home/cistudent/.local/lib/python3.12/site-packages/ppscore/calculation.py:201: FutureWarning: is_categorical_dtype is deprecated and will be removed in a future version. Use isinstance(dtype, CategoricalDtype) instead\n",
      "  or is_categorical_dtype(series)\n",
      "/home/cistudent/.local/lib/python3.12/site-packages/ppscore/calculation.py:201: FutureWarning: is_categorical_dtype is deprecated and will be removed in a future version. Use isinstance(dtype, CategoricalDtype) instead\n",
      "  or is_categorical_dtype(series)\n",
      "/home/cistudent/.local/lib/python3.12/site-packages/ppscore/calculation.py:201: FutureWarning: is_categorical_dtype is deprecated and will be removed in a future version. Use isinstance(dtype, CategoricalDtype) instead\n",
      "  or is_categorical_dtype(series)\n",
      "/home/cistudent/.local/lib/python3.12/site-packages/ppscore/calculation.py:201: FutureWarning: is_categorical_dtype is deprecated and will be removed in a future version. Use isinstance(dtype, CategoricalDtype) instead\n",
      "  or is_categorical_dtype(series)\n",
      "/home/cistudent/.local/lib/python3.12/site-packages/ppscore/calculation.py:201: FutureWarning: is_categorical_dtype is deprecated and will be removed in a future version. Use isinstance(dtype, CategoricalDtype) instead\n",
      "  or is_categorical_dtype(series)\n",
      "/home/cistudent/.local/lib/python3.12/site-packages/ppscore/calculation.py:201: FutureWarning: is_categorical_dtype is deprecated and will be removed in a future version. Use isinstance(dtype, CategoricalDtype) instead\n",
      "  or is_categorical_dtype(series)\n",
      "/home/cistudent/.local/lib/python3.12/site-packages/ppscore/calculation.py:201: FutureWarning: is_categorical_dtype is deprecated and will be removed in a future version. Use isinstance(dtype, CategoricalDtype) instead\n",
      "  or is_categorical_dtype(series)\n",
      "/home/cistudent/.local/lib/python3.12/site-packages/ppscore/calculation.py:201: FutureWarning: is_categorical_dtype is deprecated and will be removed in a future version. Use isinstance(dtype, CategoricalDtype) instead\n",
      "  or is_categorical_dtype(series)\n",
      "/home/cistudent/.local/lib/python3.12/site-packages/ppscore/calculation.py:201: FutureWarning: is_categorical_dtype is deprecated and will be removed in a future version. Use isinstance(dtype, CategoricalDtype) instead\n",
      "  or is_categorical_dtype(series)\n",
      "/home/cistudent/.local/lib/python3.12/site-packages/ppscore/calculation.py:201: FutureWarning: is_categorical_dtype is deprecated and will be removed in a future version. Use isinstance(dtype, CategoricalDtype) instead\n",
      "  or is_categorical_dtype(series)\n",
      "/home/cistudent/.local/lib/python3.12/site-packages/ppscore/calculation.py:201: FutureWarning: is_categorical_dtype is deprecated and will be removed in a future version. Use isinstance(dtype, CategoricalDtype) instead\n",
      "  or is_categorical_dtype(series)\n",
      "/home/cistudent/.local/lib/python3.12/site-packages/ppscore/calculation.py:201: FutureWarning: is_categorical_dtype is deprecated and will be removed in a future version. Use isinstance(dtype, CategoricalDtype) instead\n",
      "  or is_categorical_dtype(series)\n",
      "/home/cistudent/.local/lib/python3.12/site-packages/ppscore/calculation.py:201: FutureWarning: is_categorical_dtype is deprecated and will be removed in a future version. Use isinstance(dtype, CategoricalDtype) instead\n",
      "  or is_categorical_dtype(series)\n",
      "/home/cistudent/.local/lib/python3.12/site-packages/ppscore/calculation.py:201: FutureWarning: is_categorical_dtype is deprecated and will be removed in a future version. Use isinstance(dtype, CategoricalDtype) instead\n",
      "  or is_categorical_dtype(series)\n",
      "/home/cistudent/.local/lib/python3.12/site-packages/ppscore/calculation.py:201: FutureWarning: is_categorical_dtype is deprecated and will be removed in a future version. Use isinstance(dtype, CategoricalDtype) instead\n",
      "  or is_categorical_dtype(series)\n",
      "/home/cistudent/.local/lib/python3.12/site-packages/ppscore/calculation.py:201: FutureWarning: is_categorical_dtype is deprecated and will be removed in a future version. Use isinstance(dtype, CategoricalDtype) instead\n",
      "  or is_categorical_dtype(series)\n",
      "/home/cistudent/.local/lib/python3.12/site-packages/ppscore/calculation.py:201: FutureWarning: is_categorical_dtype is deprecated and will be removed in a future version. Use isinstance(dtype, CategoricalDtype) instead\n",
      "  or is_categorical_dtype(series)\n",
      "/home/cistudent/.local/lib/python3.12/site-packages/ppscore/calculation.py:201: FutureWarning: is_categorical_dtype is deprecated and will be removed in a future version. Use isinstance(dtype, CategoricalDtype) instead\n",
      "  or is_categorical_dtype(series)\n",
      "/home/cistudent/.local/lib/python3.12/site-packages/ppscore/calculation.py:201: FutureWarning: is_categorical_dtype is deprecated and will be removed in a future version. Use isinstance(dtype, CategoricalDtype) instead\n",
      "  or is_categorical_dtype(series)\n",
      "/home/cistudent/.local/lib/python3.12/site-packages/ppscore/calculation.py:201: FutureWarning: is_categorical_dtype is deprecated and will be removed in a future version. Use isinstance(dtype, CategoricalDtype) instead\n",
      "  or is_categorical_dtype(series)\n",
      "/home/cistudent/.local/lib/python3.12/site-packages/ppscore/calculation.py:201: FutureWarning: is_categorical_dtype is deprecated and will be removed in a future version. Use isinstance(dtype, CategoricalDtype) instead\n",
      "  or is_categorical_dtype(series)\n",
      "/home/cistudent/.local/lib/python3.12/site-packages/ppscore/calculation.py:201: FutureWarning: is_categorical_dtype is deprecated and will be removed in a future version. Use isinstance(dtype, CategoricalDtype) instead\n",
      "  or is_categorical_dtype(series)\n",
      "/home/cistudent/.local/lib/python3.12/site-packages/ppscore/calculation.py:201: FutureWarning: is_categorical_dtype is deprecated and will be removed in a future version. Use isinstance(dtype, CategoricalDtype) instead\n",
      "  or is_categorical_dtype(series)\n",
      "/home/cistudent/.local/lib/python3.12/site-packages/ppscore/calculation.py:201: FutureWarning: is_categorical_dtype is deprecated and will be removed in a future version. Use isinstance(dtype, CategoricalDtype) instead\n",
      "  or is_categorical_dtype(series)\n",
      "/home/cistudent/.local/lib/python3.12/site-packages/ppscore/calculation.py:201: FutureWarning: is_categorical_dtype is deprecated and will be removed in a future version. Use isinstance(dtype, CategoricalDtype) instead\n",
      "  or is_categorical_dtype(series)\n",
      "/home/cistudent/.local/lib/python3.12/site-packages/ppscore/calculation.py:201: FutureWarning: is_categorical_dtype is deprecated and will be removed in a future version. Use isinstance(dtype, CategoricalDtype) instead\n",
      "  or is_categorical_dtype(series)\n",
      "/home/cistudent/.local/lib/python3.12/site-packages/ppscore/calculation.py:201: FutureWarning: is_categorical_dtype is deprecated and will be removed in a future version. Use isinstance(dtype, CategoricalDtype) instead\n",
      "  or is_categorical_dtype(series)\n",
      "/home/cistudent/.local/lib/python3.12/site-packages/ppscore/calculation.py:201: FutureWarning: is_categorical_dtype is deprecated and will be removed in a future version. Use isinstance(dtype, CategoricalDtype) instead\n",
      "  or is_categorical_dtype(series)\n",
      "/home/cistudent/.local/lib/python3.12/site-packages/ppscore/calculation.py:201: FutureWarning: is_categorical_dtype is deprecated and will be removed in a future version. Use isinstance(dtype, CategoricalDtype) instead\n",
      "  or is_categorical_dtype(series)\n",
      "/home/cistudent/.local/lib/python3.12/site-packages/ppscore/calculation.py:201: FutureWarning: is_categorical_dtype is deprecated and will be removed in a future version. Use isinstance(dtype, CategoricalDtype) instead\n",
      "  or is_categorical_dtype(series)\n",
      "/home/cistudent/.local/lib/python3.12/site-packages/ppscore/calculation.py:201: FutureWarning: is_categorical_dtype is deprecated and will be removed in a future version. Use isinstance(dtype, CategoricalDtype) instead\n",
      "  or is_categorical_dtype(series)\n",
      "/home/cistudent/.local/lib/python3.12/site-packages/ppscore/calculation.py:201: FutureWarning: is_categorical_dtype is deprecated and will be removed in a future version. Use isinstance(dtype, CategoricalDtype) instead\n",
      "  or is_categorical_dtype(series)\n",
      "/home/cistudent/.local/lib/python3.12/site-packages/ppscore/calculation.py:201: FutureWarning: is_categorical_dtype is deprecated and will be removed in a future version. Use isinstance(dtype, CategoricalDtype) instead\n",
      "  or is_categorical_dtype(series)\n",
      "/home/cistudent/.local/lib/python3.12/site-packages/ppscore/calculation.py:201: FutureWarning: is_categorical_dtype is deprecated and will be removed in a future version. Use isinstance(dtype, CategoricalDtype) instead\n",
      "  or is_categorical_dtype(series)\n",
      "/home/cistudent/.local/lib/python3.12/site-packages/ppscore/calculation.py:201: FutureWarning: is_categorical_dtype is deprecated and will be removed in a future version. Use isinstance(dtype, CategoricalDtype) instead\n",
      "  or is_categorical_dtype(series)\n",
      "/home/cistudent/.local/lib/python3.12/site-packages/ppscore/calculation.py:201: FutureWarning: is_categorical_dtype is deprecated and will be removed in a future version. Use isinstance(dtype, CategoricalDtype) instead\n",
      "  or is_categorical_dtype(series)\n",
      "/home/cistudent/.local/lib/python3.12/site-packages/ppscore/calculation.py:201: FutureWarning: is_categorical_dtype is deprecated and will be removed in a future version. Use isinstance(dtype, CategoricalDtype) instead\n",
      "  or is_categorical_dtype(series)\n",
      "/home/cistudent/.local/lib/python3.12/site-packages/ppscore/calculation.py:201: FutureWarning: is_categorical_dtype is deprecated and will be removed in a future version. Use isinstance(dtype, CategoricalDtype) instead\n",
      "  or is_categorical_dtype(series)\n",
      "/home/cistudent/.local/lib/python3.12/site-packages/ppscore/calculation.py:201: FutureWarning: is_categorical_dtype is deprecated and will be removed in a future version. Use isinstance(dtype, CategoricalDtype) instead\n",
      "  or is_categorical_dtype(series)\n",
      "/home/cistudent/.local/lib/python3.12/site-packages/ppscore/calculation.py:201: FutureWarning: is_categorical_dtype is deprecated and will be removed in a future version. Use isinstance(dtype, CategoricalDtype) instead\n",
      "  or is_categorical_dtype(series)\n",
      "/home/cistudent/.local/lib/python3.12/site-packages/ppscore/calculation.py:201: FutureWarning: is_categorical_dtype is deprecated and will be removed in a future version. Use isinstance(dtype, CategoricalDtype) instead\n",
      "  or is_categorical_dtype(series)\n",
      "/home/cistudent/.local/lib/python3.12/site-packages/ppscore/calculation.py:201: FutureWarning: is_categorical_dtype is deprecated and will be removed in a future version. Use isinstance(dtype, CategoricalDtype) instead\n",
      "  or is_categorical_dtype(series)\n",
      "/home/cistudent/.local/lib/python3.12/site-packages/ppscore/calculation.py:201: FutureWarning: is_categorical_dtype is deprecated and will be removed in a future version. Use isinstance(dtype, CategoricalDtype) instead\n",
      "  or is_categorical_dtype(series)\n",
      "/home/cistudent/.local/lib/python3.12/site-packages/ppscore/calculation.py:201: FutureWarning: is_categorical_dtype is deprecated and will be removed in a future version. Use isinstance(dtype, CategoricalDtype) instead\n",
      "  or is_categorical_dtype(series)\n",
      "/home/cistudent/.local/lib/python3.12/site-packages/ppscore/calculation.py:201: FutureWarning: is_categorical_dtype is deprecated and will be removed in a future version. Use isinstance(dtype, CategoricalDtype) instead\n",
      "  or is_categorical_dtype(series)\n",
      "/home/cistudent/.local/lib/python3.12/site-packages/ppscore/calculation.py:201: FutureWarning: is_categorical_dtype is deprecated and will be removed in a future version. Use isinstance(dtype, CategoricalDtype) instead\n",
      "  or is_categorical_dtype(series)\n",
      "/home/cistudent/.local/lib/python3.12/site-packages/ppscore/calculation.py:201: FutureWarning: is_categorical_dtype is deprecated and will be removed in a future version. Use isinstance(dtype, CategoricalDtype) instead\n",
      "  or is_categorical_dtype(series)\n",
      "/home/cistudent/.local/lib/python3.12/site-packages/ppscore/calculation.py:201: FutureWarning: is_categorical_dtype is deprecated and will be removed in a future version. Use isinstance(dtype, CategoricalDtype) instead\n",
      "  or is_categorical_dtype(series)\n",
      "/home/cistudent/.local/lib/python3.12/site-packages/ppscore/calculation.py:201: FutureWarning: is_categorical_dtype is deprecated and will be removed in a future version. Use isinstance(dtype, CategoricalDtype) instead\n",
      "  or is_categorical_dtype(series)\n",
      "/home/cistudent/.local/lib/python3.12/site-packages/ppscore/calculation.py:201: FutureWarning: is_categorical_dtype is deprecated and will be removed in a future version. Use isinstance(dtype, CategoricalDtype) instead\n",
      "  or is_categorical_dtype(series)\n",
      "/home/cistudent/.local/lib/python3.12/site-packages/ppscore/calculation.py:201: FutureWarning: is_categorical_dtype is deprecated and will be removed in a future version. Use isinstance(dtype, CategoricalDtype) instead\n",
      "  or is_categorical_dtype(series)\n",
      "/home/cistudent/.local/lib/python3.12/site-packages/ppscore/calculation.py:201: FutureWarning: is_categorical_dtype is deprecated and will be removed in a future version. Use isinstance(dtype, CategoricalDtype) instead\n",
      "  or is_categorical_dtype(series)\n",
      "/home/cistudent/.local/lib/python3.12/site-packages/ppscore/calculation.py:201: FutureWarning: is_categorical_dtype is deprecated and will be removed in a future version. Use isinstance(dtype, CategoricalDtype) instead\n",
      "  or is_categorical_dtype(series)\n",
      "/home/cistudent/.local/lib/python3.12/site-packages/ppscore/calculation.py:201: FutureWarning: is_categorical_dtype is deprecated and will be removed in a future version. Use isinstance(dtype, CategoricalDtype) instead\n",
      "  or is_categorical_dtype(series)\n",
      "/home/cistudent/.local/lib/python3.12/site-packages/ppscore/calculation.py:201: FutureWarning: is_categorical_dtype is deprecated and will be removed in a future version. Use isinstance(dtype, CategoricalDtype) instead\n",
      "  or is_categorical_dtype(series)\n",
      "/home/cistudent/.local/lib/python3.12/site-packages/ppscore/calculation.py:201: FutureWarning: is_categorical_dtype is deprecated and will be removed in a future version. Use isinstance(dtype, CategoricalDtype) instead\n",
      "  or is_categorical_dtype(series)\n",
      "/home/cistudent/.local/lib/python3.12/site-packages/ppscore/calculation.py:201: FutureWarning: is_categorical_dtype is deprecated and will be removed in a future version. Use isinstance(dtype, CategoricalDtype) instead\n",
      "  or is_categorical_dtype(series)\n",
      "/home/cistudent/.local/lib/python3.12/site-packages/ppscore/calculation.py:201: FutureWarning: is_categorical_dtype is deprecated and will be removed in a future version. Use isinstance(dtype, CategoricalDtype) instead\n",
      "  or is_categorical_dtype(series)\n",
      "/home/cistudent/.local/lib/python3.12/site-packages/ppscore/calculation.py:201: FutureWarning: is_categorical_dtype is deprecated and will be removed in a future version. Use isinstance(dtype, CategoricalDtype) instead\n",
      "  or is_categorical_dtype(series)\n",
      "/home/cistudent/.local/lib/python3.12/site-packages/ppscore/calculation.py:201: FutureWarning: is_categorical_dtype is deprecated and will be removed in a future version. Use isinstance(dtype, CategoricalDtype) instead\n",
      "  or is_categorical_dtype(series)\n",
      "/home/cistudent/.local/lib/python3.12/site-packages/ppscore/calculation.py:201: FutureWarning: is_categorical_dtype is deprecated and will be removed in a future version. Use isinstance(dtype, CategoricalDtype) instead\n",
      "  or is_categorical_dtype(series)\n",
      "/home/cistudent/.local/lib/python3.12/site-packages/ppscore/calculation.py:201: FutureWarning: is_categorical_dtype is deprecated and will be removed in a future version. Use isinstance(dtype, CategoricalDtype) instead\n",
      "  or is_categorical_dtype(series)\n",
      "/home/cistudent/.local/lib/python3.12/site-packages/ppscore/calculation.py:201: FutureWarning: is_categorical_dtype is deprecated and will be removed in a future version. Use isinstance(dtype, CategoricalDtype) instead\n",
      "  or is_categorical_dtype(series)\n",
      "/home/cistudent/.local/lib/python3.12/site-packages/ppscore/calculation.py:201: FutureWarning: is_categorical_dtype is deprecated and will be removed in a future version. Use isinstance(dtype, CategoricalDtype) instead\n",
      "  or is_categorical_dtype(series)\n",
      "/home/cistudent/.local/lib/python3.12/site-packages/ppscore/calculation.py:201: FutureWarning: is_categorical_dtype is deprecated and will be removed in a future version. Use isinstance(dtype, CategoricalDtype) instead\n",
      "  or is_categorical_dtype(series)\n",
      "/home/cistudent/.local/lib/python3.12/site-packages/ppscore/calculation.py:201: FutureWarning: is_categorical_dtype is deprecated and will be removed in a future version. Use isinstance(dtype, CategoricalDtype) instead\n",
      "  or is_categorical_dtype(series)\n",
      "/home/cistudent/.local/lib/python3.12/site-packages/ppscore/calculation.py:201: FutureWarning: is_categorical_dtype is deprecated and will be removed in a future version. Use isinstance(dtype, CategoricalDtype) instead\n",
      "  or is_categorical_dtype(series)\n",
      "/home/cistudent/.local/lib/python3.12/site-packages/ppscore/calculation.py:201: FutureWarning: is_categorical_dtype is deprecated and will be removed in a future version. Use isinstance(dtype, CategoricalDtype) instead\n",
      "  or is_categorical_dtype(series)\n",
      "/home/cistudent/.local/lib/python3.12/site-packages/ppscore/calculation.py:201: FutureWarning: is_categorical_dtype is deprecated and will be removed in a future version. Use isinstance(dtype, CategoricalDtype) instead\n",
      "  or is_categorical_dtype(series)\n",
      "/home/cistudent/.local/lib/python3.12/site-packages/ppscore/calculation.py:201: FutureWarning: is_categorical_dtype is deprecated and will be removed in a future version. Use isinstance(dtype, CategoricalDtype) instead\n",
      "  or is_categorical_dtype(series)\n",
      "/home/cistudent/.local/lib/python3.12/site-packages/ppscore/calculation.py:201: FutureWarning: is_categorical_dtype is deprecated and will be removed in a future version. Use isinstance(dtype, CategoricalDtype) instead\n",
      "  or is_categorical_dtype(series)\n",
      "/home/cistudent/.local/lib/python3.12/site-packages/ppscore/calculation.py:201: FutureWarning: is_categorical_dtype is deprecated and will be removed in a future version. Use isinstance(dtype, CategoricalDtype) instead\n",
      "  or is_categorical_dtype(series)\n",
      "/home/cistudent/.local/lib/python3.12/site-packages/ppscore/calculation.py:201: FutureWarning: is_categorical_dtype is deprecated and will be removed in a future version. Use isinstance(dtype, CategoricalDtype) instead\n",
      "  or is_categorical_dtype(series)\n",
      "/home/cistudent/.local/lib/python3.12/site-packages/ppscore/calculation.py:201: FutureWarning: is_categorical_dtype is deprecated and will be removed in a future version. Use isinstance(dtype, CategoricalDtype) instead\n",
      "  or is_categorical_dtype(series)\n",
      "/home/cistudent/.local/lib/python3.12/site-packages/ppscore/calculation.py:201: FutureWarning: is_categorical_dtype is deprecated and will be removed in a future version. Use isinstance(dtype, CategoricalDtype) instead\n",
      "  or is_categorical_dtype(series)\n",
      "/home/cistudent/.local/lib/python3.12/site-packages/ppscore/calculation.py:201: FutureWarning: is_categorical_dtype is deprecated and will be removed in a future version. Use isinstance(dtype, CategoricalDtype) instead\n",
      "  or is_categorical_dtype(series)\n",
      "/home/cistudent/.local/lib/python3.12/site-packages/ppscore/calculation.py:201: FutureWarning: is_categorical_dtype is deprecated and will be removed in a future version. Use isinstance(dtype, CategoricalDtype) instead\n",
      "  or is_categorical_dtype(series)\n",
      "/home/cistudent/.local/lib/python3.12/site-packages/ppscore/calculation.py:201: FutureWarning: is_categorical_dtype is deprecated and will be removed in a future version. Use isinstance(dtype, CategoricalDtype) instead\n",
      "  or is_categorical_dtype(series)\n",
      "/home/cistudent/.local/lib/python3.12/site-packages/ppscore/calculation.py:201: FutureWarning: is_categorical_dtype is deprecated and will be removed in a future version. Use isinstance(dtype, CategoricalDtype) instead\n",
      "  or is_categorical_dtype(series)\n",
      "/home/cistudent/.local/lib/python3.12/site-packages/ppscore/calculation.py:201: FutureWarning: is_categorical_dtype is deprecated and will be removed in a future version. Use isinstance(dtype, CategoricalDtype) instead\n",
      "  or is_categorical_dtype(series)\n",
      "/home/cistudent/.local/lib/python3.12/site-packages/ppscore/calculation.py:201: FutureWarning: is_categorical_dtype is deprecated and will be removed in a future version. Use isinstance(dtype, CategoricalDtype) instead\n",
      "  or is_categorical_dtype(series)\n",
      "/home/cistudent/.local/lib/python3.12/site-packages/ppscore/calculation.py:201: FutureWarning: is_categorical_dtype is deprecated and will be removed in a future version. Use isinstance(dtype, CategoricalDtype) instead\n",
      "  or is_categorical_dtype(series)\n",
      "/home/cistudent/.local/lib/python3.12/site-packages/ppscore/calculation.py:201: FutureWarning: is_categorical_dtype is deprecated and will be removed in a future version. Use isinstance(dtype, CategoricalDtype) instead\n",
      "  or is_categorical_dtype(series)\n",
      "/home/cistudent/.local/lib/python3.12/site-packages/ppscore/calculation.py:201: FutureWarning: is_categorical_dtype is deprecated and will be removed in a future version. Use isinstance(dtype, CategoricalDtype) instead\n",
      "  or is_categorical_dtype(series)\n",
      "/home/cistudent/.local/lib/python3.12/site-packages/ppscore/calculation.py:201: FutureWarning: is_categorical_dtype is deprecated and will be removed in a future version. Use isinstance(dtype, CategoricalDtype) instead\n",
      "  or is_categorical_dtype(series)\n",
      "/home/cistudent/.local/lib/python3.12/site-packages/ppscore/calculation.py:201: FutureWarning: is_categorical_dtype is deprecated and will be removed in a future version. Use isinstance(dtype, CategoricalDtype) instead\n",
      "  or is_categorical_dtype(series)\n",
      "/home/cistudent/.local/lib/python3.12/site-packages/ppscore/calculation.py:201: FutureWarning: is_categorical_dtype is deprecated and will be removed in a future version. Use isinstance(dtype, CategoricalDtype) instead\n",
      "  or is_categorical_dtype(series)\n",
      "/home/cistudent/.local/lib/python3.12/site-packages/ppscore/calculation.py:201: FutureWarning: is_categorical_dtype is deprecated and will be removed in a future version. Use isinstance(dtype, CategoricalDtype) instead\n",
      "  or is_categorical_dtype(series)\n",
      "/home/cistudent/.local/lib/python3.12/site-packages/ppscore/calculation.py:201: FutureWarning: is_categorical_dtype is deprecated and will be removed in a future version. Use isinstance(dtype, CategoricalDtype) instead\n",
      "  or is_categorical_dtype(series)\n",
      "/home/cistudent/.local/lib/python3.12/site-packages/ppscore/calculation.py:201: FutureWarning: is_categorical_dtype is deprecated and will be removed in a future version. Use isinstance(dtype, CategoricalDtype) instead\n",
      "  or is_categorical_dtype(series)\n",
      "/home/cistudent/.local/lib/python3.12/site-packages/ppscore/calculation.py:201: FutureWarning: is_categorical_dtype is deprecated and will be removed in a future version. Use isinstance(dtype, CategoricalDtype) instead\n",
      "  or is_categorical_dtype(series)\n",
      "/home/cistudent/.local/lib/python3.12/site-packages/ppscore/calculation.py:201: FutureWarning: is_categorical_dtype is deprecated and will be removed in a future version. Use isinstance(dtype, CategoricalDtype) instead\n",
      "  or is_categorical_dtype(series)\n",
      "/home/cistudent/.local/lib/python3.12/site-packages/ppscore/calculation.py:201: FutureWarning: is_categorical_dtype is deprecated and will be removed in a future version. Use isinstance(dtype, CategoricalDtype) instead\n",
      "  or is_categorical_dtype(series)\n",
      "/home/cistudent/.local/lib/python3.12/site-packages/ppscore/calculation.py:201: FutureWarning: is_categorical_dtype is deprecated and will be removed in a future version. Use isinstance(dtype, CategoricalDtype) instead\n",
      "  or is_categorical_dtype(series)\n",
      "/home/cistudent/.local/lib/python3.12/site-packages/ppscore/calculation.py:201: FutureWarning: is_categorical_dtype is deprecated and will be removed in a future version. Use isinstance(dtype, CategoricalDtype) instead\n",
      "  or is_categorical_dtype(series)\n",
      "/home/cistudent/.local/lib/python3.12/site-packages/ppscore/calculation.py:201: FutureWarning: is_categorical_dtype is deprecated and will be removed in a future version. Use isinstance(dtype, CategoricalDtype) instead\n",
      "  or is_categorical_dtype(series)\n",
      "/home/cistudent/.local/lib/python3.12/site-packages/ppscore/calculation.py:201: FutureWarning: is_categorical_dtype is deprecated and will be removed in a future version. Use isinstance(dtype, CategoricalDtype) instead\n",
      "  or is_categorical_dtype(series)\n"
     ]
    },
    {
     "name": "stdout",
     "output_type": "stream",
     "text": [
      "PPS threshold - check PPS score IQR to decide threshold for heatmap \n",
      "\n",
      "         count   mean    std  min    25%    50%    75%  max\n",
      "ppscore  210.0  0.637  0.321  0.0  0.446  0.696  0.927  1.0\n"
     ]
    },
    {
     "name": "stderr",
     "output_type": "stream",
     "text": [
      "/home/cistudent/.local/lib/python3.12/site-packages/ppscore/calculation.py:201: FutureWarning: is_categorical_dtype is deprecated and will be removed in a future version. Use isinstance(dtype, CategoricalDtype) instead\n",
      "  or is_categorical_dtype(series)\n",
      "/home/cistudent/.local/lib/python3.12/site-packages/ppscore/calculation.py:201: FutureWarning: is_categorical_dtype is deprecated and will be removed in a future version. Use isinstance(dtype, CategoricalDtype) instead\n",
      "  or is_categorical_dtype(series)\n"
     ]
    }
   ],
   "source": [
    "pps_matrix = CalculatePPS(df_enriched)"
   ]
  },
  {
   "cell_type": "markdown",
   "id": "0737dd3a",
   "metadata": {},
   "source": [
    "We see that out of 210 evaluations, features have a strong PPS (.637) and high variability (0.321).  The top quartile has some strong predictive power.  \n",
    "\n",
    "Below, we will review each feature's PPS score."
   ]
  },
  {
   "cell_type": "code",
   "execution_count": 12,
   "id": "00d57478",
   "metadata": {},
   "outputs": [
    {
     "data": {
      "text/html": [
       "<div>\n",
       "<style scoped>\n",
       "    .dataframe tbody tr th:only-of-type {\n",
       "        vertical-align: middle;\n",
       "    }\n",
       "\n",
       "    .dataframe tbody tr th {\n",
       "        vertical-align: top;\n",
       "    }\n",
       "\n",
       "    .dataframe thead th {\n",
       "        text-align: right;\n",
       "    }\n",
       "</style>\n",
       "<table border=\"1\" class=\"dataframe\">\n",
       "  <thead>\n",
       "    <tr style=\"text-align: right;\">\n",
       "      <th></th>\n",
       "      <th>Feature</th>\n",
       "      <th>PPS</th>\n",
       "    </tr>\n",
       "  </thead>\n",
       "  <tbody>\n",
       "    <tr>\n",
       "      <th>0</th>\n",
       "      <td>Bitcoin_Close</td>\n",
       "      <td>1.000000</td>\n",
       "    </tr>\n",
       "    <tr>\n",
       "      <th>1</th>\n",
       "      <td>Date</td>\n",
       "      <td>0.976448</td>\n",
       "    </tr>\n",
       "    <tr>\n",
       "      <th>2</th>\n",
       "      <td>Retail_Sales</td>\n",
       "      <td>0.940829</td>\n",
       "    </tr>\n",
       "    <tr>\n",
       "      <th>3</th>\n",
       "      <td>CPI</td>\n",
       "      <td>0.940470</td>\n",
       "    </tr>\n",
       "    <tr>\n",
       "      <th>4</th>\n",
       "      <td>M2_Money_Supply</td>\n",
       "      <td>0.919821</td>\n",
       "    </tr>\n",
       "    <tr>\n",
       "      <th>5</th>\n",
       "      <td>Real_GDP</td>\n",
       "      <td>0.877292</td>\n",
       "    </tr>\n",
       "    <tr>\n",
       "      <th>6</th>\n",
       "      <td>Nasdaq_Close</td>\n",
       "      <td>0.875495</td>\n",
       "    </tr>\n",
       "    <tr>\n",
       "      <th>7</th>\n",
       "      <td>Debt_to_GDP</td>\n",
       "      <td>0.875433</td>\n",
       "    </tr>\n",
       "    <tr>\n",
       "      <th>8</th>\n",
       "      <td>Consumer_Sentiment</td>\n",
       "      <td>0.805108</td>\n",
       "    </tr>\n",
       "    <tr>\n",
       "      <th>9</th>\n",
       "      <td>Gold_Close</td>\n",
       "      <td>0.691056</td>\n",
       "    </tr>\n",
       "    <tr>\n",
       "      <th>10</th>\n",
       "      <td>Fed_Funds_Rate</td>\n",
       "      <td>0.583823</td>\n",
       "    </tr>\n",
       "    <tr>\n",
       "      <th>11</th>\n",
       "      <td>Ten_Year_Yield</td>\n",
       "      <td>0.440488</td>\n",
       "    </tr>\n",
       "    <tr>\n",
       "      <th>12</th>\n",
       "      <td>Unemployment_Rate</td>\n",
       "      <td>0.409837</td>\n",
       "    </tr>\n",
       "    <tr>\n",
       "      <th>13</th>\n",
       "      <td>Brent_Close</td>\n",
       "      <td>0.330343</td>\n",
       "    </tr>\n",
       "    <tr>\n",
       "      <th>14</th>\n",
       "      <td>VIX</td>\n",
       "      <td>0.000000</td>\n",
       "    </tr>\n",
       "  </tbody>\n",
       "</table>\n",
       "</div>"
      ],
      "text/plain": [
       "               Feature       PPS\n",
       "0        Bitcoin_Close  1.000000\n",
       "1                 Date  0.976448\n",
       "2         Retail_Sales  0.940829\n",
       "3                  CPI  0.940470\n",
       "4      M2_Money_Supply  0.919821\n",
       "5             Real_GDP  0.877292\n",
       "6         Nasdaq_Close  0.875495\n",
       "7          Debt_to_GDP  0.875433\n",
       "8   Consumer_Sentiment  0.805108\n",
       "9           Gold_Close  0.691056\n",
       "10      Fed_Funds_Rate  0.583823\n",
       "11      Ten_Year_Yield  0.440488\n",
       "12   Unemployment_Rate  0.409837\n",
       "13         Brent_Close  0.330343\n",
       "14                 VIX  0.000000"
      ]
     },
     "execution_count": 12,
     "metadata": {},
     "output_type": "execute_result"
    }
   ],
   "source": [
    "import pandas as pd\n",
    "pd.set_option('display.max_rows', None)\n",
    "\n",
    "pps_scores = pps_matrix.loc['Bitcoin_Close'].sort_values(ascending=False)\n",
    "pps_scores_df = pps_scores.reset_index()\n",
    "pps_scores_df.columns = ['Feature', 'PPS']\n",
    "\n",
    "pps_scores_df"
   ]
  },
  {
   "cell_type": "markdown",
   "id": "e40a5ddd",
   "metadata": {},
   "source": [
    "We will also visualise this with the below graph, and as expected, there is a jump to 0.8 and above up in the upper quartile."
   ]
  },
  {
   "cell_type": "code",
   "execution_count": 13,
   "id": "1948201b",
   "metadata": {},
   "outputs": [
    {
     "data": {
      "text/plain": [
       "<Axes: >"
      ]
     },
     "execution_count": 13,
     "metadata": {},
     "output_type": "execute_result"
    },
    {
     "data": {
      "image/png": "[encoded data removed]",
      "text/plain": [
       "<Figure size 640x480 with 1 Axes>"
      ]
     },
     "metadata": {},
     "output_type": "display_data"
    }
   ],
   "source": [
    "pps_scores_df['PPS'].hist(bins=10)"
   ]
  },
  {
   "cell_type": "markdown",
   "id": "58c4ce63",
   "metadata": {},
   "source": [
    "What we'll do next is to trim the dataset based on a threshold of 0.6 for all three tests - Spearman, Pearson and PPS.\n",
    "\n",
    "We will then get the average of the 3 tests and display it in a \"Signal\" column.  \n",
    "\n",
    "We can see that the features have been cut to 7."
   ]
  },
  {
   "cell_type": "code",
   "execution_count": 14,
   "id": "a47fd393",
   "metadata": {},
   "outputs": [
    {
     "data": {
      "text/html": [
       "<div>\n",
       "<style scoped>\n",
       "    .dataframe tbody tr th:only-of-type {\n",
       "        vertical-align: middle;\n",
       "    }\n",
       "\n",
       "    .dataframe tbody tr th {\n",
       "        vertical-align: top;\n",
       "    }\n",
       "\n",
       "    .dataframe thead th {\n",
       "        text-align: right;\n",
       "    }\n",
       "</style>\n",
       "<table border=\"1\" class=\"dataframe\">\n",
       "  <thead>\n",
       "    <tr style=\"text-align: right;\">\n",
       "      <th></th>\n",
       "      <th>Feature</th>\n",
       "      <th>PPS</th>\n",
       "      <th>Pearson</th>\n",
       "      <th>Spearman</th>\n",
       "      <th>Signal</th>\n",
       "    </tr>\n",
       "  </thead>\n",
       "  <tbody>\n",
       "    <tr>\n",
       "      <th>4</th>\n",
       "      <td>Nasdaq_Close</td>\n",
       "      <td>0.875495</td>\n",
       "      <td>0.915067</td>\n",
       "      <td>0.979650</td>\n",
       "      <td>0.923404</td>\n",
       "    </tr>\n",
       "    <tr>\n",
       "      <th>1</th>\n",
       "      <td>CPI</td>\n",
       "      <td>0.940470</td>\n",
       "      <td>0.850711</td>\n",
       "      <td>0.970699</td>\n",
       "      <td>0.920627</td>\n",
       "    </tr>\n",
       "    <tr>\n",
       "      <th>0</th>\n",
       "      <td>Retail_Sales</td>\n",
       "      <td>0.940829</td>\n",
       "      <td>0.841639</td>\n",
       "      <td>0.964372</td>\n",
       "      <td>0.915613</td>\n",
       "    </tr>\n",
       "    <tr>\n",
       "      <th>2</th>\n",
       "      <td>M2_Money_Supply</td>\n",
       "      <td>0.919821</td>\n",
       "      <td>0.793514</td>\n",
       "      <td>0.961354</td>\n",
       "      <td>0.891563</td>\n",
       "    </tr>\n",
       "    <tr>\n",
       "      <th>3</th>\n",
       "      <td>Real_GDP</td>\n",
       "      <td>0.877292</td>\n",
       "      <td>0.808054</td>\n",
       "      <td>0.963363</td>\n",
       "      <td>0.882903</td>\n",
       "    </tr>\n",
       "    <tr>\n",
       "      <th>5</th>\n",
       "      <td>Debt_to_GDP</td>\n",
       "      <td>0.875433</td>\n",
       "      <td>0.719441</td>\n",
       "      <td>0.915886</td>\n",
       "      <td>0.836920</td>\n",
       "    </tr>\n",
       "    <tr>\n",
       "      <th>7</th>\n",
       "      <td>Gold_Close</td>\n",
       "      <td>0.691056</td>\n",
       "      <td>0.885899</td>\n",
       "      <td>0.613852</td>\n",
       "      <td>0.730269</td>\n",
       "    </tr>\n",
       "  </tbody>\n",
       "</table>\n",
       "</div>"
      ],
      "text/plain": [
       "           Feature       PPS   Pearson  Spearman    Signal\n",
       "4     Nasdaq_Close  0.875495  0.915067  0.979650  0.923404\n",
       "1              CPI  0.940470  0.850711  0.970699  0.920627\n",
       "0     Retail_Sales  0.940829  0.841639  0.964372  0.915613\n",
       "2  M2_Money_Supply  0.919821  0.793514  0.961354  0.891563\n",
       "3         Real_GDP  0.877292  0.808054  0.963363  0.882903\n",
       "5      Debt_to_GDP  0.875433  0.719441  0.915886  0.836920\n",
       "7       Gold_Close  0.691056  0.885899  0.613852  0.730269"
      ]
     },
     "execution_count": 14,
     "metadata": {},
     "output_type": "execute_result"
    }
   ],
   "source": [
    "import pandas as pd\n",
    "pd.set_option('display.max_rows', None)\n",
    "pd.set_option('display.max_columns', None)\n",
    "\n",
    "\n",
    "corr_spearman_df = corr_spearman.reset_index()\n",
    "corr_spearman_df.columns = ['Feature', 'Spearman']\n",
    "\n",
    "corr_pearson_df = corr_pearson.reset_index()\n",
    "corr_pearson_df.columns = ['Feature', 'Pearson']\n",
    "\n",
    "feature_scores = pps_scores_df.merge(corr_pearson_df, on='Feature').merge(corr_spearman_df, on='Feature')\n",
    "\n",
    "filtered_features = feature_scores[\n",
    "    (feature_scores['PPS'] > 0.6) &\n",
    "    (feature_scores['Pearson'] > 0.6) &\n",
    "    (feature_scores['Spearman'] > 0.6)\n",
    "]\n",
    "\n",
    "filtered_features = filtered_features.copy()\n",
    "\n",
    "filtered_features['Signal'] = filtered_features[['PPS', 'Pearson', 'Spearman']].mean(axis=1)\n",
    "filtered_features = filtered_features.sort_values('Signal', ascending=False)\n",
    "\n",
    "filtered_features\n"
   ]
  },
  {
   "cell_type": "markdown",
   "id": "8ca07f20",
   "metadata": {},
   "source": [
    "The below code will simply reorder the columns to reflect Date and Bitcoin_close first and select the top 5 features per the filtered features table."
   ]
  },
  {
   "cell_type": "code",
   "execution_count": 15,
   "id": "9c921a53",
   "metadata": {},
   "outputs": [
    {
     "data": {
      "text/html": [
       "<div>\n",
       "<style scoped>\n",
       "    .dataframe tbody tr th:only-of-type {\n",
       "        vertical-align: middle;\n",
       "    }\n",
       "\n",
       "    .dataframe tbody tr th {\n",
       "        vertical-align: top;\n",
       "    }\n",
       "\n",
       "    .dataframe thead th {\n",
       "        text-align: right;\n",
       "    }\n",
       "</style>\n",
       "<table border=\"1\" class=\"dataframe\">\n",
       "  <thead>\n",
       "    <tr style=\"text-align: right;\">\n",
       "      <th></th>\n",
       "      <th>Date</th>\n",
       "      <th>Bitcoin_Close</th>\n",
       "      <th>Nasdaq_Close</th>\n",
       "      <th>CPI</th>\n",
       "      <th>Retail_Sales</th>\n",
       "      <th>M2_Money_Supply</th>\n",
       "      <th>Real_GDP</th>\n",
       "    </tr>\n",
       "  </thead>\n",
       "  <tbody>\n",
       "    <tr>\n",
       "      <th>0</th>\n",
       "      <td>2010-07-18</td>\n",
       "      <td>0.0500</td>\n",
       "      <td>2198.229980</td>\n",
       "      <td>217.605</td>\n",
       "      <td>347612.0</td>\n",
       "      <td>8639.8</td>\n",
       "      <td>16872.266</td>\n",
       "    </tr>\n",
       "    <tr>\n",
       "      <th>1</th>\n",
       "      <td>2010-07-19</td>\n",
       "      <td>0.0858</td>\n",
       "      <td>2198.229980</td>\n",
       "      <td>217.605</td>\n",
       "      <td>347612.0</td>\n",
       "      <td>8639.8</td>\n",
       "      <td>16872.266</td>\n",
       "    </tr>\n",
       "    <tr>\n",
       "      <th>2</th>\n",
       "      <td>2010-07-20</td>\n",
       "      <td>0.0808</td>\n",
       "      <td>2222.489990</td>\n",
       "      <td>217.605</td>\n",
       "      <td>347612.0</td>\n",
       "      <td>8639.8</td>\n",
       "      <td>16872.266</td>\n",
       "    </tr>\n",
       "    <tr>\n",
       "      <th>3</th>\n",
       "      <td>2010-07-21</td>\n",
       "      <td>0.0747</td>\n",
       "      <td>2187.330078</td>\n",
       "      <td>217.605</td>\n",
       "      <td>347612.0</td>\n",
       "      <td>8639.8</td>\n",
       "      <td>16872.266</td>\n",
       "    </tr>\n",
       "    <tr>\n",
       "      <th>4</th>\n",
       "      <td>2010-07-22</td>\n",
       "      <td>0.0792</td>\n",
       "      <td>2245.889893</td>\n",
       "      <td>217.605</td>\n",
       "      <td>347612.0</td>\n",
       "      <td>8639.8</td>\n",
       "      <td>16872.266</td>\n",
       "    </tr>\n",
       "  </tbody>\n",
       "</table>\n",
       "</div>"
      ],
      "text/plain": [
       "        Date  Bitcoin_Close  Nasdaq_Close      CPI  Retail_Sales  \\\n",
       "0 2010-07-18         0.0500   2198.229980  217.605      347612.0   \n",
       "1 2010-07-19         0.0858   2198.229980  217.605      347612.0   \n",
       "2 2010-07-20         0.0808   2222.489990  217.605      347612.0   \n",
       "3 2010-07-21         0.0747   2187.330078  217.605      347612.0   \n",
       "4 2010-07-22         0.0792   2245.889893  217.605      347612.0   \n",
       "\n",
       "   M2_Money_Supply   Real_GDP  \n",
       "0           8639.8  16872.266  \n",
       "1           8639.8  16872.266  \n",
       "2           8639.8  16872.266  \n",
       "3           8639.8  16872.266  \n",
       "4           8639.8  16872.266  "
      ]
     },
     "execution_count": 15,
     "metadata": {},
     "output_type": "execute_result"
    }
   ],
   "source": [
    "filtered_features = filtered_features[~filtered_features['Feature'].isin(['Date', 'Bitcoin_Close'])]\n",
    "\n",
    "top_5_features = filtered_features.sort_values('Signal', ascending=False).head(5)['Feature'].tolist()\n",
    "\n",
    "ordered_columns = ['Date', 'Bitcoin_Close'] + top_5_features\n",
    "\n",
    "df_final = df_enriched[ordered_columns].sort_values('Date').reset_index(drop=True)\n",
    "\n",
    "df_final.head()"
   ]
  },
  {
   "cell_type": "markdown",
   "id": "a5367841",
   "metadata": {},
   "source": [
    "At this point, we'll save the dataset before splitting it into Train and Test files."
   ]
  },
  {
   "cell_type": "code",
   "execution_count": 17,
   "id": "8cac3cc4",
   "metadata": {},
   "outputs": [
    {
     "name": "stdout",
     "output_type": "stream",
     "text": [
      "[Errno 17] File exists: 'outputs/datasets/final_features'\n"
     ]
    }
   ],
   "source": [
    "import os\n",
    "try:\n",
    "  os.makedirs(name='outputs/datasets/final_features')\n",
    "except Exception as e:\n",
    "  print(e)\n",
    "\n",
    "df_final.to_csv(f\"outputs/datasets/final_features/BtcFinalFeatures.csv\",index=False)"
   ]
  },
  {
   "cell_type": "markdown",
   "id": "9fcffb25",
   "metadata": {},
   "source": [
    "## Correlation & PPS Summary:\n",
    "\n",
    "* Correlation Tests and PPS were used together to filter all three scores > 0.6 and this left us with 7 features.\n",
    "* Signal score was introduced for each of the remaining features creating a power ranking of each feature.\n",
    "* On the 7 remaining features, we reduced further to 5.\n",
    "* We were left with a lean dataset of non-redundant features.\n",
    "* The dataset is chronologically sorted with high signal and low noise.\n"
   ]
  },
  {
   "cell_type": "markdown",
   "id": "2d4b5a24",
   "metadata": {},
   "source": [
    "---"
   ]
  },
  {
   "cell_type": "markdown",
   "id": "0f35d974",
   "metadata": {},
   "source": [
    "We will also save the BitCoin price history & BitCoin distribution graphs from above."
   ]
  },
  {
   "cell_type": "code",
   "execution_count": 38,
   "id": "f1ca48c5",
   "metadata": {},
   "outputs": [
    {
     "name": "stdout",
     "output_type": "stream",
     "text": [
      "[Errno 17] File exists: 'outputs/datasets/figs'\n"
     ]
    }
   ],
   "source": [
    "import os\n",
    "try:\n",
    "  os.makedirs(name='outputs/datasets/figs')\n",
    "except Exception as e:\n",
    "  print(e)\n"
   ]
  },
  {
   "cell_type": "code",
   "execution_count": null,
   "id": "99bef389",
   "metadata": {},
   "outputs": [
    {
     "data": {
      "image/png": "[encoded data removed]",
      "text/plain": [
       "<Figure size 640x480 with 1 Axes>"
      ]
     },
     "metadata": {},
     "output_type": "display_data"
    },
    {
     "data": {
      "text/plain": [
       "<Figure size 640x480 with 0 Axes>"
      ]
     },
     "metadata": {},
     "output_type": "display_data"
    }
   ],
   "source": [
    "import seaborn as sns\n",
    "import matplotlib.pyplot as plt\n",
    "\n",
    "sns.lineplot(data=df_feat_eng, x=\"Date\", y=\"Bitcoin_Close\")\n",
    "\n",
    "plt.title(\"BitCoin Price History\")\n",
    "plt.xlabel(\"Date\")\n",
    "plt.ylabel(\"BitCoin Price\")\n",
    "plt.xticks(rotation=45)\n",
    "plt.tight_layout()\n",
    "plt.show()\n",
    "\n",
    "plt.savefig(\"outputs/datasets/figs/bitcoin_price_history.png\", dpi=300)"
   ]
  },
  {
   "cell_type": "code",
   "execution_count": null,
   "id": "11f7eac9",
   "metadata": {},
   "outputs": [
    {
     "data": {
      "image/png": "[encoded data removed]",
      "text/plain": [
       "<Figure size 640x480 with 1 Axes>"
      ]
     },
     "metadata": {},
     "output_type": "display_data"
    },
    {
     "data": {
      "text/plain": [
       "<Figure size 640x480 with 0 Axes>"
      ]
     },
     "metadata": {},
     "output_type": "display_data"
    }
   ],
   "source": [
    "import seaborn as sns\n",
    "import matplotlib.pyplot as plt\n",
    "\n",
    "sns.histplot(data=df_feat_eng, x=\"Bitcoin_Close\", kde=True, bins=30, color=\"steelblue\")\n",
    "\n",
    "plt.title(\"Distribution of BitCoin Price\")\n",
    "plt.xlabel(\"Bitcoin Closing Price\")\n",
    "plt.ylabel(\"Frequency\")\n",
    "plt.tight_layout()\n",
    "plt.show()\n",
    "\n",
    "plt.savefig(\"outputs/datasets/figs/bitcoin_distribution.png\", dpi=300)"
   ]
  },
  {
   "cell_type": "code",
   "execution_count": null,
   "id": "7ac1febf",
   "metadata": {},
   "outputs": [],
   "source": []
  }
 ],
 "metadata": {
  "kernelspec": {
   "display_name": "3.12.1",
   "language": "python",
   "name": "python3"
  },
  "language_info": {
   "codemirror_mode": {
    "name": "ipython",
    "version": 3
   },
   "file_extension": ".py",
   "mimetype": "text/x-python",
   "name": "python",
   "nbconvert_exporter": "python",
   "pygments_lexer": "ipython3",
   "version": "3.12.1"
  }
 },
 "nbformat": 4,
 "nbformat_minor": 5
}
