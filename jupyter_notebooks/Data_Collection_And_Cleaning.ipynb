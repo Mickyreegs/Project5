{
  "cells": [
    {
      "cell_type": "markdown",
      "metadata": {
        "id": "0aStgWSO0E0E"
      },
      "source": [
        "# **Data Collection & Cleaning Notebook**"
      ]
    },
    {
      "cell_type": "markdown",
      "metadata": {
        "id": "1eLEkw5O0ECa"
      },
      "source": [
        "## Objectives\n",
        "\n",
        "* This notebook will be used to fetch Kaggle datasets and also a BitCoin price dataset from CoinCodex.  Permission was received from Leo Daris, a content manager at CoinCodex.\n",
        "* The datasets will be merged into one dataset and the data will be inspected and cleaned as necessary\n",
        "\n",
        "## Inputs\n",
        "\n",
        "* Kaggle JSON file - the authentication token.\n",
        "* CoinCodex .csv download - BitCoin prices - https://coincodex.com/crypto/bitcoin/\n",
        "* Kaggle NASDAQ dataset by Sai Karthik\n",
        "* Kaggle US Economic Vital Signs: 25 Years Of Macro Data dataset by Eswaran Muthu\n",
        "\n",
        "## Outputs\n",
        "\n",
        "* Generate Dataset: outputs/datasets/collection/\n"
      ]
    },
    {
      "cell_type": "markdown",
      "metadata": {
        "id": "9uWZXH9LwoQg"
      },
      "source": [
        "---"
      ]
    },
    {
      "cell_type": "markdown",
      "metadata": {
        "id": "cqP-UeN-z3i2"
      },
      "source": [
        "# Change working directory"
      ]
    },
    {
      "cell_type": "markdown",
      "metadata": {
        "id": "aOGIGS-uz3i2"
      },
      "source": [
        "We need to change the working directory from its current folder to its parent folder\n",
        "* We access the current directory with os.getcwd()"
      ]
    },
    {
      "cell_type": "code",
      "execution_count": 1,
      "metadata": {
        "id": "wZfF_j-Bz3i4",
        "outputId": "66943449-1436-4c3d-85c7-b85f9f78349b"
      },
      "outputs": [
        {
          "data": {
            "text/plain": [
              "'/workspaces/Project5/jupyter_notebooks'"
            ]
          },
          "execution_count": 1,
          "metadata": {},
          "output_type": "execute_result"
        }
      ],
      "source": [
        "import os\n",
        "current_dir = os.getcwd()\n",
        "current_dir"
      ]
    },
    {
      "cell_type": "markdown",
      "metadata": {
        "id": "9MWW8E7lz3i7"
      },
      "source": [
        "We want to make the parent of the current directory the new current directory\n",
        "* os.path.dirname() gets the parent directory\n",
        "* os.chir() defines the new current directory"
      ]
    },
    {
      "cell_type": "code",
      "execution_count": 2,
      "metadata": {
        "id": "TwHsQRWjz3i9",
        "outputId": "86849db3-cd2f-4cc5-ebb8-2d0caafa1a2c"
      },
      "outputs": [
        {
          "name": "stdout",
          "output_type": "stream",
          "text": [
            "You set a new current directory\n"
          ]
        }
      ],
      "source": [
        "os.chdir(os.path.dirname(current_dir))\n",
        "print(\"You set a new current directory\")"
      ]
    },
    {
      "cell_type": "markdown",
      "metadata": {
        "id": "M_xPk_Ijz3i-"
      },
      "source": [
        "Confirm the new current directory"
      ]
    },
    {
      "cell_type": "code",
      "execution_count": 3,
      "metadata": {
        "id": "vz3S-_kjz3jA",
        "outputId": "00b79ae4-75d0-4a96-d193-ac9ef9847ea2"
      },
      "outputs": [
        {
          "data": {
            "text/plain": [
              "'/workspaces/Project5'"
            ]
          },
          "execution_count": 3,
          "metadata": {},
          "output_type": "execute_result"
        }
      ],
      "source": [
        "current_dir = os.getcwd()\n",
        "current_dir"
      ]
    },
    {
      "cell_type": "markdown",
      "metadata": {
        "id": "-mavJ8DibrcQ"
      },
      "source": [
        "# Fetch Kaggle Datasets"
      ]
    },
    {
      "cell_type": "markdown",
      "metadata": {},
      "source": [
        "Install Kaggle package to fetch data"
      ]
    },
    {
      "cell_type": "code",
      "execution_count": 4,
      "metadata": {},
      "outputs": [
        {
          "name": "stdout",
          "output_type": "stream",
          "text": [
            "Collecting kaggle==1.5.12\n",
            "  Downloading kaggle-1.5.12.tar.gz (58 kB)\n",
            "  Preparing metadata (setup.py) ... \u001b[?25ldone\n",
            "\u001b[?25hRequirement already satisfied: six>=1.10 in /home/cistudent/.pyenv/versions/3.12.1/lib/python3.12/site-packages (from kaggle==1.5.12) (1.17.0)\n",
            "Requirement already satisfied: certifi in /home/cistudent/.pyenv/versions/3.12.1/lib/python3.12/site-packages (from kaggle==1.5.12) (2024.12.14)\n",
            "Requirement already satisfied: python-dateutil in /home/cistudent/.pyenv/versions/3.12.1/lib/python3.12/site-packages (from kaggle==1.5.12) (2.9.0.post0)\n",
            "Requirement already satisfied: requests in /home/cistudent/.pyenv/versions/3.12.1/lib/python3.12/site-packages (from kaggle==1.5.12) (2.32.3)\n",
            "Requirement already satisfied: tqdm in /home/cistudent/.local/lib/python3.12/site-packages (from kaggle==1.5.12) (4.67.1)\n",
            "Collecting python-slugify (from kaggle==1.5.12)\n",
            "  Downloading python_slugify-8.0.4-py2.py3-none-any.whl.metadata (8.5 kB)\n",
            "Requirement already satisfied: urllib3 in /home/cistudent/.pyenv/versions/3.12.1/lib/python3.12/site-packages (from kaggle==1.5.12) (2.2.3)\n",
            "Collecting text-unidecode>=1.3 (from python-slugify->kaggle==1.5.12)\n",
            "  Downloading text_unidecode-1.3-py2.py3-none-any.whl.metadata (2.4 kB)\n",
            "Requirement already satisfied: charset-normalizer<4,>=2 in /home/cistudent/.pyenv/versions/3.12.1/lib/python3.12/site-packages (from requests->kaggle==1.5.12) (3.4.0)\n",
            "Requirement already satisfied: idna<4,>=2.5 in /home/cistudent/.pyenv/versions/3.12.1/lib/python3.12/site-packages (from requests->kaggle==1.5.12) (3.10)\n",
            "Downloading python_slugify-8.0.4-py2.py3-none-any.whl (10 kB)\n",
            "Downloading text_unidecode-1.3-py2.py3-none-any.whl (78 kB)\n",
            "Building wheels for collected packages: kaggle\n",
            "  Building wheel for kaggle (setup.py) ... \u001b[?25ldone\n",
            "\u001b[?25h  Created wheel for kaggle: filename=kaggle-1.5.12-py3-none-any.whl size=73026 sha256=4ea163f8e695b64978b2a6086d00c65789d10af926adcf99301a496b655fad0d\n",
            "  Stored in directory: /home/cistudent/.cache/pip/wheels/f5/69/4d/d701fc604b9fb09be59718b4056fd5556a22588ce1f25dd090\n",
            "Successfully built kaggle\n",
            "Installing collected packages: text-unidecode, python-slugify, kaggle\n",
            "Successfully installed kaggle-1.5.12 python-slugify-8.0.4 text-unidecode-1.3\n",
            "\n",
            "\u001b[1m[\u001b[0m\u001b[34;49mnotice\u001b[0m\u001b[1;39;49m]\u001b[0m\u001b[39;49m A new release of pip is available: \u001b[0m\u001b[31;49m24.3.1\u001b[0m\u001b[39;49m -> \u001b[0m\u001b[32;49m25.2\u001b[0m\n",
            "\u001b[1m[\u001b[0m\u001b[34;49mnotice\u001b[0m\u001b[1;39;49m]\u001b[0m\u001b[39;49m To update, run: \u001b[0m\u001b[32;49mpip install --upgrade pip\u001b[0m\n",
            "Note: you may need to restart the kernel to use updated packages.\n"
          ]
        }
      ],
      "source": [
        "%pip install kaggle==1.5.12"
      ]
    },
    {
      "cell_type": "markdown",
      "metadata": {},
      "source": [
        "Recognition of token"
      ]
    },
    {
      "cell_type": "code",
      "execution_count": 5,
      "metadata": {},
      "outputs": [],
      "source": [
        "import os\n",
        "os.environ['KAGGLE_CONFIG_DIR'] = os.getcwd()\n",
        "! chmod 600 kaggle.json"
      ]
    },
    {
      "cell_type": "markdown",
      "metadata": {},
      "source": [
        "Download Kaggle Datasets"
      ]
    },
    {
      "cell_type": "code",
      "execution_count": null,
      "metadata": {},
      "outputs": [
        {
          "name": "stdout",
          "output_type": "stream",
          "text": [
            "Downloading nasdq-dataset.zip to inputs/datasets/raw\n",
            "100%|█████████████████████████████████████████| 126k/126k [00:00<00:00, 514kB/s]\n",
            "100%|█████████████████████████████████████████| 126k/126k [00:00<00:00, 513kB/s]\n",
            "Downloading u-s-economic-vital-signs-25-years-of-macro-data.zip to inputs/datasets/raw\n",
            "  0%|                                               | 0.00/8.65k [00:00<?, ?B/s]\n",
            "100%|██████████████████████████████████████| 8.65k/8.65k [00:00<00:00, 24.8MB/s]\n"
          ]
        }
      ],
      "source": [
        "dataset_1 = \"sai14karthik/nasdq-dataset\"\n",
        "dataset_2 = \"eswaranmuthu/u-s-economic-vital-signs-25-years-of-macro-data\"\n",
        "DestinationFolder = \"inputs/datasets/raw\"\n",
        "\n",
        "!kaggle datasets download -d {dataset_1} -p {DestinationFolder}\n",
        "!kaggle datasets download -d {dataset_2} -p {DestinationFolder}"
      ]
    },
    {
      "cell_type": "markdown",
      "metadata": {},
      "source": [
        "Unzip the files"
      ]
    },
    {
      "cell_type": "code",
      "execution_count": 11,
      "metadata": {},
      "outputs": [
        {
          "name": "stdout",
          "output_type": "stream",
          "text": [
            "Unzipping: inputs/datasets/raw/nasdq-dataset.zip\n",
            "Unzipping: inputs/datasets/raw/u-s-economic-vital-signs-25-years-of-macro-data.zip\n"
          ]
        }
      ],
      "source": [
        "import os\n",
        "import zipfile\n",
        "\n",
        "for file in os.listdir(DestinationFolder):\n",
        "    if file.endswith(\".zip\"):\n",
        "        zip_path = os.path.join(DestinationFolder, file)\n",
        "        print(f\"Unzipping: {zip_path}\")\n",
        "        with zipfile.ZipFile(zip_path, 'r') as zip_ref:\n",
        "            zip_ref.extractall(DestinationFolder)\n",
        "        os.remove(zip_path)\n"
      ]
    },
    {
      "cell_type": "markdown",
      "metadata": {},
      "source": [
        "Load and inspect the data"
      ]
    },
    {
      "cell_type": "code",
      "execution_count": 4,
      "metadata": {},
      "outputs": [
        {
          "data": {
            "text/html": [
              "<div>\n",
              "<style scoped>\n",
              "    .dataframe tbody tr th:only-of-type {\n",
              "        vertical-align: middle;\n",
              "    }\n",
              "\n",
              "    .dataframe tbody tr th {\n",
              "        vertical-align: top;\n",
              "    }\n",
              "\n",
              "    .dataframe thead th {\n",
              "        text-align: right;\n",
              "    }\n",
              "</style>\n",
              "<table border=\"1\" class=\"dataframe\">\n",
              "  <thead>\n",
              "    <tr style=\"text-align: right;\">\n",
              "      <th></th>\n",
              "      <th>Start</th>\n",
              "      <th>End</th>\n",
              "      <th>Open</th>\n",
              "      <th>High</th>\n",
              "      <th>Low</th>\n",
              "      <th>Close</th>\n",
              "      <th>Volume</th>\n",
              "      <th>Market Cap</th>\n",
              "    </tr>\n",
              "  </thead>\n",
              "  <tbody>\n",
              "    <tr>\n",
              "      <th>0</th>\n",
              "      <td>2025-07-31</td>\n",
              "      <td>2025-08-01</td>\n",
              "      <td>117823.0</td>\n",
              "      <td>118867.0</td>\n",
              "      <td>115606.0</td>\n",
              "      <td>115606.0</td>\n",
              "      <td>6.462546e+10</td>\n",
              "      <td>2.347673e+12</td>\n",
              "    </tr>\n",
              "    <tr>\n",
              "      <th>1</th>\n",
              "      <td>2025-07-30</td>\n",
              "      <td>2025-07-31</td>\n",
              "      <td>117796.0</td>\n",
              "      <td>118699.0</td>\n",
              "      <td>116027.0</td>\n",
              "      <td>117800.0</td>\n",
              "      <td>5.748423e+10</td>\n",
              "      <td>2.343903e+12</td>\n",
              "    </tr>\n",
              "    <tr>\n",
              "      <th>2</th>\n",
              "      <td>2025-07-29</td>\n",
              "      <td>2025-07-30</td>\n",
              "      <td>118100.0</td>\n",
              "      <td>119095.0</td>\n",
              "      <td>117084.0</td>\n",
              "      <td>117877.0</td>\n",
              "      <td>6.025039e+10</td>\n",
              "      <td>2.351844e+12</td>\n",
              "    </tr>\n",
              "    <tr>\n",
              "      <th>3</th>\n",
              "      <td>2025-07-28</td>\n",
              "      <td>2025-07-29</td>\n",
              "      <td>119370.0</td>\n",
              "      <td>119759.0</td>\n",
              "      <td>117435.0</td>\n",
              "      <td>117883.0</td>\n",
              "      <td>5.371660e+10</td>\n",
              "      <td>2.360848e+12</td>\n",
              "    </tr>\n",
              "    <tr>\n",
              "      <th>4</th>\n",
              "      <td>2025-07-27</td>\n",
              "      <td>2025-07-28</td>\n",
              "      <td>117944.0</td>\n",
              "      <td>119767.0</td>\n",
              "      <td>117842.0</td>\n",
              "      <td>119429.0</td>\n",
              "      <td>3.495047e+10</td>\n",
              "      <td>2.357912e+12</td>\n",
              "    </tr>\n",
              "  </tbody>\n",
              "</table>\n",
              "</div>"
            ],
            "text/plain": [
              "        Start         End      Open      High       Low     Close  \\\n",
              "0  2025-07-31  2025-08-01  117823.0  118867.0  115606.0  115606.0   \n",
              "1  2025-07-30  2025-07-31  117796.0  118699.0  116027.0  117800.0   \n",
              "2  2025-07-29  2025-07-30  118100.0  119095.0  117084.0  117877.0   \n",
              "3  2025-07-28  2025-07-29  119370.0  119759.0  117435.0  117883.0   \n",
              "4  2025-07-27  2025-07-28  117944.0  119767.0  117842.0  119429.0   \n",
              "\n",
              "         Volume    Market Cap  \n",
              "0  6.462546e+10  2.347673e+12  \n",
              "1  5.748423e+10  2.343903e+12  \n",
              "2  6.025039e+10  2.351844e+12  \n",
              "3  5.371660e+10  2.360848e+12  \n",
              "4  3.495047e+10  2.357912e+12  "
            ]
          },
          "execution_count": 4,
          "metadata": {},
          "output_type": "execute_result"
        }
      ],
      "source": [
        "import pandas as pd\n",
        "df_bitcoin = pd.read_csv(f\"inputs/datasets/raw/bitcoin_2010-07-17_2025-07-31.csv\")\n",
        "df_bitcoin.head()"
      ]
    },
    {
      "cell_type": "code",
      "execution_count": 5,
      "metadata": {},
      "outputs": [
        {
          "data": {
            "text/html": [
              "<div>\n",
              "<style scoped>\n",
              "    .dataframe tbody tr th:only-of-type {\n",
              "        vertical-align: middle;\n",
              "    }\n",
              "\n",
              "    .dataframe tbody tr th {\n",
              "        vertical-align: top;\n",
              "    }\n",
              "\n",
              "    .dataframe thead th {\n",
              "        text-align: right;\n",
              "    }\n",
              "</style>\n",
              "<table border=\"1\" class=\"dataframe\">\n",
              "  <thead>\n",
              "    <tr style=\"text-align: right;\">\n",
              "      <th></th>\n",
              "      <th>Date</th>\n",
              "      <th>M2_Money_Supply</th>\n",
              "      <th>10Y Treasury Yield</th>\n",
              "      <th>Fed Funds Rate</th>\n",
              "      <th>CPI</th>\n",
              "      <th>Inflation_Rate_%</th>\n",
              "      <th>SOFR</th>\n",
              "    </tr>\n",
              "  </thead>\n",
              "  <tbody>\n",
              "    <tr>\n",
              "      <th>0</th>\n",
              "      <td>2018-04-03</td>\n",
              "      <td>13993.9</td>\n",
              "      <td>2.87</td>\n",
              "      <td>1.69</td>\n",
              "      <td>250.227</td>\n",
              "      <td>2.470996</td>\n",
              "      <td>1.83</td>\n",
              "    </tr>\n",
              "    <tr>\n",
              "      <th>1</th>\n",
              "      <td>2018-04-04</td>\n",
              "      <td>13993.9</td>\n",
              "      <td>2.87</td>\n",
              "      <td>1.69</td>\n",
              "      <td>250.227</td>\n",
              "      <td>2.470996</td>\n",
              "      <td>1.74</td>\n",
              "    </tr>\n",
              "    <tr>\n",
              "      <th>2</th>\n",
              "      <td>2018-04-05</td>\n",
              "      <td>13993.9</td>\n",
              "      <td>2.87</td>\n",
              "      <td>1.69</td>\n",
              "      <td>250.227</td>\n",
              "      <td>2.470996</td>\n",
              "      <td>1.75</td>\n",
              "    </tr>\n",
              "    <tr>\n",
              "      <th>3</th>\n",
              "      <td>2018-04-06</td>\n",
              "      <td>13993.9</td>\n",
              "      <td>2.87</td>\n",
              "      <td>1.69</td>\n",
              "      <td>250.227</td>\n",
              "      <td>2.470996</td>\n",
              "      <td>1.75</td>\n",
              "    </tr>\n",
              "    <tr>\n",
              "      <th>4</th>\n",
              "      <td>2018-04-09</td>\n",
              "      <td>13993.9</td>\n",
              "      <td>2.87</td>\n",
              "      <td>1.69</td>\n",
              "      <td>250.227</td>\n",
              "      <td>2.470996</td>\n",
              "      <td>1.75</td>\n",
              "    </tr>\n",
              "  </tbody>\n",
              "</table>\n",
              "</div>"
            ],
            "text/plain": [
              "         Date  M2_Money_Supply  10Y Treasury Yield  Fed Funds Rate      CPI  \\\n",
              "0  2018-04-03          13993.9                2.87            1.69  250.227   \n",
              "1  2018-04-04          13993.9                2.87            1.69  250.227   \n",
              "2  2018-04-05          13993.9                2.87            1.69  250.227   \n",
              "3  2018-04-06          13993.9                2.87            1.69  250.227   \n",
              "4  2018-04-09          13993.9                2.87            1.69  250.227   \n",
              "\n",
              "   Inflation_Rate_%  SOFR  \n",
              "0          2.470996  1.83  \n",
              "1          2.470996  1.74  \n",
              "2          2.470996  1.75  \n",
              "3          2.470996  1.75  \n",
              "4          2.470996  1.75  "
            ]
          },
          "execution_count": 5,
          "metadata": {},
          "output_type": "execute_result"
        }
      ],
      "source": [
        "import pandas as pd\n",
        "df_macro = pd.read_csv(f\"inputs/datasets/raw/macro_data_25yrs.csv\")\n",
        "df_macro.head()"
      ]
    },
    {
      "cell_type": "code",
      "execution_count": 6,
      "metadata": {},
      "outputs": [
        {
          "data": {
            "text/html": [
              "<div>\n",
              "<style scoped>\n",
              "    .dataframe tbody tr th:only-of-type {\n",
              "        vertical-align: middle;\n",
              "    }\n",
              "\n",
              "    .dataframe tbody tr th {\n",
              "        vertical-align: top;\n",
              "    }\n",
              "\n",
              "    .dataframe thead th {\n",
              "        text-align: right;\n",
              "    }\n",
              "</style>\n",
              "<table border=\"1\" class=\"dataframe\">\n",
              "  <thead>\n",
              "    <tr style=\"text-align: right;\">\n",
              "      <th></th>\n",
              "      <th>Date</th>\n",
              "      <th>Open</th>\n",
              "      <th>High</th>\n",
              "      <th>Low</th>\n",
              "      <th>Close</th>\n",
              "      <th>Volume</th>\n",
              "      <th>InterestRate</th>\n",
              "      <th>ExchangeRate</th>\n",
              "      <th>VIX</th>\n",
              "      <th>TEDSpread</th>\n",
              "      <th>EFFR</th>\n",
              "      <th>Gold</th>\n",
              "      <th>Oil</th>\n",
              "    </tr>\n",
              "  </thead>\n",
              "  <tbody>\n",
              "    <tr>\n",
              "      <th>0</th>\n",
              "      <td>2010-01-04</td>\n",
              "      <td>6.640000</td>\n",
              "      <td>6.810000</td>\n",
              "      <td>6.633333</td>\n",
              "      <td>6.746667</td>\n",
              "      <td>6514500.0</td>\n",
              "      <td>0.11</td>\n",
              "      <td>1.4419</td>\n",
              "      <td>20.04</td>\n",
              "      <td>0.17</td>\n",
              "      <td>0.12</td>\n",
              "      <td>1117.699951</td>\n",
              "      <td>81.510002</td>\n",
              "    </tr>\n",
              "    <tr>\n",
              "      <th>1</th>\n",
              "      <td>2010-01-05</td>\n",
              "      <td>6.643333</td>\n",
              "      <td>6.773333</td>\n",
              "      <td>6.643333</td>\n",
              "      <td>6.766667</td>\n",
              "      <td>4445100.0</td>\n",
              "      <td>0.11</td>\n",
              "      <td>1.4402</td>\n",
              "      <td>19.35</td>\n",
              "      <td>0.18</td>\n",
              "      <td>0.12</td>\n",
              "      <td>1118.099976</td>\n",
              "      <td>81.769997</td>\n",
              "    </tr>\n",
              "    <tr>\n",
              "      <th>2</th>\n",
              "      <td>2010-01-06</td>\n",
              "      <td>6.733333</td>\n",
              "      <td>6.786667</td>\n",
              "      <td>6.720000</td>\n",
              "      <td>6.763333</td>\n",
              "      <td>7340100.0</td>\n",
              "      <td>0.11</td>\n",
              "      <td>1.4404</td>\n",
              "      <td>19.16</td>\n",
              "      <td>0.19</td>\n",
              "      <td>0.12</td>\n",
              "      <td>1135.900024</td>\n",
              "      <td>83.180000</td>\n",
              "    </tr>\n",
              "    <tr>\n",
              "      <th>3</th>\n",
              "      <td>2010-01-07</td>\n",
              "      <td>6.750000</td>\n",
              "      <td>6.766667</td>\n",
              "      <td>6.630000</td>\n",
              "      <td>6.673333</td>\n",
              "      <td>8498400.0</td>\n",
              "      <td>0.11</td>\n",
              "      <td>1.4314</td>\n",
              "      <td>19.06</td>\n",
              "      <td>0.20</td>\n",
              "      <td>0.10</td>\n",
              "      <td>1133.099976</td>\n",
              "      <td>82.660004</td>\n",
              "    </tr>\n",
              "    <tr>\n",
              "      <th>4</th>\n",
              "      <td>2010-01-08</td>\n",
              "      <td>6.676667</td>\n",
              "      <td>6.766667</td>\n",
              "      <td>6.626667</td>\n",
              "      <td>6.743333</td>\n",
              "      <td>4347600.0</td>\n",
              "      <td>0.11</td>\n",
              "      <td>1.4357</td>\n",
              "      <td>18.13</td>\n",
              "      <td>0.20</td>\n",
              "      <td>0.11</td>\n",
              "      <td>1138.199951</td>\n",
              "      <td>82.750000</td>\n",
              "    </tr>\n",
              "  </tbody>\n",
              "</table>\n",
              "</div>"
            ],
            "text/plain": [
              "         Date      Open      High       Low     Close     Volume  \\\n",
              "0  2010-01-04  6.640000  6.810000  6.633333  6.746667  6514500.0   \n",
              "1  2010-01-05  6.643333  6.773333  6.643333  6.766667  4445100.0   \n",
              "2  2010-01-06  6.733333  6.786667  6.720000  6.763333  7340100.0   \n",
              "3  2010-01-07  6.750000  6.766667  6.630000  6.673333  8498400.0   \n",
              "4  2010-01-08  6.676667  6.766667  6.626667  6.743333  4347600.0   \n",
              "\n",
              "   InterestRate  ExchangeRate    VIX  TEDSpread  EFFR         Gold        Oil  \n",
              "0          0.11        1.4419  20.04       0.17  0.12  1117.699951  81.510002  \n",
              "1          0.11        1.4402  19.35       0.18  0.12  1118.099976  81.769997  \n",
              "2          0.11        1.4404  19.16       0.19  0.12  1135.900024  83.180000  \n",
              "3          0.11        1.4314  19.06       0.20  0.10  1133.099976  82.660004  \n",
              "4          0.11        1.4357  18.13       0.20  0.11  1138.199951  82.750000  "
            ]
          },
          "execution_count": 6,
          "metadata": {},
          "output_type": "execute_result"
        }
      ],
      "source": [
        "import pandas as pd\n",
        "df_nasdaq = pd.read_csv(f\"inputs/datasets/raw/nasdq.csv\")\n",
        "df_nasdaq.head()"
      ]
    },
    {
      "cell_type": "markdown",
      "metadata": {
        "id": "ZY3l0-AxO93d"
      },
      "source": [
        "---"
      ]
    },
    {
      "cell_type": "markdown",
      "metadata": {
        "id": "uFQo3ycuO-v6"
      },
      "source": [
        "# Data Inspection & Cleaning"
      ]
    },
    {
      "cell_type": "markdown",
      "metadata": {},
      "source": [
        "Convert all datasets' date using datetime"
      ]
    },
    {
      "cell_type": "code",
      "execution_count": 7,
      "metadata": {},
      "outputs": [],
      "source": [
        "df_bitcoin['Date'] = pd.to_datetime(df_bitcoin['End'])\n",
        "df_macro['Date'] = pd.to_datetime(df_macro['Date'])\n",
        "df_nasdaq['Date'] = pd.to_datetime(df_nasdaq['Date'])"
      ]
    },
    {
      "cell_type": "markdown",
      "metadata": {},
      "source": [
        "Sort date values"
      ]
    },
    {
      "cell_type": "code",
      "execution_count": 8,
      "metadata": {},
      "outputs": [],
      "source": [
        "df_bitcoin.sort_values('Date', inplace=True)\n",
        "df_macro.sort_values('Date', inplace=True)\n",
        "df_nasdaq.sort_values('Date', inplace=True)"
      ]
    },
    {
      "cell_type": "markdown",
      "metadata": {},
      "source": [
        "Merge the datasets & rename BitCoin 'Close' column as 'BitCoin_Close' to remove ambiguity across datasets"
      ]
    },
    {
      "cell_type": "code",
      "execution_count": 9,
      "metadata": {},
      "outputs": [],
      "source": [
        "df_merged = pd.merge(df_nasdaq, df_macro, on='Date', how='inner')"
      ]
    },
    {
      "cell_type": "code",
      "execution_count": 10,
      "metadata": {},
      "outputs": [],
      "source": [
        "df_bitcoin.rename(columns={'Close': 'BitCoin_Close'}, inplace=True)"
      ]
    },
    {
      "cell_type": "code",
      "execution_count": 11,
      "metadata": {},
      "outputs": [],
      "source": [
        "df_final = pd.merge(df_merged, df_bitcoin[['Date', 'BitCoin_Close']], on='Date', how='left')"
      ]
    },
    {
      "cell_type": "code",
      "execution_count": 12,
      "metadata": {},
      "outputs": [
        {
          "data": {
            "text/html": [
              "<div>\n",
              "<style scoped>\n",
              "    .dataframe tbody tr th:only-of-type {\n",
              "        vertical-align: middle;\n",
              "    }\n",
              "\n",
              "    .dataframe tbody tr th {\n",
              "        vertical-align: top;\n",
              "    }\n",
              "\n",
              "    .dataframe thead th {\n",
              "        text-align: right;\n",
              "    }\n",
              "</style>\n",
              "<table border=\"1\" class=\"dataframe\">\n",
              "  <thead>\n",
              "    <tr style=\"text-align: right;\">\n",
              "      <th></th>\n",
              "      <th>Date</th>\n",
              "      <th>Open</th>\n",
              "      <th>High</th>\n",
              "      <th>Low</th>\n",
              "      <th>Close</th>\n",
              "      <th>Volume</th>\n",
              "      <th>InterestRate</th>\n",
              "      <th>ExchangeRate</th>\n",
              "      <th>VIX</th>\n",
              "      <th>TEDSpread</th>\n",
              "      <th>EFFR</th>\n",
              "      <th>Gold</th>\n",
              "      <th>Oil</th>\n",
              "      <th>M2_Money_Supply</th>\n",
              "      <th>10Y Treasury Yield</th>\n",
              "      <th>Fed Funds Rate</th>\n",
              "      <th>CPI</th>\n",
              "      <th>Inflation_Rate_%</th>\n",
              "      <th>SOFR</th>\n",
              "      <th>BitCoin_Close</th>\n",
              "    </tr>\n",
              "  </thead>\n",
              "  <tbody>\n",
              "    <tr>\n",
              "      <th>0</th>\n",
              "      <td>2018-04-03</td>\n",
              "      <td>28.526667</td>\n",
              "      <td>28.903334</td>\n",
              "      <td>28.366667</td>\n",
              "      <td>28.883333</td>\n",
              "      <td>4917300.0</td>\n",
              "      <td>1.69</td>\n",
              "      <td>1.2261</td>\n",
              "      <td>21.10</td>\n",
              "      <td>0.60</td>\n",
              "      <td>1.69</td>\n",
              "      <td>1332.800049</td>\n",
              "      <td>63.509998</td>\n",
              "      <td>13993.9</td>\n",
              "      <td>2.87</td>\n",
              "      <td>1.69</td>\n",
              "      <td>250.227</td>\n",
              "      <td>2.470996</td>\n",
              "      <td>1.83</td>\n",
              "      <td>7061.622526</td>\n",
              "    </tr>\n",
              "    <tr>\n",
              "      <th>1</th>\n",
              "      <td>2018-04-04</td>\n",
              "      <td>28.469999</td>\n",
              "      <td>28.799999</td>\n",
              "      <td>28.379999</td>\n",
              "      <td>28.740000</td>\n",
              "      <td>3822600.0</td>\n",
              "      <td>1.69</td>\n",
              "      <td>1.2292</td>\n",
              "      <td>20.06</td>\n",
              "      <td>0.64</td>\n",
              "      <td>1.69</td>\n",
              "      <td>1335.800049</td>\n",
              "      <td>63.369999</td>\n",
              "      <td>13993.9</td>\n",
              "      <td>2.87</td>\n",
              "      <td>1.69</td>\n",
              "      <td>250.227</td>\n",
              "      <td>2.470996</td>\n",
              "      <td>1.74</td>\n",
              "      <td>7454.691790</td>\n",
              "    </tr>\n",
              "    <tr>\n",
              "      <th>2</th>\n",
              "      <td>2018-04-05</td>\n",
              "      <td>28.833332</td>\n",
              "      <td>28.980000</td>\n",
              "      <td>28.670000</td>\n",
              "      <td>28.770000</td>\n",
              "      <td>3174300.0</td>\n",
              "      <td>1.69</td>\n",
              "      <td>1.2230</td>\n",
              "      <td>18.94</td>\n",
              "      <td>0.64</td>\n",
              "      <td>1.69</td>\n",
              "      <td>1324.300049</td>\n",
              "      <td>63.540001</td>\n",
              "      <td>13993.9</td>\n",
              "      <td>2.87</td>\n",
              "      <td>1.69</td>\n",
              "      <td>250.227</td>\n",
              "      <td>2.470996</td>\n",
              "      <td>1.75</td>\n",
              "      <td>6840.936110</td>\n",
              "    </tr>\n",
              "    <tr>\n",
              "      <th>3</th>\n",
              "      <td>2018-04-06</td>\n",
              "      <td>28.633333</td>\n",
              "      <td>28.730000</td>\n",
              "      <td>28.163334</td>\n",
              "      <td>28.400000</td>\n",
              "      <td>2808000.0</td>\n",
              "      <td>1.69</td>\n",
              "      <td>1.2274</td>\n",
              "      <td>21.49</td>\n",
              "      <td>0.64</td>\n",
              "      <td>1.69</td>\n",
              "      <td>1331.900024</td>\n",
              "      <td>62.060001</td>\n",
              "      <td>13993.9</td>\n",
              "      <td>2.87</td>\n",
              "      <td>1.69</td>\n",
              "      <td>250.227</td>\n",
              "      <td>2.470996</td>\n",
              "      <td>1.75</td>\n",
              "      <td>6819.726657</td>\n",
              "    </tr>\n",
              "    <tr>\n",
              "      <th>4</th>\n",
              "      <td>2018-04-09</td>\n",
              "      <td>28.486668</td>\n",
              "      <td>28.886667</td>\n",
              "      <td>28.320000</td>\n",
              "      <td>28.430000</td>\n",
              "      <td>1798200.0</td>\n",
              "      <td>1.69</td>\n",
              "      <td>1.2320</td>\n",
              "      <td>21.77</td>\n",
              "      <td>0.61</td>\n",
              "      <td>1.69</td>\n",
              "      <td>1336.300049</td>\n",
              "      <td>63.419998</td>\n",
              "      <td>13993.9</td>\n",
              "      <td>2.87</td>\n",
              "      <td>1.69</td>\n",
              "      <td>250.227</td>\n",
              "      <td>2.470996</td>\n",
              "      <td>1.75</td>\n",
              "      <td>7000.923355</td>\n",
              "    </tr>\n",
              "  </tbody>\n",
              "</table>\n",
              "</div>"
            ],
            "text/plain": [
              "        Date       Open       High        Low      Close     Volume  \\\n",
              "0 2018-04-03  28.526667  28.903334  28.366667  28.883333  4917300.0   \n",
              "1 2018-04-04  28.469999  28.799999  28.379999  28.740000  3822600.0   \n",
              "2 2018-04-05  28.833332  28.980000  28.670000  28.770000  3174300.0   \n",
              "3 2018-04-06  28.633333  28.730000  28.163334  28.400000  2808000.0   \n",
              "4 2018-04-09  28.486668  28.886667  28.320000  28.430000  1798200.0   \n",
              "\n",
              "   InterestRate  ExchangeRate    VIX  TEDSpread  EFFR         Gold        Oil  \\\n",
              "0          1.69        1.2261  21.10       0.60  1.69  1332.800049  63.509998   \n",
              "1          1.69        1.2292  20.06       0.64  1.69  1335.800049  63.369999   \n",
              "2          1.69        1.2230  18.94       0.64  1.69  1324.300049  63.540001   \n",
              "3          1.69        1.2274  21.49       0.64  1.69  1331.900024  62.060001   \n",
              "4          1.69        1.2320  21.77       0.61  1.69  1336.300049  63.419998   \n",
              "\n",
              "   M2_Money_Supply  10Y Treasury Yield  Fed Funds Rate      CPI  \\\n",
              "0          13993.9                2.87            1.69  250.227   \n",
              "1          13993.9                2.87            1.69  250.227   \n",
              "2          13993.9                2.87            1.69  250.227   \n",
              "3          13993.9                2.87            1.69  250.227   \n",
              "4          13993.9                2.87            1.69  250.227   \n",
              "\n",
              "   Inflation_Rate_%  SOFR  BitCoin_Close  \n",
              "0          2.470996  1.83    7061.622526  \n",
              "1          2.470996  1.74    7454.691790  \n",
              "2          2.470996  1.75    6840.936110  \n",
              "3          2.470996  1.75    6819.726657  \n",
              "4          2.470996  1.75    7000.923355  "
            ]
          },
          "execution_count": 12,
          "metadata": {},
          "output_type": "execute_result"
        }
      ],
      "source": [
        "df_final.head()\n"
      ]
    },
    {
      "cell_type": "code",
      "execution_count": 13,
      "metadata": {},
      "outputs": [
        {
          "name": "stdout",
          "output_type": "stream",
          "text": [
            "<class 'pandas.core.frame.DataFrame'>\n",
            "RangeIndex: 1714 entries, 0 to 1713\n",
            "Data columns (total 20 columns):\n",
            " #   Column              Non-Null Count  Dtype         \n",
            "---  ------              --------------  -----         \n",
            " 0   Date                1714 non-null   datetime64[ns]\n",
            " 1   Open                1714 non-null   float64       \n",
            " 2   High                1714 non-null   float64       \n",
            " 3   Low                 1714 non-null   float64       \n",
            " 4   Close               1714 non-null   float64       \n",
            " 5   Volume              1714 non-null   float64       \n",
            " 6   InterestRate        1714 non-null   float64       \n",
            " 7   ExchangeRate        1714 non-null   float64       \n",
            " 8   VIX                 1714 non-null   float64       \n",
            " 9   TEDSpread           1714 non-null   float64       \n",
            " 10  EFFR                1714 non-null   float64       \n",
            " 11  Gold                1714 non-null   float64       \n",
            " 12  Oil                 1714 non-null   float64       \n",
            " 13  M2_Money_Supply     1714 non-null   float64       \n",
            " 14  10Y Treasury Yield  1714 non-null   float64       \n",
            " 15  Fed Funds Rate      1714 non-null   float64       \n",
            " 16  CPI                 1714 non-null   float64       \n",
            " 17  Inflation_Rate_%    1714 non-null   float64       \n",
            " 18  SOFR                1642 non-null   float64       \n",
            " 19  BitCoin_Close       1714 non-null   float64       \n",
            "dtypes: datetime64[ns](1), float64(19)\n",
            "memory usage: 267.9 KB\n"
          ]
        }
      ],
      "source": [
        "df_final.info()"
      ]
    },
    {
      "cell_type": "markdown",
      "metadata": {},
      "source": [
        "Check for missing values:"
      ]
    },
    {
      "cell_type": "code",
      "execution_count": 14,
      "metadata": {},
      "outputs": [
        {
          "name": "stdout",
          "output_type": "stream",
          "text": [
            "Date                   0\n",
            "Open                   0\n",
            "High                   0\n",
            "Low                    0\n",
            "Close                  0\n",
            "Volume                 0\n",
            "InterestRate           0\n",
            "ExchangeRate           0\n",
            "VIX                    0\n",
            "TEDSpread              0\n",
            "EFFR                   0\n",
            "Gold                   0\n",
            "Oil                    0\n",
            "M2_Money_Supply        0\n",
            "10Y Treasury Yield     0\n",
            "Fed Funds Rate         0\n",
            "CPI                    0\n",
            "Inflation_Rate_%       0\n",
            "SOFR                  72\n",
            "BitCoin_Close          0\n",
            "dtype: int64\n"
          ]
        }
      ],
      "source": [
        "print(df_final.isnull().sum())"
      ]
    },
    {
      "cell_type": "markdown",
      "metadata": {},
      "source": [
        "Use interpolation to fill in missing values based on those values around them in the SOFR column"
      ]
    },
    {
      "cell_type": "code",
      "execution_count": 15,
      "metadata": {},
      "outputs": [],
      "source": [
        "df_final['SOFR'] = df_final['SOFR'].interpolate(method='linear')\n"
      ]
    },
    {
      "cell_type": "code",
      "execution_count": 16,
      "metadata": {},
      "outputs": [
        {
          "name": "stdout",
          "output_type": "stream",
          "text": [
            "Date                  0\n",
            "Open                  0\n",
            "High                  0\n",
            "Low                   0\n",
            "Close                 0\n",
            "Volume                0\n",
            "InterestRate          0\n",
            "ExchangeRate          0\n",
            "VIX                   0\n",
            "TEDSpread             0\n",
            "EFFR                  0\n",
            "Gold                  0\n",
            "Oil                   0\n",
            "M2_Money_Supply       0\n",
            "10Y Treasury Yield    0\n",
            "Fed Funds Rate        0\n",
            "CPI                   0\n",
            "Inflation_Rate_%      0\n",
            "SOFR                  0\n",
            "BitCoin_Close         0\n",
            "dtype: int64\n"
          ]
        }
      ],
      "source": [
        "print(df_final.isnull().sum())"
      ]
    },
    {
      "cell_type": "markdown",
      "metadata": {},
      "source": [
        "### Drop unnecessary columns & rename others for clarity\n",
        "\n",
        "* Drop open, low and high prices as we're only interested in the close prices.  Also drop InterestRate & EFFR as these are duplicated with Fed Funds Rate\n",
        "\n",
        "* Rename Close and Volume columns for better clarity"
      ]
    },
    {
      "cell_type": "code",
      "execution_count": 17,
      "metadata": {},
      "outputs": [
        {
          "data": {
            "text/html": [
              "<div>\n",
              "<style scoped>\n",
              "    .dataframe tbody tr th:only-of-type {\n",
              "        vertical-align: middle;\n",
              "    }\n",
              "\n",
              "    .dataframe tbody tr th {\n",
              "        vertical-align: top;\n",
              "    }\n",
              "\n",
              "    .dataframe thead th {\n",
              "        text-align: right;\n",
              "    }\n",
              "</style>\n",
              "<table border=\"1\" class=\"dataframe\">\n",
              "  <thead>\n",
              "    <tr style=\"text-align: right;\">\n",
              "      <th></th>\n",
              "      <th>Date</th>\n",
              "      <th>Nasdaq_Close</th>\n",
              "      <th>Nasdaq_Volume</th>\n",
              "      <th>ExchangeRate</th>\n",
              "      <th>VIX</th>\n",
              "      <th>TEDSpread</th>\n",
              "      <th>Gold</th>\n",
              "      <th>Oil</th>\n",
              "      <th>M2_Money_Supply</th>\n",
              "      <th>10Y Treasury Yield</th>\n",
              "      <th>Fed Funds Rate</th>\n",
              "      <th>CPI</th>\n",
              "      <th>Inflation_Rate_%</th>\n",
              "      <th>SOFR</th>\n",
              "      <th>BitCoin_Close</th>\n",
              "    </tr>\n",
              "  </thead>\n",
              "  <tbody>\n",
              "    <tr>\n",
              "      <th>0</th>\n",
              "      <td>2018-04-03</td>\n",
              "      <td>28.883333</td>\n",
              "      <td>4917300.0</td>\n",
              "      <td>1.2261</td>\n",
              "      <td>21.10</td>\n",
              "      <td>0.60</td>\n",
              "      <td>1332.800049</td>\n",
              "      <td>63.509998</td>\n",
              "      <td>13993.9</td>\n",
              "      <td>2.87</td>\n",
              "      <td>1.69</td>\n",
              "      <td>250.227</td>\n",
              "      <td>2.470996</td>\n",
              "      <td>1.83</td>\n",
              "      <td>7061.622526</td>\n",
              "    </tr>\n",
              "    <tr>\n",
              "      <th>1</th>\n",
              "      <td>2018-04-04</td>\n",
              "      <td>28.740000</td>\n",
              "      <td>3822600.0</td>\n",
              "      <td>1.2292</td>\n",
              "      <td>20.06</td>\n",
              "      <td>0.64</td>\n",
              "      <td>1335.800049</td>\n",
              "      <td>63.369999</td>\n",
              "      <td>13993.9</td>\n",
              "      <td>2.87</td>\n",
              "      <td>1.69</td>\n",
              "      <td>250.227</td>\n",
              "      <td>2.470996</td>\n",
              "      <td>1.74</td>\n",
              "      <td>7454.691790</td>\n",
              "    </tr>\n",
              "    <tr>\n",
              "      <th>2</th>\n",
              "      <td>2018-04-05</td>\n",
              "      <td>28.770000</td>\n",
              "      <td>3174300.0</td>\n",
              "      <td>1.2230</td>\n",
              "      <td>18.94</td>\n",
              "      <td>0.64</td>\n",
              "      <td>1324.300049</td>\n",
              "      <td>63.540001</td>\n",
              "      <td>13993.9</td>\n",
              "      <td>2.87</td>\n",
              "      <td>1.69</td>\n",
              "      <td>250.227</td>\n",
              "      <td>2.470996</td>\n",
              "      <td>1.75</td>\n",
              "      <td>6840.936110</td>\n",
              "    </tr>\n",
              "    <tr>\n",
              "      <th>3</th>\n",
              "      <td>2018-04-06</td>\n",
              "      <td>28.400000</td>\n",
              "      <td>2808000.0</td>\n",
              "      <td>1.2274</td>\n",
              "      <td>21.49</td>\n",
              "      <td>0.64</td>\n",
              "      <td>1331.900024</td>\n",
              "      <td>62.060001</td>\n",
              "      <td>13993.9</td>\n",
              "      <td>2.87</td>\n",
              "      <td>1.69</td>\n",
              "      <td>250.227</td>\n",
              "      <td>2.470996</td>\n",
              "      <td>1.75</td>\n",
              "      <td>6819.726657</td>\n",
              "    </tr>\n",
              "    <tr>\n",
              "      <th>4</th>\n",
              "      <td>2018-04-09</td>\n",
              "      <td>28.430000</td>\n",
              "      <td>1798200.0</td>\n",
              "      <td>1.2320</td>\n",
              "      <td>21.77</td>\n",
              "      <td>0.61</td>\n",
              "      <td>1336.300049</td>\n",
              "      <td>63.419998</td>\n",
              "      <td>13993.9</td>\n",
              "      <td>2.87</td>\n",
              "      <td>1.69</td>\n",
              "      <td>250.227</td>\n",
              "      <td>2.470996</td>\n",
              "      <td>1.75</td>\n",
              "      <td>7000.923355</td>\n",
              "    </tr>\n",
              "  </tbody>\n",
              "</table>\n",
              "</div>"
            ],
            "text/plain": [
              "        Date  Nasdaq_Close  Nasdaq_Volume  ExchangeRate    VIX  TEDSpread  \\\n",
              "0 2018-04-03     28.883333      4917300.0        1.2261  21.10       0.60   \n",
              "1 2018-04-04     28.740000      3822600.0        1.2292  20.06       0.64   \n",
              "2 2018-04-05     28.770000      3174300.0        1.2230  18.94       0.64   \n",
              "3 2018-04-06     28.400000      2808000.0        1.2274  21.49       0.64   \n",
              "4 2018-04-09     28.430000      1798200.0        1.2320  21.77       0.61   \n",
              "\n",
              "          Gold        Oil  M2_Money_Supply  10Y Treasury Yield  \\\n",
              "0  1332.800049  63.509998          13993.9                2.87   \n",
              "1  1335.800049  63.369999          13993.9                2.87   \n",
              "2  1324.300049  63.540001          13993.9                2.87   \n",
              "3  1331.900024  62.060001          13993.9                2.87   \n",
              "4  1336.300049  63.419998          13993.9                2.87   \n",
              "\n",
              "   Fed Funds Rate      CPI  Inflation_Rate_%  SOFR  BitCoin_Close  \n",
              "0            1.69  250.227          2.470996  1.83    7061.622526  \n",
              "1            1.69  250.227          2.470996  1.74    7454.691790  \n",
              "2            1.69  250.227          2.470996  1.75    6840.936110  \n",
              "3            1.69  250.227          2.470996  1.75    6819.726657  \n",
              "4            1.69  250.227          2.470996  1.75    7000.923355  "
            ]
          },
          "execution_count": 17,
          "metadata": {},
          "output_type": "execute_result"
        }
      ],
      "source": [
        "df_final.drop(columns=['Open', 'Low', 'High', 'InterestRate', 'EFFR'], inplace=True)\n",
        "df_final.rename(columns={\n",
        "    'Close': 'Nasdaq_Close',\n",
        "    'Volume': 'Nasdaq_Volume',\n",
        "    }, inplace=True)\n",
        "df_final.head()"
      ]
    },
    {
      "cell_type": "code",
      "execution_count": 18,
      "metadata": {},
      "outputs": [
        {
          "name": "stdout",
          "output_type": "stream",
          "text": [
            "<class 'pandas.core.frame.DataFrame'>\n",
            "RangeIndex: 1714 entries, 0 to 1713\n",
            "Data columns (total 15 columns):\n",
            " #   Column              Non-Null Count  Dtype         \n",
            "---  ------              --------------  -----         \n",
            " 0   Date                1714 non-null   datetime64[ns]\n",
            " 1   Nasdaq_Close        1714 non-null   float64       \n",
            " 2   Nasdaq_Volume       1714 non-null   float64       \n",
            " 3   ExchangeRate        1714 non-null   float64       \n",
            " 4   VIX                 1714 non-null   float64       \n",
            " 5   TEDSpread           1714 non-null   float64       \n",
            " 6   Gold                1714 non-null   float64       \n",
            " 7   Oil                 1714 non-null   float64       \n",
            " 8   M2_Money_Supply     1714 non-null   float64       \n",
            " 9   10Y Treasury Yield  1714 non-null   float64       \n",
            " 10  Fed Funds Rate      1714 non-null   float64       \n",
            " 11  CPI                 1714 non-null   float64       \n",
            " 12  Inflation_Rate_%    1714 non-null   float64       \n",
            " 13  SOFR                1714 non-null   float64       \n",
            " 14  BitCoin_Close       1714 non-null   float64       \n",
            "dtypes: datetime64[ns](1), float64(14)\n",
            "memory usage: 201.0 KB\n"
          ]
        }
      ],
      "source": [
        "df_final.info()"
      ]
    },
    {
      "cell_type": "markdown",
      "metadata": {},
      "source": [
        "### Data Cleaning Summary\n",
        "\n",
        "* BitCoin's 'Close' column was renamed to 'BitCoin_Close'\n",
        "* Interpolation was used to handle missing data evident on the SOFR column\n",
        "* Unnecessary columns were removed to avoid duplicated columns in the final dataset\n",
        "* Nasdaq 'Close' and 'Volume' columns had 'Nasdaq' included in the column names for futher clarity"
      ]
    },
    {
      "cell_type": "markdown",
      "metadata": {},
      "source": [
        "---"
      ]
    },
    {
      "cell_type": "markdown",
      "metadata": {
        "id": "ltNetd085qHf"
      },
      "source": [
        "# Push files to Repo"
      ]
    },
    {
      "cell_type": "markdown",
      "metadata": {},
      "source": [
        "* In case you don't need to push files to Repo, you may replace this section with \"Conclusions and Next Steps\" and state your conclusions and next steps."
      ]
    },
    {
      "cell_type": "code",
      "execution_count": 19,
      "metadata": {
        "id": "aKlnIozA4eQO",
        "outputId": "fd09bc1f-adb1-4511-f6ce-492a6af570c0"
      },
      "outputs": [
        {
          "name": "stdout",
          "output_type": "stream",
          "text": [
            "[Errno 17] File exists: 'outputs/datasets/collection'\n"
          ]
        }
      ],
      "source": [
        "import os\n",
        "try:\n",
        "  os.makedirs(name='outputs/datasets/collection')\n",
        "except Exception as e:\n",
        "  print(e)\n",
        "\n",
        "df_final.to_csv(f\"outputs/datasets/collection/BitCoinVsMacroNasdaq_v2.csv\",index=False)"
      ]
    },
    {
      "cell_type": "code",
      "execution_count": null,
      "metadata": {},
      "outputs": [],
      "source": []
    }
  ],
  "metadata": {
    "accelerator": "GPU",
    "colab": {
      "name": "Data Practitioner Jupyter Notebook.ipynb",
      "provenance": [],
      "toc_visible": true
    },
    "kernelspec": {
      "display_name": "3.12.1",
      "language": "python",
      "name": "python3"
    },
    "language_info": {
      "codemirror_mode": {
        "name": "ipython",
        "version": 3
      },
      "file_extension": ".py",
      "mimetype": "text/x-python",
      "name": "python",
      "nbconvert_exporter": "python",
      "pygments_lexer": "ipython3",
      "version": "3.12.1"
    },
    "orig_nbformat": 2
  },
  "nbformat": 4,
  "nbformat_minor": 2
}
