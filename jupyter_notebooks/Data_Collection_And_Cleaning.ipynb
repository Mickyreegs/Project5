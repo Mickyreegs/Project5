{
  "cells": [
    {
      "cell_type": "markdown",
      "metadata": {
        "id": "0aStgWSO0E0E"
      },
      "source": [
        "# **Data Collection & Cleaning Notebook**"
      ]
    },
    {
      "cell_type": "markdown",
      "metadata": {
        "id": "1eLEkw5O0ECa"
      },
      "source": [
        "## Objectives\n",
        "\n",
        "* This notebook will be used to fetch Kaggle datasets and also a BitCoin price dataset from CoinCodex.  Permission was received from Leo Daris, a content manager at CoinCodex.\n",
        "* The datasets will be merged into one dataset and the data will be inspected and cleaned\n",
        "* We will lag all features and save a final version after discarding the original unlagged features\n",
        "\n",
        "## Inputs\n",
        "\n",
        "* Kaggle JSON file - the authentication token.\n",
        "* CoinCodex .csv download - BitCoin prices - https://coincodex.com/crypto/bitcoin/\n",
        "* Kaggle NASDAQ dataset by Sai Karthik\n",
        "* Kaggle US Economic Vital Signs: 25 Years Of Macro Data dataset by Eswaran Muthu\n",
        "\n",
        "## Outputs\n",
        "\n",
        "* Generate Dataset: outputs/datasets/collection/\n"
      ]
    },
    {
      "cell_type": "markdown",
      "metadata": {
        "id": "9uWZXH9LwoQg"
      },
      "source": [
        "---"
      ]
    },
    {
      "cell_type": "markdown",
      "metadata": {
        "id": "cqP-UeN-z3i2"
      },
      "source": [
        "# Change working directory"
      ]
    },
    {
      "cell_type": "markdown",
      "metadata": {
        "id": "aOGIGS-uz3i2"
      },
      "source": [
        "We need to change the working directory from its current folder to its parent folder\n",
        "* We access the current directory with os.getcwd()"
      ]
    },
    {
      "cell_type": "code",
      "execution_count": 1,
      "metadata": {
        "id": "wZfF_j-Bz3i4",
        "outputId": "66943449-1436-4c3d-85c7-b85f9f78349b"
      },
      "outputs": [
        {
          "data": {
            "text/plain": [
              "'/workspaces/Project5/jupyter_notebooks'"
            ]
          },
          "execution_count": 1,
          "metadata": {},
          "output_type": "execute_result"
        }
      ],
      "source": [
        "import os\n",
        "current_dir = os.getcwd()\n",
        "current_dir"
      ]
    },
    {
      "cell_type": "markdown",
      "metadata": {
        "id": "9MWW8E7lz3i7"
      },
      "source": [
        "We want to make the parent of the current directory the new current directory\n",
        "* os.path.dirname() gets the parent directory\n",
        "* os.chir() defines the new current directory"
      ]
    },
    {
      "cell_type": "code",
      "execution_count": 2,
      "metadata": {
        "id": "TwHsQRWjz3i9",
        "outputId": "86849db3-cd2f-4cc5-ebb8-2d0caafa1a2c"
      },
      "outputs": [
        {
          "name": "stdout",
          "output_type": "stream",
          "text": [
            "You set a new current directory\n"
          ]
        }
      ],
      "source": [
        "os.chdir(os.path.dirname(current_dir))\n",
        "print(\"You set a new current directory\")"
      ]
    },
    {
      "cell_type": "markdown",
      "metadata": {
        "id": "M_xPk_Ijz3i-"
      },
      "source": [
        "Confirm the new current directory"
      ]
    },
    {
      "cell_type": "code",
      "execution_count": 3,
      "metadata": {
        "id": "vz3S-_kjz3jA",
        "outputId": "00b79ae4-75d0-4a96-d193-ac9ef9847ea2"
      },
      "outputs": [
        {
          "data": {
            "text/plain": [
              "'/workspaces/Project5'"
            ]
          },
          "execution_count": 3,
          "metadata": {},
          "output_type": "execute_result"
        }
      ],
      "source": [
        "current_dir = os.getcwd()\n",
        "current_dir"
      ]
    },
    {
      "cell_type": "markdown",
      "metadata": {
        "id": "-mavJ8DibrcQ"
      },
      "source": [
        "# Fetch Kaggle Datasets"
      ]
    },
    {
      "cell_type": "markdown",
      "metadata": {},
      "source": [
        "Install Kaggle package to fetch data"
      ]
    },
    {
      "cell_type": "code",
      "execution_count": 4,
      "metadata": {},
      "outputs": [
        {
          "name": "stdout",
          "output_type": "stream",
          "text": [
            "Collecting kaggle==1.5.12\n",
            "  Downloading kaggle-1.5.12.tar.gz (58 kB)\n",
            "  Preparing metadata (setup.py) ... \u001b[?25ldone\n",
            "\u001b[?25hRequirement already satisfied: six>=1.10 in /home/cistudent/.pyenv/versions/3.12.1/lib/python3.12/site-packages (from kaggle==1.5.12) (1.17.0)\n",
            "Requirement already satisfied: certifi in /home/cistudent/.pyenv/versions/3.12.1/lib/python3.12/site-packages (from kaggle==1.5.12) (2024.12.14)\n",
            "Requirement already satisfied: python-dateutil in /home/cistudent/.pyenv/versions/3.12.1/lib/python3.12/site-packages (from kaggle==1.5.12) (2.9.0.post0)\n",
            "Requirement already satisfied: requests in /home/cistudent/.pyenv/versions/3.12.1/lib/python3.12/site-packages (from kaggle==1.5.12) (2.32.3)\n",
            "Requirement already satisfied: tqdm in /home/cistudent/.local/lib/python3.12/site-packages (from kaggle==1.5.12) (4.67.1)\n",
            "Collecting python-slugify (from kaggle==1.5.12)\n",
            "  Downloading python_slugify-8.0.4-py2.py3-none-any.whl.metadata (8.5 kB)\n",
            "Requirement already satisfied: urllib3 in /home/cistudent/.pyenv/versions/3.12.1/lib/python3.12/site-packages (from kaggle==1.5.12) (2.2.3)\n",
            "Collecting text-unidecode>=1.3 (from python-slugify->kaggle==1.5.12)\n",
            "  Downloading text_unidecode-1.3-py2.py3-none-any.whl.metadata (2.4 kB)\n",
            "Requirement already satisfied: charset-normalizer<4,>=2 in /home/cistudent/.pyenv/versions/3.12.1/lib/python3.12/site-packages (from requests->kaggle==1.5.12) (3.4.0)\n",
            "Requirement already satisfied: idna<4,>=2.5 in /home/cistudent/.pyenv/versions/3.12.1/lib/python3.12/site-packages (from requests->kaggle==1.5.12) (3.10)\n",
            "Downloading python_slugify-8.0.4-py2.py3-none-any.whl (10 kB)\n",
            "Downloading text_unidecode-1.3-py2.py3-none-any.whl (78 kB)\n",
            "Building wheels for collected packages: kaggle\n",
            "  Building wheel for kaggle (setup.py) ... \u001b[?25ldone\n",
            "\u001b[?25h  Created wheel for kaggle: filename=kaggle-1.5.12-py3-none-any.whl size=73026 sha256=4ea163f8e695b64978b2a6086d00c65789d10af926adcf99301a496b655fad0d\n",
            "  Stored in directory: /home/cistudent/.cache/pip/wheels/f5/69/4d/d701fc604b9fb09be59718b4056fd5556a22588ce1f25dd090\n",
            "Successfully built kaggle\n",
            "Installing collected packages: text-unidecode, python-slugify, kaggle\n",
            "Successfully installed kaggle-1.5.12 python-slugify-8.0.4 text-unidecode-1.3\n",
            "\n",
            "\u001b[1m[\u001b[0m\u001b[34;49mnotice\u001b[0m\u001b[1;39;49m]\u001b[0m\u001b[39;49m A new release of pip is available: \u001b[0m\u001b[31;49m24.3.1\u001b[0m\u001b[39;49m -> \u001b[0m\u001b[32;49m25.2\u001b[0m\n",
            "\u001b[1m[\u001b[0m\u001b[34;49mnotice\u001b[0m\u001b[1;39;49m]\u001b[0m\u001b[39;49m To update, run: \u001b[0m\u001b[32;49mpip install --upgrade pip\u001b[0m\n",
            "Note: you may need to restart the kernel to use updated packages.\n"
          ]
        }
      ],
      "source": [
        "%pip install kaggle==1.5.12"
      ]
    },
    {
      "cell_type": "markdown",
      "metadata": {},
      "source": [
        "Recognition of token"
      ]
    },
    {
      "cell_type": "code",
      "execution_count": 5,
      "metadata": {},
      "outputs": [],
      "source": [
        "import os\n",
        "os.environ['KAGGLE_CONFIG_DIR'] = os.getcwd()\n",
        "! chmod 600 kaggle.json"
      ]
    },
    {
      "cell_type": "markdown",
      "metadata": {},
      "source": [
        "Download Kaggle Datasets"
      ]
    },
    {
      "cell_type": "code",
      "execution_count": null,
      "metadata": {},
      "outputs": [
        {
          "name": "stdout",
          "output_type": "stream",
          "text": [
            "Downloading nasdq-dataset.zip to inputs/datasets/raw\n",
            "100%|█████████████████████████████████████████| 126k/126k [00:00<00:00, 514kB/s]\n",
            "100%|█████████████████████████████████████████| 126k/126k [00:00<00:00, 513kB/s]\n",
            "Downloading u-s-economic-vital-signs-25-years-of-macro-data.zip to inputs/datasets/raw\n",
            "  0%|                                               | 0.00/8.65k [00:00<?, ?B/s]\n",
            "100%|██████████████████████████████████████| 8.65k/8.65k [00:00<00:00, 24.8MB/s]\n"
          ]
        }
      ],
      "source": [
        "dataset_1 = \"sai14karthik/nasdq-dataset\"\n",
        "dataset_2 = \"eswaranmuthu/u-s-economic-vital-signs-25-years-of-macro-data\"\n",
        "DestinationFolder = \"inputs/datasets/raw\"\n",
        "\n",
        "!kaggle datasets download -d {dataset_1} -p {DestinationFolder}\n",
        "!kaggle datasets download -d {dataset_2} -p {DestinationFolder}"
      ]
    },
    {
      "cell_type": "markdown",
      "metadata": {},
      "source": [
        "Unzip the files"
      ]
    },
    {
      "cell_type": "code",
      "execution_count": 11,
      "metadata": {},
      "outputs": [
        {
          "name": "stdout",
          "output_type": "stream",
          "text": [
            "Unzipping: inputs/datasets/raw/nasdq-dataset.zip\n",
            "Unzipping: inputs/datasets/raw/u-s-economic-vital-signs-25-years-of-macro-data.zip\n"
          ]
        }
      ],
      "source": [
        "import os\n",
        "import zipfile\n",
        "\n",
        "for file in os.listdir(DestinationFolder):\n",
        "    if file.endswith(\".zip\"):\n",
        "        zip_path = os.path.join(DestinationFolder, file)\n",
        "        print(f\"Unzipping: {zip_path}\")\n",
        "        with zipfile.ZipFile(zip_path, 'r') as zip_ref:\n",
        "            zip_ref.extractall(DestinationFolder)\n",
        "        os.remove(zip_path)\n"
      ]
    },
    {
      "cell_type": "markdown",
      "metadata": {},
      "source": [
        "Load and inspect the data"
      ]
    },
    {
      "cell_type": "code",
      "execution_count": 5,
      "metadata": {},
      "outputs": [
        {
          "data": {
            "text/html": [
              "<div>\n",
              "<style scoped>\n",
              "    .dataframe tbody tr th:only-of-type {\n",
              "        vertical-align: middle;\n",
              "    }\n",
              "\n",
              "    .dataframe tbody tr th {\n",
              "        vertical-align: top;\n",
              "    }\n",
              "\n",
              "    .dataframe thead th {\n",
              "        text-align: right;\n",
              "    }\n",
              "</style>\n",
              "<table border=\"1\" class=\"dataframe\">\n",
              "  <thead>\n",
              "    <tr style=\"text-align: right;\">\n",
              "      <th></th>\n",
              "      <th>Start</th>\n",
              "      <th>End</th>\n",
              "      <th>Open</th>\n",
              "      <th>High</th>\n",
              "      <th>Low</th>\n",
              "      <th>Close</th>\n",
              "      <th>Volume</th>\n",
              "      <th>Market Cap</th>\n",
              "    </tr>\n",
              "  </thead>\n",
              "  <tbody>\n",
              "    <tr>\n",
              "      <th>0</th>\n",
              "      <td>2025-07-31</td>\n",
              "      <td>2025-08-01</td>\n",
              "      <td>117823.0</td>\n",
              "      <td>118867.0</td>\n",
              "      <td>115606.0</td>\n",
              "      <td>115606.0</td>\n",
              "      <td>6.462546e+10</td>\n",
              "      <td>2.347673e+12</td>\n",
              "    </tr>\n",
              "    <tr>\n",
              "      <th>1</th>\n",
              "      <td>2025-07-30</td>\n",
              "      <td>2025-07-31</td>\n",
              "      <td>117796.0</td>\n",
              "      <td>118699.0</td>\n",
              "      <td>116027.0</td>\n",
              "      <td>117800.0</td>\n",
              "      <td>5.748423e+10</td>\n",
              "      <td>2.343903e+12</td>\n",
              "    </tr>\n",
              "    <tr>\n",
              "      <th>2</th>\n",
              "      <td>2025-07-29</td>\n",
              "      <td>2025-07-30</td>\n",
              "      <td>118100.0</td>\n",
              "      <td>119095.0</td>\n",
              "      <td>117084.0</td>\n",
              "      <td>117877.0</td>\n",
              "      <td>6.025039e+10</td>\n",
              "      <td>2.351844e+12</td>\n",
              "    </tr>\n",
              "    <tr>\n",
              "      <th>3</th>\n",
              "      <td>2025-07-28</td>\n",
              "      <td>2025-07-29</td>\n",
              "      <td>119370.0</td>\n",
              "      <td>119759.0</td>\n",
              "      <td>117435.0</td>\n",
              "      <td>117883.0</td>\n",
              "      <td>5.371660e+10</td>\n",
              "      <td>2.360848e+12</td>\n",
              "    </tr>\n",
              "    <tr>\n",
              "      <th>4</th>\n",
              "      <td>2025-07-27</td>\n",
              "      <td>2025-07-28</td>\n",
              "      <td>117944.0</td>\n",
              "      <td>119767.0</td>\n",
              "      <td>117842.0</td>\n",
              "      <td>119429.0</td>\n",
              "      <td>3.495047e+10</td>\n",
              "      <td>2.357912e+12</td>\n",
              "    </tr>\n",
              "  </tbody>\n",
              "</table>\n",
              "</div>"
            ],
            "text/plain": [
              "        Start         End      Open      High       Low     Close  \\\n",
              "0  2025-07-31  2025-08-01  117823.0  118867.0  115606.0  115606.0   \n",
              "1  2025-07-30  2025-07-31  117796.0  118699.0  116027.0  117800.0   \n",
              "2  2025-07-29  2025-07-30  118100.0  119095.0  117084.0  117877.0   \n",
              "3  2025-07-28  2025-07-29  119370.0  119759.0  117435.0  117883.0   \n",
              "4  2025-07-27  2025-07-28  117944.0  119767.0  117842.0  119429.0   \n",
              "\n",
              "         Volume    Market Cap  \n",
              "0  6.462546e+10  2.347673e+12  \n",
              "1  5.748423e+10  2.343903e+12  \n",
              "2  6.025039e+10  2.351844e+12  \n",
              "3  5.371660e+10  2.360848e+12  \n",
              "4  3.495047e+10  2.357912e+12  "
            ]
          },
          "execution_count": 5,
          "metadata": {},
          "output_type": "execute_result"
        }
      ],
      "source": [
        "import pandas as pd\n",
        "df_bitcoin = pd.read_csv(f\"inputs/datasets/raw/bitcoin_2010-07-17_2025-07-31.csv\")\n",
        "df_bitcoin.head()"
      ]
    },
    {
      "cell_type": "code",
      "execution_count": 10,
      "metadata": {},
      "outputs": [
        {
          "data": {
            "text/html": [
              "<div>\n",
              "<style scoped>\n",
              "    .dataframe tbody tr th:only-of-type {\n",
              "        vertical-align: middle;\n",
              "    }\n",
              "\n",
              "    .dataframe tbody tr th {\n",
              "        vertical-align: top;\n",
              "    }\n",
              "\n",
              "    .dataframe thead th {\n",
              "        text-align: right;\n",
              "    }\n",
              "</style>\n",
              "<table border=\"1\" class=\"dataframe\">\n",
              "  <thead>\n",
              "    <tr style=\"text-align: right;\">\n",
              "      <th></th>\n",
              "      <th>Date</th>\n",
              "      <th>CPI</th>\n",
              "      <th>10Y Treasury Yield</th>\n",
              "      <th>Fed Funds Rate</th>\n",
              "      <th>M2_Money_Supply</th>\n",
              "      <th>Monthly_Inflation_Rate_%</th>\n",
              "    </tr>\n",
              "  </thead>\n",
              "  <tbody>\n",
              "    <tr>\n",
              "      <th>0</th>\n",
              "      <td>2010-07-18</td>\n",
              "      <td>217.605</td>\n",
              "      <td>2.99</td>\n",
              "      <td>0.19</td>\n",
              "      <td>8595.1</td>\n",
              "      <td>0.186925</td>\n",
              "    </tr>\n",
              "    <tr>\n",
              "      <th>1</th>\n",
              "      <td>2010-07-19</td>\n",
              "      <td>217.605</td>\n",
              "      <td>2.99</td>\n",
              "      <td>0.19</td>\n",
              "      <td>8595.1</td>\n",
              "      <td>NaN</td>\n",
              "    </tr>\n",
              "    <tr>\n",
              "      <th>2</th>\n",
              "      <td>2010-07-20</td>\n",
              "      <td>217.605</td>\n",
              "      <td>2.98</td>\n",
              "      <td>0.18</td>\n",
              "      <td>8595.1</td>\n",
              "      <td>NaN</td>\n",
              "    </tr>\n",
              "    <tr>\n",
              "      <th>3</th>\n",
              "      <td>2010-07-21</td>\n",
              "      <td>217.605</td>\n",
              "      <td>2.90</td>\n",
              "      <td>0.18</td>\n",
              "      <td>8595.1</td>\n",
              "      <td>NaN</td>\n",
              "    </tr>\n",
              "    <tr>\n",
              "      <th>4</th>\n",
              "      <td>2010-07-22</td>\n",
              "      <td>217.605</td>\n",
              "      <td>2.96</td>\n",
              "      <td>0.18</td>\n",
              "      <td>8595.1</td>\n",
              "      <td>NaN</td>\n",
              "    </tr>\n",
              "  </tbody>\n",
              "</table>\n",
              "</div>"
            ],
            "text/plain": [
              "        Date      CPI  10Y Treasury Yield  Fed Funds Rate  M2_Money_Supply  \\\n",
              "0 2010-07-18  217.605                2.99            0.19           8595.1   \n",
              "1 2010-07-19  217.605                2.99            0.19           8595.1   \n",
              "2 2010-07-20  217.605                2.98            0.18           8595.1   \n",
              "3 2010-07-21  217.605                2.90            0.18           8595.1   \n",
              "4 2010-07-22  217.605                2.96            0.18           8595.1   \n",
              "\n",
              "   Monthly_Inflation_Rate_%  \n",
              "0                  0.186925  \n",
              "1                       NaN  \n",
              "2                       NaN  \n",
              "3                       NaN  \n",
              "4                       NaN  "
            ]
          },
          "execution_count": 10,
          "metadata": {},
          "output_type": "execute_result"
        }
      ],
      "source": [
        "import pandas as pd\n",
        "df_macro = pd.read_csv(f\"inputs/datasets/raw/new_macro_data.csv\")\n",
        "df_macro['Date'] = pd.to_datetime(df_macro['Date'], dayfirst=True)\n",
        "df_macro.head()"
      ]
    },
    {
      "cell_type": "code",
      "execution_count": 11,
      "metadata": {},
      "outputs": [
        {
          "data": {
            "text/html": [
              "<div>\n",
              "<style scoped>\n",
              "    .dataframe tbody tr th:only-of-type {\n",
              "        vertical-align: middle;\n",
              "    }\n",
              "\n",
              "    .dataframe tbody tr th {\n",
              "        vertical-align: top;\n",
              "    }\n",
              "\n",
              "    .dataframe thead th {\n",
              "        text-align: right;\n",
              "    }\n",
              "</style>\n",
              "<table border=\"1\" class=\"dataframe\">\n",
              "  <thead>\n",
              "    <tr style=\"text-align: right;\">\n",
              "      <th></th>\n",
              "      <th>Date</th>\n",
              "      <th>Open</th>\n",
              "      <th>High</th>\n",
              "      <th>Low</th>\n",
              "      <th>Close</th>\n",
              "      <th>Volume</th>\n",
              "      <th>InterestRate</th>\n",
              "      <th>ExchangeRate</th>\n",
              "      <th>VIX</th>\n",
              "      <th>TEDSpread</th>\n",
              "      <th>EFFR</th>\n",
              "      <th>Gold</th>\n",
              "      <th>Oil</th>\n",
              "    </tr>\n",
              "  </thead>\n",
              "  <tbody>\n",
              "    <tr>\n",
              "      <th>0</th>\n",
              "      <td>2010-01-04</td>\n",
              "      <td>6.640000</td>\n",
              "      <td>6.810000</td>\n",
              "      <td>6.633333</td>\n",
              "      <td>6.746667</td>\n",
              "      <td>6514500.0</td>\n",
              "      <td>0.11</td>\n",
              "      <td>1.4419</td>\n",
              "      <td>20.04</td>\n",
              "      <td>0.17</td>\n",
              "      <td>0.12</td>\n",
              "      <td>1117.699951</td>\n",
              "      <td>81.510002</td>\n",
              "    </tr>\n",
              "    <tr>\n",
              "      <th>1</th>\n",
              "      <td>2010-01-05</td>\n",
              "      <td>6.643333</td>\n",
              "      <td>6.773333</td>\n",
              "      <td>6.643333</td>\n",
              "      <td>6.766667</td>\n",
              "      <td>4445100.0</td>\n",
              "      <td>0.11</td>\n",
              "      <td>1.4402</td>\n",
              "      <td>19.35</td>\n",
              "      <td>0.18</td>\n",
              "      <td>0.12</td>\n",
              "      <td>1118.099976</td>\n",
              "      <td>81.769997</td>\n",
              "    </tr>\n",
              "    <tr>\n",
              "      <th>2</th>\n",
              "      <td>2010-01-06</td>\n",
              "      <td>6.733333</td>\n",
              "      <td>6.786667</td>\n",
              "      <td>6.720000</td>\n",
              "      <td>6.763333</td>\n",
              "      <td>7340100.0</td>\n",
              "      <td>0.11</td>\n",
              "      <td>1.4404</td>\n",
              "      <td>19.16</td>\n",
              "      <td>0.19</td>\n",
              "      <td>0.12</td>\n",
              "      <td>1135.900024</td>\n",
              "      <td>83.180000</td>\n",
              "    </tr>\n",
              "    <tr>\n",
              "      <th>3</th>\n",
              "      <td>2010-01-07</td>\n",
              "      <td>6.750000</td>\n",
              "      <td>6.766667</td>\n",
              "      <td>6.630000</td>\n",
              "      <td>6.673333</td>\n",
              "      <td>8498400.0</td>\n",
              "      <td>0.11</td>\n",
              "      <td>1.4314</td>\n",
              "      <td>19.06</td>\n",
              "      <td>0.20</td>\n",
              "      <td>0.10</td>\n",
              "      <td>1133.099976</td>\n",
              "      <td>82.660004</td>\n",
              "    </tr>\n",
              "    <tr>\n",
              "      <th>4</th>\n",
              "      <td>2010-01-08</td>\n",
              "      <td>6.676667</td>\n",
              "      <td>6.766667</td>\n",
              "      <td>6.626667</td>\n",
              "      <td>6.743333</td>\n",
              "      <td>4347600.0</td>\n",
              "      <td>0.11</td>\n",
              "      <td>1.4357</td>\n",
              "      <td>18.13</td>\n",
              "      <td>0.20</td>\n",
              "      <td>0.11</td>\n",
              "      <td>1138.199951</td>\n",
              "      <td>82.750000</td>\n",
              "    </tr>\n",
              "  </tbody>\n",
              "</table>\n",
              "</div>"
            ],
            "text/plain": [
              "         Date      Open      High       Low     Close     Volume  \\\n",
              "0  2010-01-04  6.640000  6.810000  6.633333  6.746667  6514500.0   \n",
              "1  2010-01-05  6.643333  6.773333  6.643333  6.766667  4445100.0   \n",
              "2  2010-01-06  6.733333  6.786667  6.720000  6.763333  7340100.0   \n",
              "3  2010-01-07  6.750000  6.766667  6.630000  6.673333  8498400.0   \n",
              "4  2010-01-08  6.676667  6.766667  6.626667  6.743333  4347600.0   \n",
              "\n",
              "   InterestRate  ExchangeRate    VIX  TEDSpread  EFFR         Gold        Oil  \n",
              "0          0.11        1.4419  20.04       0.17  0.12  1117.699951  81.510002  \n",
              "1          0.11        1.4402  19.35       0.18  0.12  1118.099976  81.769997  \n",
              "2          0.11        1.4404  19.16       0.19  0.12  1135.900024  83.180000  \n",
              "3          0.11        1.4314  19.06       0.20  0.10  1133.099976  82.660004  \n",
              "4          0.11        1.4357  18.13       0.20  0.11  1138.199951  82.750000  "
            ]
          },
          "execution_count": 11,
          "metadata": {},
          "output_type": "execute_result"
        }
      ],
      "source": [
        "import pandas as pd\n",
        "df_nasdaq = pd.read_csv(f\"inputs/datasets/raw/nasdq.csv\")\n",
        "df_nasdaq.head()"
      ]
    },
    {
      "cell_type": "markdown",
      "metadata": {
        "id": "ZY3l0-AxO93d"
      },
      "source": [
        "---"
      ]
    },
    {
      "cell_type": "markdown",
      "metadata": {
        "id": "uFQo3ycuO-v6"
      },
      "source": [
        "# Data Inspection & Cleaning"
      ]
    },
    {
      "cell_type": "markdown",
      "metadata": {},
      "source": [
        "Convert all datasets' date using datetime"
      ]
    },
    {
      "cell_type": "code",
      "execution_count": 12,
      "metadata": {},
      "outputs": [],
      "source": [
        "df_bitcoin['Date'] = pd.to_datetime(df_bitcoin['End'])\n",
        "df_macro['Date'] = pd.to_datetime(df_macro['Date'])\n",
        "df_nasdaq['Date'] = pd.to_datetime(df_nasdaq['Date'])"
      ]
    },
    {
      "cell_type": "markdown",
      "metadata": {},
      "source": [
        "Sort date values"
      ]
    },
    {
      "cell_type": "code",
      "execution_count": 13,
      "metadata": {},
      "outputs": [],
      "source": [
        "df_bitcoin.sort_values('Date', inplace=True)\n",
        "df_macro.sort_values('Date', inplace=True)\n",
        "df_nasdaq.sort_values('Date', inplace=True)"
      ]
    },
    {
      "cell_type": "markdown",
      "metadata": {},
      "source": [
        "Merge the datasets & rename BitCoin 'Close' column as 'BitCoin_Close' to remove ambiguity across datasets"
      ]
    },
    {
      "cell_type": "code",
      "execution_count": 14,
      "metadata": {},
      "outputs": [],
      "source": [
        "df_bitcoin.rename(columns={'Close': 'BitCoin_Close'}, inplace=True)"
      ]
    },
    {
      "cell_type": "code",
      "execution_count": 16,
      "metadata": {},
      "outputs": [],
      "source": [
        "df_merged = pd.merge(df_bitcoin[['Date', 'BitCoin_Close']], df_macro, on='Date', how='left')"
      ]
    },
    {
      "cell_type": "code",
      "execution_count": 17,
      "metadata": {},
      "outputs": [],
      "source": [
        "df_final = pd.merge(df_merged, df_nasdaq, on='Date', how='left')"
      ]
    },
    {
      "cell_type": "code",
      "execution_count": 18,
      "metadata": {},
      "outputs": [
        {
          "data": {
            "text/html": [
              "<div>\n",
              "<style scoped>\n",
              "    .dataframe tbody tr th:only-of-type {\n",
              "        vertical-align: middle;\n",
              "    }\n",
              "\n",
              "    .dataframe tbody tr th {\n",
              "        vertical-align: top;\n",
              "    }\n",
              "\n",
              "    .dataframe thead th {\n",
              "        text-align: right;\n",
              "    }\n",
              "</style>\n",
              "<table border=\"1\" class=\"dataframe\">\n",
              "  <thead>\n",
              "    <tr style=\"text-align: right;\">\n",
              "      <th></th>\n",
              "      <th>Date</th>\n",
              "      <th>BitCoin_Close</th>\n",
              "      <th>CPI</th>\n",
              "      <th>10Y Treasury Yield</th>\n",
              "      <th>Fed Funds Rate</th>\n",
              "      <th>M2_Money_Supply</th>\n",
              "      <th>Monthly_Inflation_Rate_%</th>\n",
              "      <th>Open</th>\n",
              "      <th>High</th>\n",
              "      <th>Low</th>\n",
              "      <th>Close</th>\n",
              "      <th>Volume</th>\n",
              "      <th>InterestRate</th>\n",
              "      <th>ExchangeRate</th>\n",
              "      <th>VIX</th>\n",
              "      <th>TEDSpread</th>\n",
              "      <th>EFFR</th>\n",
              "      <th>Gold</th>\n",
              "      <th>Oil</th>\n",
              "    </tr>\n",
              "  </thead>\n",
              "  <tbody>\n",
              "    <tr>\n",
              "      <th>0</th>\n",
              "      <td>2010-07-18</td>\n",
              "      <td>0.0500</td>\n",
              "      <td>217.605</td>\n",
              "      <td>2.99</td>\n",
              "      <td>0.19</td>\n",
              "      <td>8595.1</td>\n",
              "      <td>0.186925</td>\n",
              "      <td>NaN</td>\n",
              "      <td>NaN</td>\n",
              "      <td>NaN</td>\n",
              "      <td>NaN</td>\n",
              "      <td>NaN</td>\n",
              "      <td>NaN</td>\n",
              "      <td>NaN</td>\n",
              "      <td>NaN</td>\n",
              "      <td>NaN</td>\n",
              "      <td>NaN</td>\n",
              "      <td>NaN</td>\n",
              "      <td>NaN</td>\n",
              "    </tr>\n",
              "    <tr>\n",
              "      <th>1</th>\n",
              "      <td>2010-07-19</td>\n",
              "      <td>0.0858</td>\n",
              "      <td>217.605</td>\n",
              "      <td>2.99</td>\n",
              "      <td>0.19</td>\n",
              "      <td>8595.1</td>\n",
              "      <td>NaN</td>\n",
              "      <td>5.886667</td>\n",
              "      <td>5.926667</td>\n",
              "      <td>5.833333</td>\n",
              "      <td>5.903333</td>\n",
              "      <td>4311000.0</td>\n",
              "      <td>0.18</td>\n",
              "      <td>1.2963</td>\n",
              "      <td>25.97</td>\n",
              "      <td>0.35</td>\n",
              "      <td>0.19</td>\n",
              "      <td>1181.699951</td>\n",
              "      <td>76.540001</td>\n",
              "    </tr>\n",
              "    <tr>\n",
              "      <th>2</th>\n",
              "      <td>2010-07-20</td>\n",
              "      <td>0.0808</td>\n",
              "      <td>217.605</td>\n",
              "      <td>2.98</td>\n",
              "      <td>0.18</td>\n",
              "      <td>8595.1</td>\n",
              "      <td>NaN</td>\n",
              "      <td>5.836667</td>\n",
              "      <td>6.060000</td>\n",
              "      <td>5.806667</td>\n",
              "      <td>6.050000</td>\n",
              "      <td>6911700.0</td>\n",
              "      <td>0.18</td>\n",
              "      <td>1.2905</td>\n",
              "      <td>23.93</td>\n",
              "      <td>0.35</td>\n",
              "      <td>0.18</td>\n",
              "      <td>1191.500000</td>\n",
              "      <td>77.440002</td>\n",
              "    </tr>\n",
              "    <tr>\n",
              "      <th>3</th>\n",
              "      <td>2010-07-21</td>\n",
              "      <td>0.0747</td>\n",
              "      <td>217.605</td>\n",
              "      <td>2.90</td>\n",
              "      <td>0.18</td>\n",
              "      <td>8595.1</td>\n",
              "      <td>NaN</td>\n",
              "      <td>6.133333</td>\n",
              "      <td>6.133333</td>\n",
              "      <td>5.920000</td>\n",
              "      <td>5.926667</td>\n",
              "      <td>5768400.0</td>\n",
              "      <td>0.18</td>\n",
              "      <td>1.2818</td>\n",
              "      <td>25.64</td>\n",
              "      <td>0.35</td>\n",
              "      <td>0.18</td>\n",
              "      <td>1191.599976</td>\n",
              "      <td>76.559998</td>\n",
              "    </tr>\n",
              "    <tr>\n",
              "      <th>4</th>\n",
              "      <td>2010-07-22</td>\n",
              "      <td>0.0792</td>\n",
              "      <td>217.605</td>\n",
              "      <td>2.96</td>\n",
              "      <td>0.18</td>\n",
              "      <td>8595.1</td>\n",
              "      <td>NaN</td>\n",
              "      <td>6.000000</td>\n",
              "      <td>6.163333</td>\n",
              "      <td>5.983333</td>\n",
              "      <td>6.133333</td>\n",
              "      <td>5718300.0</td>\n",
              "      <td>0.18</td>\n",
              "      <td>1.2903</td>\n",
              "      <td>24.63</td>\n",
              "      <td>0.34</td>\n",
              "      <td>0.18</td>\n",
              "      <td>1195.500000</td>\n",
              "      <td>79.300003</td>\n",
              "    </tr>\n",
              "  </tbody>\n",
              "</table>\n",
              "</div>"
            ],
            "text/plain": [
              "        Date  BitCoin_Close      CPI  10Y Treasury Yield  Fed Funds Rate  \\\n",
              "0 2010-07-18         0.0500  217.605                2.99            0.19   \n",
              "1 2010-07-19         0.0858  217.605                2.99            0.19   \n",
              "2 2010-07-20         0.0808  217.605                2.98            0.18   \n",
              "3 2010-07-21         0.0747  217.605                2.90            0.18   \n",
              "4 2010-07-22         0.0792  217.605                2.96            0.18   \n",
              "\n",
              "   M2_Money_Supply  Monthly_Inflation_Rate_%      Open      High       Low  \\\n",
              "0           8595.1                  0.186925       NaN       NaN       NaN   \n",
              "1           8595.1                       NaN  5.886667  5.926667  5.833333   \n",
              "2           8595.1                       NaN  5.836667  6.060000  5.806667   \n",
              "3           8595.1                       NaN  6.133333  6.133333  5.920000   \n",
              "4           8595.1                       NaN  6.000000  6.163333  5.983333   \n",
              "\n",
              "      Close     Volume  InterestRate  ExchangeRate    VIX  TEDSpread  EFFR  \\\n",
              "0       NaN        NaN           NaN           NaN    NaN        NaN   NaN   \n",
              "1  5.903333  4311000.0          0.18        1.2963  25.97       0.35  0.19   \n",
              "2  6.050000  6911700.0          0.18        1.2905  23.93       0.35  0.18   \n",
              "3  5.926667  5768400.0          0.18        1.2818  25.64       0.35  0.18   \n",
              "4  6.133333  5718300.0          0.18        1.2903  24.63       0.34  0.18   \n",
              "\n",
              "          Gold        Oil  \n",
              "0          NaN        NaN  \n",
              "1  1181.699951  76.540001  \n",
              "2  1191.500000  77.440002  \n",
              "3  1191.599976  76.559998  \n",
              "4  1195.500000  79.300003  "
            ]
          },
          "execution_count": 18,
          "metadata": {},
          "output_type": "execute_result"
        }
      ],
      "source": [
        "df_final.head()\n"
      ]
    },
    {
      "cell_type": "markdown",
      "metadata": {},
      "source": [
        "Check for missing values:"
      ]
    },
    {
      "cell_type": "code",
      "execution_count": 20,
      "metadata": {},
      "outputs": [
        {
          "name": "stdout",
          "output_type": "stream",
          "text": [
            "Date                           0\n",
            "BitCoin_Close                  0\n",
            "CPI                            1\n",
            "10Y Treasury Yield             1\n",
            "Fed Funds Rate                 1\n",
            "M2_Money_Supply                1\n",
            "Monthly_Inflation_Rate_%    5314\n",
            "Open                        1721\n",
            "High                        1721\n",
            "Low                         1721\n",
            "Close                       1721\n",
            "Volume                      1721\n",
            "InterestRate                1721\n",
            "ExchangeRate                1721\n",
            "VIX                         1721\n",
            "TEDSpread                   1721\n",
            "EFFR                        1721\n",
            "Gold                        1721\n",
            "Oil                         1721\n",
            "dtype: int64\n"
          ]
        }
      ],
      "source": [
        "print(df_final.isnull().sum())"
      ]
    },
    {
      "cell_type": "code",
      "execution_count": 21,
      "metadata": {},
      "outputs": [],
      "source": [
        "df_final['Monthly_Inflation_Rate_%'] = df_macro['Monthly_Inflation_Rate_%'].ffill()"
      ]
    },
    {
      "cell_type": "code",
      "execution_count": 25,
      "metadata": {},
      "outputs": [],
      "source": [
        "df_final = df_final[df_final['Date'] != pd.to_datetime('2025-08-01')]"
      ]
    },
    {
      "cell_type": "code",
      "execution_count": 28,
      "metadata": {},
      "outputs": [],
      "source": [
        "df_final.drop(columns=['Open', 'Low', 'High', 'InterestRate', 'EFFR'], inplace=True)\n",
        "df_final.rename(columns={\n",
        "    'Close': 'Nasdaq_Close',\n",
        "    'Volume': 'Nasdaq_Volume',\n",
        "    }, inplace=True)"
      ]
    },
    {
      "cell_type": "code",
      "execution_count": 32,
      "metadata": {},
      "outputs": [],
      "source": [
        "df_final.drop(columns=['Nasdaq_Volume', 'ExchangeRate'], inplace=True)"
      ]
    },
    {
      "cell_type": "code",
      "execution_count": 33,
      "metadata": {},
      "outputs": [
        {
          "data": {
            "text/html": [
              "<div>\n",
              "<style scoped>\n",
              "    .dataframe tbody tr th:only-of-type {\n",
              "        vertical-align: middle;\n",
              "    }\n",
              "\n",
              "    .dataframe tbody tr th {\n",
              "        vertical-align: top;\n",
              "    }\n",
              "\n",
              "    .dataframe thead th {\n",
              "        text-align: right;\n",
              "    }\n",
              "</style>\n",
              "<table border=\"1\" class=\"dataframe\">\n",
              "  <thead>\n",
              "    <tr style=\"text-align: right;\">\n",
              "      <th></th>\n",
              "      <th>Date</th>\n",
              "      <th>BitCoin_Close</th>\n",
              "      <th>CPI</th>\n",
              "      <th>10Y Treasury Yield</th>\n",
              "      <th>Fed Funds Rate</th>\n",
              "      <th>M2_Money_Supply</th>\n",
              "      <th>Monthly_Inflation_Rate_%</th>\n",
              "      <th>Nasdaq_Close</th>\n",
              "      <th>VIX</th>\n",
              "      <th>TEDSpread</th>\n",
              "      <th>Gold</th>\n",
              "      <th>Oil</th>\n",
              "    </tr>\n",
              "  </thead>\n",
              "  <tbody>\n",
              "    <tr>\n",
              "      <th>0</th>\n",
              "      <td>2010-07-18</td>\n",
              "      <td>0.0500</td>\n",
              "      <td>217.605</td>\n",
              "      <td>2.99</td>\n",
              "      <td>0.19</td>\n",
              "      <td>8595.1</td>\n",
              "      <td>0.186925</td>\n",
              "      <td>NaN</td>\n",
              "      <td>NaN</td>\n",
              "      <td>NaN</td>\n",
              "      <td>NaN</td>\n",
              "      <td>NaN</td>\n",
              "    </tr>\n",
              "    <tr>\n",
              "      <th>1</th>\n",
              "      <td>2010-07-19</td>\n",
              "      <td>0.0858</td>\n",
              "      <td>217.605</td>\n",
              "      <td>2.99</td>\n",
              "      <td>0.19</td>\n",
              "      <td>8595.1</td>\n",
              "      <td>0.186925</td>\n",
              "      <td>5.903333</td>\n",
              "      <td>25.97</td>\n",
              "      <td>0.35</td>\n",
              "      <td>1181.699951</td>\n",
              "      <td>76.540001</td>\n",
              "    </tr>\n",
              "    <tr>\n",
              "      <th>2</th>\n",
              "      <td>2010-07-20</td>\n",
              "      <td>0.0808</td>\n",
              "      <td>217.605</td>\n",
              "      <td>2.98</td>\n",
              "      <td>0.18</td>\n",
              "      <td>8595.1</td>\n",
              "      <td>0.186925</td>\n",
              "      <td>6.050000</td>\n",
              "      <td>23.93</td>\n",
              "      <td>0.35</td>\n",
              "      <td>1191.500000</td>\n",
              "      <td>77.440002</td>\n",
              "    </tr>\n",
              "    <tr>\n",
              "      <th>5490</th>\n",
              "      <td>2025-07-29</td>\n",
              "      <td>117883.0000</td>\n",
              "      <td>322.132</td>\n",
              "      <td>4.34</td>\n",
              "      <td>4.33</td>\n",
              "      <td>22005.4</td>\n",
              "      <td>0.196579</td>\n",
              "      <td>NaN</td>\n",
              "      <td>NaN</td>\n",
              "      <td>NaN</td>\n",
              "      <td>NaN</td>\n",
              "      <td>NaN</td>\n",
              "    </tr>\n",
              "    <tr>\n",
              "      <th>5491</th>\n",
              "      <td>2025-07-30</td>\n",
              "      <td>117877.0000</td>\n",
              "      <td>322.132</td>\n",
              "      <td>4.38</td>\n",
              "      <td>4.33</td>\n",
              "      <td>22005.4</td>\n",
              "      <td>0.196579</td>\n",
              "      <td>NaN</td>\n",
              "      <td>NaN</td>\n",
              "      <td>NaN</td>\n",
              "      <td>NaN</td>\n",
              "      <td>NaN</td>\n",
              "    </tr>\n",
              "    <tr>\n",
              "      <th>5492</th>\n",
              "      <td>2025-07-31</td>\n",
              "      <td>117800.0000</td>\n",
              "      <td>322.132</td>\n",
              "      <td>4.37</td>\n",
              "      <td>4.33</td>\n",
              "      <td>22005.4</td>\n",
              "      <td>0.196579</td>\n",
              "      <td>NaN</td>\n",
              "      <td>NaN</td>\n",
              "      <td>NaN</td>\n",
              "      <td>NaN</td>\n",
              "      <td>NaN</td>\n",
              "    </tr>\n",
              "  </tbody>\n",
              "</table>\n",
              "</div>"
            ],
            "text/plain": [
              "           Date  BitCoin_Close      CPI  10Y Treasury Yield  Fed Funds Rate  \\\n",
              "0    2010-07-18         0.0500  217.605                2.99            0.19   \n",
              "1    2010-07-19         0.0858  217.605                2.99            0.19   \n",
              "2    2010-07-20         0.0808  217.605                2.98            0.18   \n",
              "5490 2025-07-29    117883.0000  322.132                4.34            4.33   \n",
              "5491 2025-07-30    117877.0000  322.132                4.38            4.33   \n",
              "5492 2025-07-31    117800.0000  322.132                4.37            4.33   \n",
              "\n",
              "      M2_Money_Supply  Monthly_Inflation_Rate_%  Nasdaq_Close    VIX  \\\n",
              "0              8595.1                  0.186925           NaN    NaN   \n",
              "1              8595.1                  0.186925      5.903333  25.97   \n",
              "2              8595.1                  0.186925      6.050000  23.93   \n",
              "5490          22005.4                  0.196579           NaN    NaN   \n",
              "5491          22005.4                  0.196579           NaN    NaN   \n",
              "5492          22005.4                  0.196579           NaN    NaN   \n",
              "\n",
              "      TEDSpread         Gold        Oil  \n",
              "0           NaN          NaN        NaN  \n",
              "1          0.35  1181.699951  76.540001  \n",
              "2          0.35  1191.500000  77.440002  \n",
              "5490        NaN          NaN        NaN  \n",
              "5491        NaN          NaN        NaN  \n",
              "5492        NaN          NaN        NaN  "
            ]
          },
          "execution_count": 33,
          "metadata": {},
          "output_type": "execute_result"
        }
      ],
      "source": [
        "pd.concat([df_final.head(3), df_final.tail(3)])"
      ]
    },
    {
      "cell_type": "code",
      "execution_count": 34,
      "metadata": {},
      "outputs": [
        {
          "name": "stdout",
          "output_type": "stream",
          "text": [
            "Date                           0\n",
            "BitCoin_Close                  0\n",
            "CPI                            0\n",
            "10Y Treasury Yield             0\n",
            "Fed Funds Rate                 0\n",
            "M2_Money_Supply                0\n",
            "Monthly_Inflation_Rate_%       0\n",
            "Nasdaq_Close                1720\n",
            "VIX                         1720\n",
            "TEDSpread                   1720\n",
            "Gold                        1720\n",
            "Oil                         1720\n",
            "dtype: int64\n"
          ]
        }
      ],
      "source": [
        "print(df_final.isnull().sum())"
      ]
    },
    {
      "cell_type": "markdown",
      "metadata": {},
      "source": [
        "Use interpolation to fill in missing values based on those values around them in the SOFR column"
      ]
    },
    {
      "cell_type": "code",
      "execution_count": 15,
      "metadata": {},
      "outputs": [],
      "source": [
        "df_final['SOFR'] = df_final['SOFR'].interpolate(method='linear')\n"
      ]
    },
    {
      "cell_type": "code",
      "execution_count": 16,
      "metadata": {},
      "outputs": [
        {
          "name": "stdout",
          "output_type": "stream",
          "text": [
            "Date                  0\n",
            "Open                  0\n",
            "High                  0\n",
            "Low                   0\n",
            "Close                 0\n",
            "Volume                0\n",
            "InterestRate          0\n",
            "ExchangeRate          0\n",
            "VIX                   0\n",
            "TEDSpread             0\n",
            "EFFR                  0\n",
            "Gold                  0\n",
            "Oil                   0\n",
            "M2_Money_Supply       0\n",
            "10Y Treasury Yield    0\n",
            "Fed Funds Rate        0\n",
            "CPI                   0\n",
            "Inflation_Rate_%      0\n",
            "SOFR                  0\n",
            "BitCoin_Close         0\n",
            "dtype: int64\n"
          ]
        }
      ],
      "source": [
        "print(df_final.isnull().sum())"
      ]
    },
    {
      "cell_type": "markdown",
      "metadata": {},
      "source": [
        "### Drop unnecessary columns & rename others for clarity\n",
        "\n",
        "* Drop open, low and high prices as we're only interested in the close prices.  Also drop InterestRate & EFFR as these are duplicated with Fed Funds Rate\n",
        "\n",
        "* Rename Close and Volume columns for better clarity"
      ]
    },
    {
      "cell_type": "code",
      "execution_count": 17,
      "metadata": {},
      "outputs": [
        {
          "data": {
            "text/html": [
              "<div>\n",
              "<style scoped>\n",
              "    .dataframe tbody tr th:only-of-type {\n",
              "        vertical-align: middle;\n",
              "    }\n",
              "\n",
              "    .dataframe tbody tr th {\n",
              "        vertical-align: top;\n",
              "    }\n",
              "\n",
              "    .dataframe thead th {\n",
              "        text-align: right;\n",
              "    }\n",
              "</style>\n",
              "<table border=\"1\" class=\"dataframe\">\n",
              "  <thead>\n",
              "    <tr style=\"text-align: right;\">\n",
              "      <th></th>\n",
              "      <th>Date</th>\n",
              "      <th>Nasdaq_Close</th>\n",
              "      <th>Nasdaq_Volume</th>\n",
              "      <th>ExchangeRate</th>\n",
              "      <th>VIX</th>\n",
              "      <th>TEDSpread</th>\n",
              "      <th>Gold</th>\n",
              "      <th>Oil</th>\n",
              "      <th>M2_Money_Supply</th>\n",
              "      <th>10Y Treasury Yield</th>\n",
              "      <th>Fed Funds Rate</th>\n",
              "      <th>CPI</th>\n",
              "      <th>Inflation_Rate_%</th>\n",
              "      <th>SOFR</th>\n",
              "      <th>BitCoin_Close</th>\n",
              "    </tr>\n",
              "  </thead>\n",
              "  <tbody>\n",
              "    <tr>\n",
              "      <th>0</th>\n",
              "      <td>2018-04-03</td>\n",
              "      <td>28.883333</td>\n",
              "      <td>4917300.0</td>\n",
              "      <td>1.2261</td>\n",
              "      <td>21.10</td>\n",
              "      <td>0.60</td>\n",
              "      <td>1332.800049</td>\n",
              "      <td>63.509998</td>\n",
              "      <td>13993.9</td>\n",
              "      <td>2.87</td>\n",
              "      <td>1.69</td>\n",
              "      <td>250.227</td>\n",
              "      <td>2.470996</td>\n",
              "      <td>1.83</td>\n",
              "      <td>7061.622526</td>\n",
              "    </tr>\n",
              "    <tr>\n",
              "      <th>1</th>\n",
              "      <td>2018-04-04</td>\n",
              "      <td>28.740000</td>\n",
              "      <td>3822600.0</td>\n",
              "      <td>1.2292</td>\n",
              "      <td>20.06</td>\n",
              "      <td>0.64</td>\n",
              "      <td>1335.800049</td>\n",
              "      <td>63.369999</td>\n",
              "      <td>13993.9</td>\n",
              "      <td>2.87</td>\n",
              "      <td>1.69</td>\n",
              "      <td>250.227</td>\n",
              "      <td>2.470996</td>\n",
              "      <td>1.74</td>\n",
              "      <td>7454.691790</td>\n",
              "    </tr>\n",
              "    <tr>\n",
              "      <th>2</th>\n",
              "      <td>2018-04-05</td>\n",
              "      <td>28.770000</td>\n",
              "      <td>3174300.0</td>\n",
              "      <td>1.2230</td>\n",
              "      <td>18.94</td>\n",
              "      <td>0.64</td>\n",
              "      <td>1324.300049</td>\n",
              "      <td>63.540001</td>\n",
              "      <td>13993.9</td>\n",
              "      <td>2.87</td>\n",
              "      <td>1.69</td>\n",
              "      <td>250.227</td>\n",
              "      <td>2.470996</td>\n",
              "      <td>1.75</td>\n",
              "      <td>6840.936110</td>\n",
              "    </tr>\n",
              "    <tr>\n",
              "      <th>3</th>\n",
              "      <td>2018-04-06</td>\n",
              "      <td>28.400000</td>\n",
              "      <td>2808000.0</td>\n",
              "      <td>1.2274</td>\n",
              "      <td>21.49</td>\n",
              "      <td>0.64</td>\n",
              "      <td>1331.900024</td>\n",
              "      <td>62.060001</td>\n",
              "      <td>13993.9</td>\n",
              "      <td>2.87</td>\n",
              "      <td>1.69</td>\n",
              "      <td>250.227</td>\n",
              "      <td>2.470996</td>\n",
              "      <td>1.75</td>\n",
              "      <td>6819.726657</td>\n",
              "    </tr>\n",
              "    <tr>\n",
              "      <th>4</th>\n",
              "      <td>2018-04-09</td>\n",
              "      <td>28.430000</td>\n",
              "      <td>1798200.0</td>\n",
              "      <td>1.2320</td>\n",
              "      <td>21.77</td>\n",
              "      <td>0.61</td>\n",
              "      <td>1336.300049</td>\n",
              "      <td>63.419998</td>\n",
              "      <td>13993.9</td>\n",
              "      <td>2.87</td>\n",
              "      <td>1.69</td>\n",
              "      <td>250.227</td>\n",
              "      <td>2.470996</td>\n",
              "      <td>1.75</td>\n",
              "      <td>7000.923355</td>\n",
              "    </tr>\n",
              "  </tbody>\n",
              "</table>\n",
              "</div>"
            ],
            "text/plain": [
              "        Date  Nasdaq_Close  Nasdaq_Volume  ExchangeRate    VIX  TEDSpread  \\\n",
              "0 2018-04-03     28.883333      4917300.0        1.2261  21.10       0.60   \n",
              "1 2018-04-04     28.740000      3822600.0        1.2292  20.06       0.64   \n",
              "2 2018-04-05     28.770000      3174300.0        1.2230  18.94       0.64   \n",
              "3 2018-04-06     28.400000      2808000.0        1.2274  21.49       0.64   \n",
              "4 2018-04-09     28.430000      1798200.0        1.2320  21.77       0.61   \n",
              "\n",
              "          Gold        Oil  M2_Money_Supply  10Y Treasury Yield  \\\n",
              "0  1332.800049  63.509998          13993.9                2.87   \n",
              "1  1335.800049  63.369999          13993.9                2.87   \n",
              "2  1324.300049  63.540001          13993.9                2.87   \n",
              "3  1331.900024  62.060001          13993.9                2.87   \n",
              "4  1336.300049  63.419998          13993.9                2.87   \n",
              "\n",
              "   Fed Funds Rate      CPI  Inflation_Rate_%  SOFR  BitCoin_Close  \n",
              "0            1.69  250.227          2.470996  1.83    7061.622526  \n",
              "1            1.69  250.227          2.470996  1.74    7454.691790  \n",
              "2            1.69  250.227          2.470996  1.75    6840.936110  \n",
              "3            1.69  250.227          2.470996  1.75    6819.726657  \n",
              "4            1.69  250.227          2.470996  1.75    7000.923355  "
            ]
          },
          "execution_count": 17,
          "metadata": {},
          "output_type": "execute_result"
        }
      ],
      "source": [
        "df_final.drop(columns=['Open', 'Low', 'High', 'InterestRate', 'EFFR'], inplace=True)\n",
        "df_final.rename(columns={\n",
        "    'Close': 'Nasdaq_Close',\n",
        "    'Volume': 'Nasdaq_Volume',\n",
        "    }, inplace=True)\n",
        "df_final.head()"
      ]
    },
    {
      "cell_type": "code",
      "execution_count": 18,
      "metadata": {},
      "outputs": [
        {
          "name": "stdout",
          "output_type": "stream",
          "text": [
            "<class 'pandas.core.frame.DataFrame'>\n",
            "RangeIndex: 1714 entries, 0 to 1713\n",
            "Data columns (total 15 columns):\n",
            " #   Column              Non-Null Count  Dtype         \n",
            "---  ------              --------------  -----         \n",
            " 0   Date                1714 non-null   datetime64[ns]\n",
            " 1   Nasdaq_Close        1714 non-null   float64       \n",
            " 2   Nasdaq_Volume       1714 non-null   float64       \n",
            " 3   ExchangeRate        1714 non-null   float64       \n",
            " 4   VIX                 1714 non-null   float64       \n",
            " 5   TEDSpread           1714 non-null   float64       \n",
            " 6   Gold                1714 non-null   float64       \n",
            " 7   Oil                 1714 non-null   float64       \n",
            " 8   M2_Money_Supply     1714 non-null   float64       \n",
            " 9   10Y Treasury Yield  1714 non-null   float64       \n",
            " 10  Fed Funds Rate      1714 non-null   float64       \n",
            " 11  CPI                 1714 non-null   float64       \n",
            " 12  Inflation_Rate_%    1714 non-null   float64       \n",
            " 13  SOFR                1714 non-null   float64       \n",
            " 14  BitCoin_Close       1714 non-null   float64       \n",
            "dtypes: datetime64[ns](1), float64(14)\n",
            "memory usage: 201.0 KB\n"
          ]
        }
      ],
      "source": [
        "df_final.info()"
      ]
    },
    {
      "cell_type": "markdown",
      "metadata": {},
      "source": [
        "### Lag remaining data for time series evaluation"
      ]
    },
    {
      "cell_type": "markdown",
      "metadata": {},
      "source": [
        "* Here, we shift features into their past values to get a measure of those values and enhance predictive power."
      ]
    },
    {
      "cell_type": "code",
      "execution_count": 21,
      "metadata": {},
      "outputs": [],
      "source": [
        "# Lag target (daily)\n",
        "df_final[\"BTC_Close_Lag1\"] = df_final[\"BitCoin_Close\"].shift(1)\n",
        "df_final[\"BTC_Close_RollingMean3\"] = df_final[\"BitCoin_Close\"].rolling(window=3).mean()\n",
        "\n",
        "# Lag market indices (daily)\n",
        "df_final[\"Nasdaq_Lag1\"] = df_final[\"Nasdaq_Close\"].shift(1)\n",
        "df_final[\"Nasdaq_Volume_Lag1\"] = df_final[\"Nasdaq_Volume\"].shift(1)\n",
        "df_final[\"VIX_Lag1\"] = df_final[\"VIX\"].shift(1)\n",
        "\n",
        "# Lag currency and rates (daily)\n",
        "df_final[\"ExchangeRate_Lag1\"] = df_final[\"ExchangeRate\"].shift(1)\n",
        "df_final[\"SOFR_Lag1\"] = df_final[\"SOFR\"].shift(1)\n",
        "\n",
        "# Lag commodities (daily)\n",
        "df_final[\"Gold_Lag1\"] = df_final[\"Gold\"].shift(1)\n",
        "df_final[\"Oil_Lag1\"] = df_final[\"Oil\"].shift(1)\n",
        "\n",
        "# Lag macroeconomic indicators (monthly logic)\n",
        "# Step 1: Create monthly snapshot\n",
        "monthly_macro = df_final[[\n",
        "    \"Date\", \"CPI\", \"Inflation_Rate_%\", \"M2_Money_Supply\",\n",
        "    \"TEDSpread\", \"10Y Treasury Yield\", \"Fed Funds Rate\"\n",
        "]].copy()\n",
        "\n",
        "monthly_macro = monthly_macro.resample(\"M\", on=\"Date\").last()\n",
        "\n",
        "# Step 2: Lag by one month\n",
        "monthly_macro[\"CPI_Lag1\"] = monthly_macro[\"CPI\"].shift(1)\n",
        "monthly_macro[\"Inflation_Lag1\"] = monthly_macro[\"Inflation_Rate_%\"].shift(1)\n",
        "monthly_macro[\"M2_Lag1\"] = monthly_macro[\"M2_Money_Supply\"].shift(1)\n",
        "monthly_macro[\"TEDSpread_Lag1\"] = monthly_macro[\"TEDSpread\"].shift(1)\n",
        "monthly_macro[\"TreasuryYield_Lag1\"] = monthly_macro[\"10Y Treasury Yield\"].shift(1)\n",
        "monthly_macro[\"FedFundsRate_Lag1\"] = monthly_macro[\"Fed Funds Rate\"].shift(1)\n",
        "\n",
        "# Step 3: Create 'Month' column for merging\n",
        "df_final[\"Month\"] = df_final[\"Date\"].dt.to_period(\"M\").astype(str)\n",
        "monthly_macro[\"Month\"] = monthly_macro.index.to_period(\"M\").astype(str)\n",
        "\n",
        "# Step 4: Merge lagged monthly values into daily data\n",
        "df_final = df_final.merge(\n",
        "    monthly_macro[[\n",
        "        \"Month\", \"CPI_Lag1\", \"Inflation_Lag1\", \"M2_Lag1\",\n",
        "        \"TEDSpread_Lag1\", \"TreasuryYield_Lag1\", \"FedFundsRate_Lag1\"\n",
        "    ]],\n",
        "    on=\"Month\",\n",
        "    how=\"left\"\n",
        ")\n",
        "\n",
        "# Forward-fill any remaining gaps\n",
        "df_final.ffill(inplace=True)"
      ]
    },
    {
      "cell_type": "markdown",
      "metadata": {},
      "source": [
        "* Drop the Month column that was created during the lagging process as it is not needed for modelling"
      ]
    },
    {
      "cell_type": "code",
      "execution_count": 23,
      "metadata": {},
      "outputs": [],
      "source": [
        "df_final.drop(columns=[\"Month\"], inplace=True)"
      ]
    },
    {
      "cell_type": "markdown",
      "metadata": {},
      "source": [
        "* Check for missing values"
      ]
    },
    {
      "cell_type": "code",
      "execution_count": 25,
      "metadata": {},
      "outputs": [
        {
          "name": "stdout",
          "output_type": "stream",
          "text": [
            "Date                       0\n",
            "Nasdaq_Close               0\n",
            "Nasdaq_Volume              0\n",
            "ExchangeRate               0\n",
            "VIX                        0\n",
            "TEDSpread                  0\n",
            "Gold                       0\n",
            "Oil                        0\n",
            "M2_Money_Supply            0\n",
            "10Y Treasury Yield         0\n",
            "Fed Funds Rate             0\n",
            "CPI                        0\n",
            "Inflation_Rate_%           0\n",
            "SOFR                       0\n",
            "BitCoin_Close              0\n",
            "BTC_Close_Lag1             1\n",
            "BTC_Close_RollingMean3     2\n",
            "Nasdaq_Lag1                1\n",
            "Nasdaq_Volume_Lag1         1\n",
            "VIX_Lag1                   1\n",
            "ExchangeRate_Lag1          1\n",
            "SOFR_Lag1                  1\n",
            "Gold_Lag1                  1\n",
            "Oil_Lag1                   1\n",
            "CPI_Lag1_x                20\n",
            "Inflation_Lag1_x          20\n",
            "M2_Lag1_x                 20\n",
            "TEDSpread_Lag1_x          20\n",
            "TreasuryYield_Lag1_x      20\n",
            "FedFundsRate_Lag1_x       20\n",
            "CPI_Lag1_y                20\n",
            "Inflation_Lag1_y          20\n",
            "M2_Lag1_y                 20\n",
            "TEDSpread_Lag1_y          20\n",
            "TreasuryYield_Lag1_y      20\n",
            "FedFundsRate_Lag1_y       20\n",
            "dtype: int64\n"
          ]
        }
      ],
      "source": [
        "print(df_final.isnull().sum())"
      ]
    },
    {
      "cell_type": "markdown",
      "metadata": {},
      "source": [
        "* We drop those rows containing missing values as these are the original, unlagged rows, that had no data to lag.  \n",
        "  \n",
        "* You will notice that the monthlies have 20 rows, or dates, whereas the dailies only had 1 (2 for the 3day rolling average)"
      ]
    },
    {
      "cell_type": "code",
      "execution_count": 26,
      "metadata": {},
      "outputs": [],
      "source": [
        "df_final.dropna(subset=[\n",
        "    \"BTC_Close_Lag1\", \"BTC_Close_RollingMean3\", \"Nasdaq_Lag1\",\n",
        "    \"Nasdaq_Volume_Lag1\", \"VIX_Lag1\", \"ExchangeRate_Lag1\", \"SOFR_Lag1\",\n",
        "    \"Gold_Lag1\", \"Oil_Lag1\",\n",
        "    \"CPI_Lag1_x\", \"Inflation_Lag1_x\", \"M2_Lag1_x\",\n",
        "    \"TEDSpread_Lag1_x\", \"TreasuryYield_Lag1_x\", \"FedFundsRate_Lag1_x\"\n",
        "], inplace=True)"
      ]
    },
    {
      "cell_type": "markdown",
      "metadata": {},
      "source": [
        "* Drop duplicated columns from the lagging process"
      ]
    },
    {
      "cell_type": "code",
      "execution_count": 27,
      "metadata": {},
      "outputs": [],
      "source": [
        "df_final.drop(columns=[\n",
        "    \"CPI_Lag1_y\", \"Inflation_Lag1_y\", \"M2_Lag1_y\",\n",
        "    \"TEDSpread_Lag1_y\", \"TreasuryYield_Lag1_y\", \"FedFundsRate_Lag1_y\"\n",
        "], inplace=True)"
      ]
    },
    {
      "cell_type": "markdown",
      "metadata": {},
      "source": [
        "* You will see below that all missing values are gone"
      ]
    },
    {
      "cell_type": "code",
      "execution_count": 28,
      "metadata": {},
      "outputs": [
        {
          "name": "stdout",
          "output_type": "stream",
          "text": [
            "Date                      0\n",
            "Nasdaq_Close              0\n",
            "Nasdaq_Volume             0\n",
            "ExchangeRate              0\n",
            "VIX                       0\n",
            "TEDSpread                 0\n",
            "Gold                      0\n",
            "Oil                       0\n",
            "M2_Money_Supply           0\n",
            "10Y Treasury Yield        0\n",
            "Fed Funds Rate            0\n",
            "CPI                       0\n",
            "Inflation_Rate_%          0\n",
            "SOFR                      0\n",
            "BitCoin_Close             0\n",
            "BTC_Close_Lag1            0\n",
            "BTC_Close_RollingMean3    0\n",
            "Nasdaq_Lag1               0\n",
            "Nasdaq_Volume_Lag1        0\n",
            "VIX_Lag1                  0\n",
            "ExchangeRate_Lag1         0\n",
            "SOFR_Lag1                 0\n",
            "Gold_Lag1                 0\n",
            "Oil_Lag1                  0\n",
            "CPI_Lag1_x                0\n",
            "Inflation_Lag1_x          0\n",
            "M2_Lag1_x                 0\n",
            "TEDSpread_Lag1_x          0\n",
            "TreasuryYield_Lag1_x      0\n",
            "FedFundsRate_Lag1_x       0\n",
            "dtype: int64\n"
          ]
        }
      ],
      "source": [
        "print(df_final.isnull().sum())"
      ]
    },
    {
      "cell_type": "code",
      "execution_count": 29,
      "metadata": {},
      "outputs": [
        {
          "name": "stdout",
          "output_type": "stream",
          "text": [
            "<class 'pandas.core.frame.DataFrame'>\n",
            "Index: 1694 entries, 20 to 1713\n",
            "Data columns (total 30 columns):\n",
            " #   Column                  Non-Null Count  Dtype         \n",
            "---  ------                  --------------  -----         \n",
            " 0   Date                    1694 non-null   datetime64[ns]\n",
            " 1   Nasdaq_Close            1694 non-null   float64       \n",
            " 2   Nasdaq_Volume           1694 non-null   float64       \n",
            " 3   ExchangeRate            1694 non-null   float64       \n",
            " 4   VIX                     1694 non-null   float64       \n",
            " 5   TEDSpread               1694 non-null   float64       \n",
            " 6   Gold                    1694 non-null   float64       \n",
            " 7   Oil                     1694 non-null   float64       \n",
            " 8   M2_Money_Supply         1694 non-null   float64       \n",
            " 9   10Y Treasury Yield      1694 non-null   float64       \n",
            " 10  Fed Funds Rate          1694 non-null   float64       \n",
            " 11  CPI                     1694 non-null   float64       \n",
            " 12  Inflation_Rate_%        1694 non-null   float64       \n",
            " 13  SOFR                    1694 non-null   float64       \n",
            " 14  BitCoin_Close           1694 non-null   float64       \n",
            " 15  BTC_Close_Lag1          1694 non-null   float64       \n",
            " 16  BTC_Close_RollingMean3  1694 non-null   float64       \n",
            " 17  Nasdaq_Lag1             1694 non-null   float64       \n",
            " 18  Nasdaq_Volume_Lag1      1694 non-null   float64       \n",
            " 19  VIX_Lag1                1694 non-null   float64       \n",
            " 20  ExchangeRate_Lag1       1694 non-null   float64       \n",
            " 21  SOFR_Lag1               1694 non-null   float64       \n",
            " 22  Gold_Lag1               1694 non-null   float64       \n",
            " 23  Oil_Lag1                1694 non-null   float64       \n",
            " 24  CPI_Lag1_x              1694 non-null   float64       \n",
            " 25  Inflation_Lag1_x        1694 non-null   float64       \n",
            " 26  M2_Lag1_x               1694 non-null   float64       \n",
            " 27  TEDSpread_Lag1_x        1694 non-null   float64       \n",
            " 28  TreasuryYield_Lag1_x    1694 non-null   float64       \n",
            " 29  FedFundsRate_Lag1_x     1694 non-null   float64       \n",
            "dtypes: datetime64[ns](1), float64(29)\n",
            "memory usage: 410.3 KB\n"
          ]
        }
      ],
      "source": [
        "df_final.info()"
      ]
    },
    {
      "cell_type": "markdown",
      "metadata": {},
      "source": [
        "Finally, we cut the _x from the names of columns that picked that up during lagging"
      ]
    },
    {
      "cell_type": "code",
      "execution_count": 31,
      "metadata": {},
      "outputs": [],
      "source": [
        "df_final.rename(columns={\n",
        "    \"CPI_Lag1_x\": \"CPI_Lag1\",\n",
        "    \"Inflation_Lag1_x\": \"Inflation_Lag1\",\n",
        "    \"M2_Lag1_x\": \"M2_Lag1\",\n",
        "    \"TEDSpread_Lag1_x\": \"TEDSpread_Lag1\",\n",
        "    \"TreasuryYield_Lag1_x\": \"TreasuryYield_Lag1\",\n",
        "    \"FedFundsRate_Lag1_x\": \"FedFundsRate_Lag1\"\n",
        "}, inplace=True)"
      ]
    },
    {
      "cell_type": "code",
      "execution_count": 33,
      "metadata": {},
      "outputs": [
        {
          "data": {
            "text/html": [
              "<div>\n",
              "<style scoped>\n",
              "    .dataframe tbody tr th:only-of-type {\n",
              "        vertical-align: middle;\n",
              "    }\n",
              "\n",
              "    .dataframe tbody tr th {\n",
              "        vertical-align: top;\n",
              "    }\n",
              "\n",
              "    .dataframe thead th {\n",
              "        text-align: right;\n",
              "    }\n",
              "</style>\n",
              "<table border=\"1\" class=\"dataframe\">\n",
              "  <thead>\n",
              "    <tr style=\"text-align: right;\">\n",
              "      <th></th>\n",
              "      <th>Date</th>\n",
              "      <th>Nasdaq_Close</th>\n",
              "      <th>Nasdaq_Volume</th>\n",
              "      <th>ExchangeRate</th>\n",
              "      <th>VIX</th>\n",
              "      <th>TEDSpread</th>\n",
              "      <th>Gold</th>\n",
              "      <th>Oil</th>\n",
              "      <th>M2_Money_Supply</th>\n",
              "      <th>10Y Treasury Yield</th>\n",
              "      <th>...</th>\n",
              "      <th>ExchangeRate_Lag1</th>\n",
              "      <th>SOFR_Lag1</th>\n",
              "      <th>Gold_Lag1</th>\n",
              "      <th>Oil_Lag1</th>\n",
              "      <th>CPI_Lag1</th>\n",
              "      <th>Inflation_Lag1</th>\n",
              "      <th>M2_Lag1</th>\n",
              "      <th>TEDSpread_Lag1</th>\n",
              "      <th>TreasuryYield_Lag1</th>\n",
              "      <th>FedFundsRate_Lag1</th>\n",
              "    </tr>\n",
              "  </thead>\n",
              "  <tbody>\n",
              "    <tr>\n",
              "      <th>20</th>\n",
              "      <td>2018-05-01</td>\n",
              "      <td>29.670000</td>\n",
              "      <td>2063100.0</td>\n",
              "      <td>1.2000</td>\n",
              "      <td>15.49</td>\n",
              "      <td>0.53</td>\n",
              "      <td>1303.800049</td>\n",
              "      <td>67.250000</td>\n",
              "      <td>14049.6</td>\n",
              "      <td>2.98</td>\n",
              "      <td>...</td>\n",
              "      <td>1.2074</td>\n",
              "      <td>1.77</td>\n",
              "      <td>1316.199951</td>\n",
              "      <td>68.570000</td>\n",
              "      <td>250.227</td>\n",
              "      <td>2.470996</td>\n",
              "      <td>13993.9</td>\n",
              "      <td>0.52</td>\n",
              "      <td>2.87</td>\n",
              "      <td>1.69</td>\n",
              "    </tr>\n",
              "    <tr>\n",
              "      <th>21</th>\n",
              "      <td>2018-05-02</td>\n",
              "      <td>29.303333</td>\n",
              "      <td>4036800.0</td>\n",
              "      <td>1.1968</td>\n",
              "      <td>15.97</td>\n",
              "      <td>0.55</td>\n",
              "      <td>1302.599976</td>\n",
              "      <td>67.930000</td>\n",
              "      <td>14049.6</td>\n",
              "      <td>2.98</td>\n",
              "      <td>...</td>\n",
              "      <td>1.2000</td>\n",
              "      <td>1.76</td>\n",
              "      <td>1303.800049</td>\n",
              "      <td>67.250000</td>\n",
              "      <td>250.227</td>\n",
              "      <td>2.470996</td>\n",
              "      <td>13993.9</td>\n",
              "      <td>0.52</td>\n",
              "      <td>2.87</td>\n",
              "      <td>1.69</td>\n",
              "    </tr>\n",
              "    <tr>\n",
              "      <th>22</th>\n",
              "      <td>2018-05-03</td>\n",
              "      <td>28.670000</td>\n",
              "      <td>5250000.0</td>\n",
              "      <td>1.1970</td>\n",
              "      <td>15.90</td>\n",
              "      <td>0.56</td>\n",
              "      <td>1310.699951</td>\n",
              "      <td>68.430000</td>\n",
              "      <td>14049.6</td>\n",
              "      <td>2.98</td>\n",
              "      <td>...</td>\n",
              "      <td>1.1968</td>\n",
              "      <td>1.75</td>\n",
              "      <td>1302.599976</td>\n",
              "      <td>67.930000</td>\n",
              "      <td>250.227</td>\n",
              "      <td>2.470996</td>\n",
              "      <td>13993.9</td>\n",
              "      <td>0.52</td>\n",
              "      <td>2.87</td>\n",
              "      <td>1.69</td>\n",
              "    </tr>\n",
              "    <tr>\n",
              "      <th>23</th>\n",
              "      <td>2018-05-04</td>\n",
              "      <td>29.233334</td>\n",
              "      <td>3045900.0</td>\n",
              "      <td>1.1946</td>\n",
              "      <td>14.77</td>\n",
              "      <td>0.57</td>\n",
              "      <td>1312.699951</td>\n",
              "      <td>69.720001</td>\n",
              "      <td>14049.6</td>\n",
              "      <td>2.98</td>\n",
              "      <td>...</td>\n",
              "      <td>1.1970</td>\n",
              "      <td>1.74</td>\n",
              "      <td>1310.699951</td>\n",
              "      <td>68.430000</td>\n",
              "      <td>250.227</td>\n",
              "      <td>2.470996</td>\n",
              "      <td>13993.9</td>\n",
              "      <td>0.52</td>\n",
              "      <td>2.87</td>\n",
              "      <td>1.69</td>\n",
              "    </tr>\n",
              "    <tr>\n",
              "      <th>24</th>\n",
              "      <td>2018-05-07</td>\n",
              "      <td>29.553333</td>\n",
              "      <td>3077400.0</td>\n",
              "      <td>1.1927</td>\n",
              "      <td>14.75</td>\n",
              "      <td>0.57</td>\n",
              "      <td>1312.199951</td>\n",
              "      <td>70.730003</td>\n",
              "      <td>14049.6</td>\n",
              "      <td>2.98</td>\n",
              "      <td>...</td>\n",
              "      <td>1.1946</td>\n",
              "      <td>1.72</td>\n",
              "      <td>1312.699951</td>\n",
              "      <td>69.720001</td>\n",
              "      <td>250.227</td>\n",
              "      <td>2.470996</td>\n",
              "      <td>13993.9</td>\n",
              "      <td>0.52</td>\n",
              "      <td>2.87</td>\n",
              "      <td>1.69</td>\n",
              "    </tr>\n",
              "  </tbody>\n",
              "</table>\n",
              "<p>5 rows × 30 columns</p>\n",
              "</div>"
            ],
            "text/plain": [
              "         Date  Nasdaq_Close  Nasdaq_Volume  ExchangeRate    VIX  TEDSpread  \\\n",
              "20 2018-05-01     29.670000      2063100.0        1.2000  15.49       0.53   \n",
              "21 2018-05-02     29.303333      4036800.0        1.1968  15.97       0.55   \n",
              "22 2018-05-03     28.670000      5250000.0        1.1970  15.90       0.56   \n",
              "23 2018-05-04     29.233334      3045900.0        1.1946  14.77       0.57   \n",
              "24 2018-05-07     29.553333      3077400.0        1.1927  14.75       0.57   \n",
              "\n",
              "           Gold        Oil  M2_Money_Supply  10Y Treasury Yield  ...  \\\n",
              "20  1303.800049  67.250000          14049.6                2.98  ...   \n",
              "21  1302.599976  67.930000          14049.6                2.98  ...   \n",
              "22  1310.699951  68.430000          14049.6                2.98  ...   \n",
              "23  1312.699951  69.720001          14049.6                2.98  ...   \n",
              "24  1312.199951  70.730003          14049.6                2.98  ...   \n",
              "\n",
              "    ExchangeRate_Lag1  SOFR_Lag1    Gold_Lag1   Oil_Lag1  CPI_Lag1  \\\n",
              "20             1.2074       1.77  1316.199951  68.570000   250.227   \n",
              "21             1.2000       1.76  1303.800049  67.250000   250.227   \n",
              "22             1.1968       1.75  1302.599976  67.930000   250.227   \n",
              "23             1.1970       1.74  1310.699951  68.430000   250.227   \n",
              "24             1.1946       1.72  1312.699951  69.720001   250.227   \n",
              "\n",
              "    Inflation_Lag1  M2_Lag1  TEDSpread_Lag1  TreasuryYield_Lag1  \\\n",
              "20        2.470996  13993.9            0.52                2.87   \n",
              "21        2.470996  13993.9            0.52                2.87   \n",
              "22        2.470996  13993.9            0.52                2.87   \n",
              "23        2.470996  13993.9            0.52                2.87   \n",
              "24        2.470996  13993.9            0.52                2.87   \n",
              "\n",
              "    FedFundsRate_Lag1  \n",
              "20               1.69  \n",
              "21               1.69  \n",
              "22               1.69  \n",
              "23               1.69  \n",
              "24               1.69  \n",
              "\n",
              "[5 rows x 30 columns]"
            ]
          },
          "execution_count": 33,
          "metadata": {},
          "output_type": "execute_result"
        }
      ],
      "source": [
        "df_final.head()"
      ]
    },
    {
      "cell_type": "markdown",
      "metadata": {},
      "source": [
        "### Data Cleaning Summary\n",
        "\n",
        "* BitCoin's 'Close' column was renamed to 'BitCoin_Close'\n",
        "* Interpolation was used to handle missing data evident on the SOFR column\n",
        "* Unnecessary columns were removed to avoid duplicated columns in the final dataset\n",
        "* Nasdaq 'Close' and 'Volume' columns had 'Nasdaq' included in the column names for futher clarity\n",
        "* All remaining features were lagged.  Monthly econonmic features were also lagged by 1 month but forward filled\n",
        "* No missing data/NaNs remain"
      ]
    },
    {
      "cell_type": "markdown",
      "metadata": {},
      "source": [
        "---"
      ]
    },
    {
      "cell_type": "markdown",
      "metadata": {
        "id": "ltNetd085qHf"
      },
      "source": [
        "# Push files to Repo"
      ]
    },
    {
      "cell_type": "markdown",
      "metadata": {},
      "source": [
        "* We will save the dataset now, but will only include the lagged features for modelling and predictions.  Original features will be stripped out."
      ]
    },
    {
      "cell_type": "code",
      "execution_count": 34,
      "metadata": {},
      "outputs": [],
      "source": [
        "lagged_features = [\n",
        "    col for col in df_final.columns\n",
        "    if \"_Lag1\" in col or \"RollingMean\" in col\n",
        "]\n",
        "\n",
        "df_final = df_final[[\"Date\", \"BitCoin_Close\"] + lagged_features]"
      ]
    },
    {
      "cell_type": "code",
      "execution_count": 35,
      "metadata": {},
      "outputs": [
        {
          "data": {
            "text/html": [
              "<div>\n",
              "<style scoped>\n",
              "    .dataframe tbody tr th:only-of-type {\n",
              "        vertical-align: middle;\n",
              "    }\n",
              "\n",
              "    .dataframe tbody tr th {\n",
              "        vertical-align: top;\n",
              "    }\n",
              "\n",
              "    .dataframe thead th {\n",
              "        text-align: right;\n",
              "    }\n",
              "</style>\n",
              "<table border=\"1\" class=\"dataframe\">\n",
              "  <thead>\n",
              "    <tr style=\"text-align: right;\">\n",
              "      <th></th>\n",
              "      <th>Date</th>\n",
              "      <th>BitCoin_Close</th>\n",
              "      <th>BTC_Close_Lag1</th>\n",
              "      <th>BTC_Close_RollingMean3</th>\n",
              "      <th>Nasdaq_Lag1</th>\n",
              "      <th>Nasdaq_Volume_Lag1</th>\n",
              "      <th>VIX_Lag1</th>\n",
              "      <th>ExchangeRate_Lag1</th>\n",
              "      <th>SOFR_Lag1</th>\n",
              "      <th>Gold_Lag1</th>\n",
              "      <th>Oil_Lag1</th>\n",
              "      <th>CPI_Lag1</th>\n",
              "      <th>Inflation_Lag1</th>\n",
              "      <th>M2_Lag1</th>\n",
              "      <th>TEDSpread_Lag1</th>\n",
              "      <th>TreasuryYield_Lag1</th>\n",
              "      <th>FedFundsRate_Lag1</th>\n",
              "    </tr>\n",
              "  </thead>\n",
              "  <tbody>\n",
              "    <tr>\n",
              "      <th>20</th>\n",
              "      <td>2018-05-01</td>\n",
              "      <td>9240.335679</td>\n",
              "      <td>9413.409305</td>\n",
              "      <td>9307.424274</td>\n",
              "      <td>29.440001</td>\n",
              "      <td>2580900.0</td>\n",
              "      <td>15.93</td>\n",
              "      <td>1.2074</td>\n",
              "      <td>1.77</td>\n",
              "      <td>1316.199951</td>\n",
              "      <td>68.570000</td>\n",
              "      <td>250.227</td>\n",
              "      <td>2.470996</td>\n",
              "      <td>13993.9</td>\n",
              "      <td>0.52</td>\n",
              "      <td>2.87</td>\n",
              "      <td>1.69</td>\n",
              "    </tr>\n",
              "    <tr>\n",
              "      <th>21</th>\n",
              "      <td>2018-05-02</td>\n",
              "      <td>9096.810022</td>\n",
              "      <td>9240.335679</td>\n",
              "      <td>9250.185002</td>\n",
              "      <td>29.670000</td>\n",
              "      <td>2063100.0</td>\n",
              "      <td>15.49</td>\n",
              "      <td>1.2000</td>\n",
              "      <td>1.76</td>\n",
              "      <td>1303.800049</td>\n",
              "      <td>67.250000</td>\n",
              "      <td>250.227</td>\n",
              "      <td>2.470996</td>\n",
              "      <td>13993.9</td>\n",
              "      <td>0.52</td>\n",
              "      <td>2.87</td>\n",
              "      <td>1.69</td>\n",
              "    </tr>\n",
              "    <tr>\n",
              "      <th>22</th>\n",
              "      <td>2018-05-03</td>\n",
              "      <td>9236.704389</td>\n",
              "      <td>9096.810022</td>\n",
              "      <td>9191.283363</td>\n",
              "      <td>29.303333</td>\n",
              "      <td>4036800.0</td>\n",
              "      <td>15.97</td>\n",
              "      <td>1.1968</td>\n",
              "      <td>1.75</td>\n",
              "      <td>1302.599976</td>\n",
              "      <td>67.930000</td>\n",
              "      <td>250.227</td>\n",
              "      <td>2.470996</td>\n",
              "      <td>13993.9</td>\n",
              "      <td>0.52</td>\n",
              "      <td>2.87</td>\n",
              "      <td>1.69</td>\n",
              "    </tr>\n",
              "    <tr>\n",
              "      <th>23</th>\n",
              "      <td>2018-05-04</td>\n",
              "      <td>9769.290293</td>\n",
              "      <td>9236.704389</td>\n",
              "      <td>9367.601568</td>\n",
              "      <td>28.670000</td>\n",
              "      <td>5250000.0</td>\n",
              "      <td>15.90</td>\n",
              "      <td>1.1970</td>\n",
              "      <td>1.74</td>\n",
              "      <td>1310.699951</td>\n",
              "      <td>68.430000</td>\n",
              "      <td>250.227</td>\n",
              "      <td>2.470996</td>\n",
              "      <td>13993.9</td>\n",
              "      <td>0.52</td>\n",
              "      <td>2.87</td>\n",
              "      <td>1.69</td>\n",
              "    </tr>\n",
              "    <tr>\n",
              "      <th>24</th>\n",
              "      <td>2018-05-07</td>\n",
              "      <td>9666.853489</td>\n",
              "      <td>9769.290293</td>\n",
              "      <td>9557.616057</td>\n",
              "      <td>29.233334</td>\n",
              "      <td>3045900.0</td>\n",
              "      <td>14.77</td>\n",
              "      <td>1.1946</td>\n",
              "      <td>1.72</td>\n",
              "      <td>1312.699951</td>\n",
              "      <td>69.720001</td>\n",
              "      <td>250.227</td>\n",
              "      <td>2.470996</td>\n",
              "      <td>13993.9</td>\n",
              "      <td>0.52</td>\n",
              "      <td>2.87</td>\n",
              "      <td>1.69</td>\n",
              "    </tr>\n",
              "  </tbody>\n",
              "</table>\n",
              "</div>"
            ],
            "text/plain": [
              "         Date  BitCoin_Close  BTC_Close_Lag1  BTC_Close_RollingMean3  \\\n",
              "20 2018-05-01    9240.335679     9413.409305             9307.424274   \n",
              "21 2018-05-02    9096.810022     9240.335679             9250.185002   \n",
              "22 2018-05-03    9236.704389     9096.810022             9191.283363   \n",
              "23 2018-05-04    9769.290293     9236.704389             9367.601568   \n",
              "24 2018-05-07    9666.853489     9769.290293             9557.616057   \n",
              "\n",
              "    Nasdaq_Lag1  Nasdaq_Volume_Lag1  VIX_Lag1  ExchangeRate_Lag1  SOFR_Lag1  \\\n",
              "20    29.440001           2580900.0     15.93             1.2074       1.77   \n",
              "21    29.670000           2063100.0     15.49             1.2000       1.76   \n",
              "22    29.303333           4036800.0     15.97             1.1968       1.75   \n",
              "23    28.670000           5250000.0     15.90             1.1970       1.74   \n",
              "24    29.233334           3045900.0     14.77             1.1946       1.72   \n",
              "\n",
              "      Gold_Lag1   Oil_Lag1  CPI_Lag1  Inflation_Lag1  M2_Lag1  TEDSpread_Lag1  \\\n",
              "20  1316.199951  68.570000   250.227        2.470996  13993.9            0.52   \n",
              "21  1303.800049  67.250000   250.227        2.470996  13993.9            0.52   \n",
              "22  1302.599976  67.930000   250.227        2.470996  13993.9            0.52   \n",
              "23  1310.699951  68.430000   250.227        2.470996  13993.9            0.52   \n",
              "24  1312.699951  69.720001   250.227        2.470996  13993.9            0.52   \n",
              "\n",
              "    TreasuryYield_Lag1  FedFundsRate_Lag1  \n",
              "20                2.87               1.69  \n",
              "21                2.87               1.69  \n",
              "22                2.87               1.69  \n",
              "23                2.87               1.69  \n",
              "24                2.87               1.69  "
            ]
          },
          "execution_count": 35,
          "metadata": {},
          "output_type": "execute_result"
        }
      ],
      "source": [
        "df_final.head()"
      ]
    },
    {
      "cell_type": "markdown",
      "metadata": {},
      "source": [
        "* We finally save the dataset for use going forward"
      ]
    },
    {
      "cell_type": "code",
      "execution_count": 37,
      "metadata": {
        "id": "aKlnIozA4eQO",
        "outputId": "fd09bc1f-adb1-4511-f6ce-492a6af570c0"
      },
      "outputs": [
        {
          "name": "stdout",
          "output_type": "stream",
          "text": [
            "[Errno 17] File exists: 'outputs/datasets/collection'\n"
          ]
        }
      ],
      "source": [
        "import os\n",
        "try:\n",
        "  os.makedirs(name='outputs/datasets/collection')\n",
        "except Exception as e:\n",
        "  print(e)\n",
        "\n",
        "df_final.to_csv(f\"outputs/datasets/collection/BitCoinVsMacroNasdaq_v3.csv\",index=False)"
      ]
    },
    {
      "cell_type": "code",
      "execution_count": null,
      "metadata": {},
      "outputs": [],
      "source": []
    }
  ],
  "metadata": {
    "accelerator": "GPU",
    "colab": {
      "name": "Data Practitioner Jupyter Notebook.ipynb",
      "provenance": [],
      "toc_visible": true
    },
    "kernelspec": {
      "display_name": "3.12.1",
      "language": "python",
      "name": "python3"
    },
    "language_info": {
      "codemirror_mode": {
        "name": "ipython",
        "version": 3
      },
      "file_extension": ".py",
      "mimetype": "text/x-python",
      "name": "python",
      "nbconvert_exporter": "python",
      "pygments_lexer": "ipython3",
      "version": "3.12.1"
    },
    "orig_nbformat": 2
  },
  "nbformat": 4,
  "nbformat_minor": 2
}
