{
 "cells": [
  {
   "cell_type": "markdown",
   "id": "e86e11b0",
   "metadata": {},
   "source": [
    "# **Feature Engineering Notebook**\n",
    "\n",
    "## Objectives\n",
    "\n",
    "* This notebook will be used to engineer features for regression models\n",
    "\n",
    "## Inputs\n",
    "\n",
    "* We will use the Train and Test datasets saved within outputs/datasets/train_test_initial\n",
    "\n",
    "## Outputs\n",
    "\n",
    "* We will generate a list with variables to engineer"
   ]
  },
  {
   "cell_type": "markdown",
   "id": "7852dcf5",
   "metadata": {},
   "source": [
    "---"
   ]
  },
  {
   "cell_type": "markdown",
   "id": "9b6bc46c",
   "metadata": {},
   "source": [
    "# Change working directory"
   ]
  },
  {
   "cell_type": "markdown",
   "id": "3b2aa0f0",
   "metadata": {},
   "source": [
    "We need to change the working directory from its current folder to its parent folder\n",
    "* We access the current directory with os.getcwd()"
   ]
  },
  {
   "cell_type": "code",
   "execution_count": 1,
   "id": "ea9a316e",
   "metadata": {},
   "outputs": [
    {
     "data": {
      "text/plain": [
       "'/workspaces/Project5/jupyter_notebooks'"
      ]
     },
     "execution_count": 1,
     "metadata": {},
     "output_type": "execute_result"
    }
   ],
   "source": [
    "import os\n",
    "current_dir = os.getcwd()\n",
    "current_dir"
   ]
  },
  {
   "cell_type": "markdown",
   "id": "e8da84a6",
   "metadata": {},
   "source": [
    "We want to make the parent of the current directory the new current directory\n",
    "* os.path.dirname() gets the parent directory\n",
    "* os.chir() defines the new current directory"
   ]
  },
  {
   "cell_type": "code",
   "execution_count": 2,
   "id": "061b827b",
   "metadata": {},
   "outputs": [
    {
     "name": "stdout",
     "output_type": "stream",
     "text": [
      "You set a new current directory\n"
     ]
    }
   ],
   "source": [
    "os.chdir(os.path.dirname(current_dir))\n",
    "print(\"You set a new current directory\")"
   ]
  },
  {
   "cell_type": "markdown",
   "id": "eeabed7b",
   "metadata": {},
   "source": [
    "Confirm the new current directory"
   ]
  },
  {
   "cell_type": "code",
   "execution_count": 3,
   "id": "55463ae4",
   "metadata": {},
   "outputs": [
    {
     "data": {
      "text/plain": [
       "'/workspaces/Project5'"
      ]
     },
     "execution_count": 3,
     "metadata": {},
     "output_type": "execute_result"
    }
   ],
   "source": [
    "current_dir = os.getcwd()\n",
    "current_dir"
   ]
  },
  {
   "cell_type": "markdown",
   "id": "133520fa",
   "metadata": {},
   "source": [
    "---"
   ]
  },
  {
   "cell_type": "code",
   "execution_count": 1,
   "id": "28c05058",
   "metadata": {},
   "outputs": [],
   "source": [
    "import pandas as pd\n",
    "\n",
    "from sklearn.pipeline import Pipeline\n",
    "from sklearn.preprocessing import StandardScaler\n",
    "from sklearn.feature_selection import SelectFromModel\n",
    "from sklearn.metrics import mean_squared_error, r2_score\n",
    "\n",
    "from sklearn.tree import DecisionTreeRegressor\n",
    "from sklearn.ensemble import RandomForestRegressor, AdaBoostRegressor, ExtraTreesRegressor, GradientBoostingRegressor\n",
    "from xgboost import XGBRegressor\n",
    "\n",
    "def compare_models(features_train, target_train, features_test, target_test):\n",
    "    models = {\n",
    "        \"DecisionTreeRegressor\": DecisionTreeRegressor(random_state=101),\n",
    "        \"RandomForest\": RandomForestRegressor(random_state=101),\n",
    "        \"AdaBoost\": AdaBoostRegressor(random_state=101),\n",
    "        \"ExtraTrees\": ExtraTreesRegressor(random_state=101),\n",
    "        \"GradientBoostingRegressor\": GradientBoostingRegressor(random_state=101),\n",
    "        \"XGBoost\": XGBRegressor(random_state=101, verbosity=0),\n",
    "    }\n",
    "\n",
    "    results = {}\n",
    "\n",
    "    for name, model in models.items():\n",
    "        print(f\"\\nEvaluating: {name}\")\n",
    "\n",
    "        # Pre-fit model for feature selection\n",
    "        try:\n",
    "            model_for_selection = model.__class__(**model.get_params())\n",
    "            model_for_selection.fit(features_train, target_train)\n",
    "            selector = SelectFromModel(model_for_selection, prefit=True)\n",
    "        except Exception as e:\n",
    "            print(f\"Feature selection failed for {name}: {e}\")\n",
    "            selector = 'passthrough'\n",
    "\n",
    "        pipeline = Pipeline([\n",
    "            (\"feat_scaling\", StandardScaler()),\n",
    "            (\"feat_selection\", selector),\n",
    "            (\"model\", model)\n",
    "        ])\n",
    "\n",
    "        pipeline.fit(features_train, target_train)\n",
    "        predictions = pipeline.predict(features_test)\n",
    "\n",
    "        mse = mean_squared_error(target_test, predictions)\n",
    "        r2 = r2_score(target_test, predictions)\n",
    "\n",
    "        print(f\"MSE: {mse:.2f}\")\n",
    "        print(f\"R2: {r2:.2f}\")\n",
    "\n",
    "        results[name] = {\"MSE\": mse, \"R2\": r2}\n",
    "\n",
    "    return pd.DataFrame(results).T.sort_values(by=\"R2\", ascending=False)\n"
   ]
  },
  {
   "cell_type": "code",
   "execution_count": null,
   "id": "603a6e5c",
   "metadata": {},
   "outputs": [],
   "source": []
  }
 ],
 "metadata": {
  "kernelspec": {
   "display_name": "3.12.1",
   "language": "python",
   "name": "python3"
  },
  "language_info": {
   "codemirror_mode": {
    "name": "ipython",
    "version": 3
   },
   "file_extension": ".py",
   "mimetype": "text/x-python",
   "name": "python",
   "nbconvert_exporter": "python",
   "pygments_lexer": "ipython3",
   "version": "3.12.1"
  }
 },
 "nbformat": 4,
 "nbformat_minor": 5
}
