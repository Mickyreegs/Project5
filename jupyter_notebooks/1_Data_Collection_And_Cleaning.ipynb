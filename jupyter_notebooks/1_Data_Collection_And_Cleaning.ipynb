{
  "cells": [
    {
      "cell_type": "markdown",
      "metadata": {
        "id": "0aStgWSO0E0E"
      },
      "source": [
        "# **Data Collection & Cleaning Notebook**"
      ]
    },
    {
      "cell_type": "markdown",
      "metadata": {
        "id": "1eLEkw5O0ECa"
      },
      "source": [
        "## Objectives\n",
        "\n",
        "* This notebook will be used to fetch Kaggle datasets and also a BitCoin price dataset from CoinCodex.  Permission was received from Leo Daris, a content manager at CoinCodex.\n",
        "* The datasets will be merged into one dataset and the data will be inspected and cleaned\n",
        "\n",
        "## Inputs\n",
        "\n",
        "* Kaggle JSON file - the authentication token.\n",
        "* CoinCodex .csv download - BitCoin prices - https://coincodex.com/crypto/bitcoin/\n",
        "* Kaggle NASDAQ dataset by Sai Karthik\n",
        "* Kaggle US Economic Vital Signs: 25 Years Of Macro Data dataset by Eswaran Muthu\n",
        "* Yahoo Finance download - Tickers used are \"IXIC\", \"GC=F\" & \"BZ=F\" starting from 19/07/2010 to 31/07/2025\n",
        "* FRED API (https://fred.stlouisfed.org/) - Data downloaded was from 01/01/2010 for the following economic indicators:\n",
        "  \n",
        "  * 'CPIAUCSL' - Inflation\n",
        "  * 'DGS10' - 10yr Treasury Yield\n",
        "  * 'FEDFUNDS' - Fed Funds Interest Rate\n",
        "  * 'M2SL' - Money Supply\n",
        "  * 'VIXCLS' - CBOE Volatility Index\n",
        "  * 'UMCSENT' - Consumer Sentiment\n",
        "  * 'GDPC1' - Real GDP\n",
        "  * 'UNRATE' - Unemployment Rate\n",
        "  * 'RSAFS' - Retail Sales\n",
        "  * 'GFDEGDQ188S' - Debt to GDP\n",
        "\n",
        "## Outputs\n",
        "\n",
        "* Generate Dataset: outputs/datasets/collection/\n",
        "\n",
        "## Additional Comments\n",
        "\n",
        "* Having started this project with the kaggle datasets list above, I took the decision to make my own dataset with identical or similar columns.  Extra economic factors were added also.  \n",
        "\n",
        "* These were all downloaded from the Yahoo Finance library and also from FRED's API.  I have since removed my API key as the datasets were all merged into bitcoin_yahoo_fred_combined.csv\n",
        "\n",
        "* bitcoin_yahoo_fred_combined.csv is the dataset I will use as it includes data since the commencement of BitCoin market prices, and is much larger than my original dataset.\n"
      ]
    },
    {
      "cell_type": "markdown",
      "metadata": {
        "id": "9uWZXH9LwoQg"
      },
      "source": [
        "---"
      ]
    },
    {
      "cell_type": "markdown",
      "metadata": {
        "id": "cqP-UeN-z3i2"
      },
      "source": [
        "# Change working directory"
      ]
    },
    {
      "cell_type": "markdown",
      "metadata": {
        "id": "aOGIGS-uz3i2"
      },
      "source": [
        "We need to change the working directory from its current folder to its parent folder\n",
        "* We access the current directory with os.getcwd()"
      ]
    },
    {
      "cell_type": "code",
      "execution_count": 1,
      "metadata": {
        "id": "wZfF_j-Bz3i4",
        "outputId": "66943449-1436-4c3d-85c7-b85f9f78349b"
      },
      "outputs": [
        {
          "data": {
            "text/plain": [
              "'/workspaces/Project5/jupyter_notebooks'"
            ]
          },
          "execution_count": 1,
          "metadata": {},
          "output_type": "execute_result"
        }
      ],
      "source": [
        "import os\n",
        "current_dir = os.getcwd()\n",
        "current_dir"
      ]
    },
    {
      "cell_type": "markdown",
      "metadata": {
        "id": "9MWW8E7lz3i7"
      },
      "source": [
        "We want to make the parent of the current directory the new current directory\n",
        "* os.path.dirname() gets the parent directory\n",
        "* os.chir() defines the new current directory"
      ]
    },
    {
      "cell_type": "code",
      "execution_count": 2,
      "metadata": {
        "id": "TwHsQRWjz3i9",
        "outputId": "86849db3-cd2f-4cc5-ebb8-2d0caafa1a2c"
      },
      "outputs": [
        {
          "name": "stdout",
          "output_type": "stream",
          "text": [
            "You set a new current directory\n"
          ]
        }
      ],
      "source": [
        "os.chdir(os.path.dirname(current_dir))\n",
        "print(\"You set a new current directory\")"
      ]
    },
    {
      "cell_type": "markdown",
      "metadata": {
        "id": "M_xPk_Ijz3i-"
      },
      "source": [
        "Confirm the new current directory"
      ]
    },
    {
      "cell_type": "code",
      "execution_count": 3,
      "metadata": {
        "id": "vz3S-_kjz3jA",
        "outputId": "00b79ae4-75d0-4a96-d193-ac9ef9847ea2"
      },
      "outputs": [
        {
          "data": {
            "text/plain": [
              "'/workspaces/Project5'"
            ]
          },
          "execution_count": 3,
          "metadata": {},
          "output_type": "execute_result"
        }
      ],
      "source": [
        "current_dir = os.getcwd()\n",
        "current_dir"
      ]
    },
    {
      "cell_type": "markdown",
      "metadata": {
        "id": "-mavJ8DibrcQ"
      },
      "source": [
        "# Fetch Kaggle Datasets"
      ]
    },
    {
      "cell_type": "markdown",
      "metadata": {},
      "source": [
        "Install Kaggle package to fetch data"
      ]
    },
    {
      "cell_type": "code",
      "execution_count": 4,
      "metadata": {},
      "outputs": [
        {
          "name": "stdout",
          "output_type": "stream",
          "text": [
            "Collecting kaggle==1.5.12\n",
            "  Downloading kaggle-1.5.12.tar.gz (58 kB)\n",
            "  Preparing metadata (setup.py) ... \u001b[?25ldone\n",
            "\u001b[?25hRequirement already satisfied: six>=1.10 in /home/cistudent/.pyenv/versions/3.12.1/lib/python3.12/site-packages (from kaggle==1.5.12) (1.17.0)\n",
            "Requirement already satisfied: certifi in /home/cistudent/.pyenv/versions/3.12.1/lib/python3.12/site-packages (from kaggle==1.5.12) (2024.12.14)\n",
            "Requirement already satisfied: python-dateutil in /home/cistudent/.pyenv/versions/3.12.1/lib/python3.12/site-packages (from kaggle==1.5.12) (2.9.0.post0)\n",
            "Requirement already satisfied: requests in /home/cistudent/.pyenv/versions/3.12.1/lib/python3.12/site-packages (from kaggle==1.5.12) (2.32.3)\n",
            "Requirement already satisfied: tqdm in /home/cistudent/.local/lib/python3.12/site-packages (from kaggle==1.5.12) (4.67.1)\n",
            "Collecting python-slugify (from kaggle==1.5.12)\n",
            "  Downloading python_slugify-8.0.4-py2.py3-none-any.whl.metadata (8.5 kB)\n",
            "Requirement already satisfied: urllib3 in /home/cistudent/.pyenv/versions/3.12.1/lib/python3.12/site-packages (from kaggle==1.5.12) (2.2.3)\n",
            "Collecting text-unidecode>=1.3 (from python-slugify->kaggle==1.5.12)\n",
            "  Downloading text_unidecode-1.3-py2.py3-none-any.whl.metadata (2.4 kB)\n",
            "Requirement already satisfied: charset-normalizer<4,>=2 in /home/cistudent/.pyenv/versions/3.12.1/lib/python3.12/site-packages (from requests->kaggle==1.5.12) (3.4.0)\n",
            "Requirement already satisfied: idna<4,>=2.5 in /home/cistudent/.pyenv/versions/3.12.1/lib/python3.12/site-packages (from requests->kaggle==1.5.12) (3.10)\n",
            "Downloading python_slugify-8.0.4-py2.py3-none-any.whl (10 kB)\n",
            "Downloading text_unidecode-1.3-py2.py3-none-any.whl (78 kB)\n",
            "Building wheels for collected packages: kaggle\n",
            "  Building wheel for kaggle (setup.py) ... \u001b[?25ldone\n",
            "\u001b[?25h  Created wheel for kaggle: filename=kaggle-1.5.12-py3-none-any.whl size=73026 sha256=4ea163f8e695b64978b2a6086d00c65789d10af926adcf99301a496b655fad0d\n",
            "  Stored in directory: /home/cistudent/.cache/pip/wheels/f5/69/4d/d701fc604b9fb09be59718b4056fd5556a22588ce1f25dd090\n",
            "Successfully built kaggle\n",
            "Installing collected packages: text-unidecode, python-slugify, kaggle\n",
            "Successfully installed kaggle-1.5.12 python-slugify-8.0.4 text-unidecode-1.3\n",
            "\n",
            "\u001b[1m[\u001b[0m\u001b[34;49mnotice\u001b[0m\u001b[1;39;49m]\u001b[0m\u001b[39;49m A new release of pip is available: \u001b[0m\u001b[31;49m24.3.1\u001b[0m\u001b[39;49m -> \u001b[0m\u001b[32;49m25.2\u001b[0m\n",
            "\u001b[1m[\u001b[0m\u001b[34;49mnotice\u001b[0m\u001b[1;39;49m]\u001b[0m\u001b[39;49m To update, run: \u001b[0m\u001b[32;49mpip install --upgrade pip\u001b[0m\n",
            "Note: you may need to restart the kernel to use updated packages.\n"
          ]
        }
      ],
      "source": [
        "%pip install kaggle==1.5.12"
      ]
    },
    {
      "cell_type": "markdown",
      "metadata": {},
      "source": [
        "Recognition of token"
      ]
    },
    {
      "cell_type": "code",
      "execution_count": 5,
      "metadata": {},
      "outputs": [],
      "source": [
        "import os\n",
        "os.environ['KAGGLE_CONFIG_DIR'] = os.getcwd()\n",
        "! chmod 600 kaggle.json"
      ]
    },
    {
      "cell_type": "markdown",
      "metadata": {},
      "source": [
        "Download Kaggle Datasets"
      ]
    },
    {
      "cell_type": "code",
      "execution_count": null,
      "metadata": {},
      "outputs": [
        {
          "name": "stdout",
          "output_type": "stream",
          "text": [
            "Downloading nasdq-dataset.zip to inputs/datasets/raw\n",
            "100%|█████████████████████████████████████████| 126k/126k [00:00<00:00, 514kB/s]\n",
            "100%|█████████████████████████████████████████| 126k/126k [00:00<00:00, 513kB/s]\n",
            "Downloading u-s-economic-vital-signs-25-years-of-macro-data.zip to inputs/datasets/raw\n",
            "  0%|                                               | 0.00/8.65k [00:00<?, ?B/s]\n",
            "100%|██████████████████████████████████████| 8.65k/8.65k [00:00<00:00, 24.8MB/s]\n"
          ]
        }
      ],
      "source": [
        "dataset_1 = \"sai14karthik/nasdq-dataset\"\n",
        "dataset_2 = \"eswaranmuthu/u-s-economic-vital-signs-25-years-of-macro-data\"\n",
        "DestinationFolder = \"inputs/datasets/raw\"\n",
        "\n",
        "!kaggle datasets download -d {dataset_1} -p {DestinationFolder}\n",
        "!kaggle datasets download -d {dataset_2} -p {DestinationFolder}"
      ]
    },
    {
      "cell_type": "markdown",
      "metadata": {},
      "source": [
        "Unzip the files"
      ]
    },
    {
      "cell_type": "code",
      "execution_count": 11,
      "metadata": {},
      "outputs": [
        {
          "name": "stdout",
          "output_type": "stream",
          "text": [
            "Unzipping: inputs/datasets/raw/nasdq-dataset.zip\n",
            "Unzipping: inputs/datasets/raw/u-s-economic-vital-signs-25-years-of-macro-data.zip\n"
          ]
        }
      ],
      "source": [
        "import os\n",
        "import zipfile\n",
        "\n",
        "for file in os.listdir(DestinationFolder):\n",
        "    if file.endswith(\".zip\"):\n",
        "        zip_path = os.path.join(DestinationFolder, file)\n",
        "        print(f\"Unzipping: {zip_path}\")\n",
        "        with zipfile.ZipFile(zip_path, 'r') as zip_ref:\n",
        "            zip_ref.extractall(DestinationFolder)\n",
        "        os.remove(zip_path)\n"
      ]
    },
    {
      "cell_type": "markdown",
      "metadata": {},
      "source": [
        "---"
      ]
    },
    {
      "cell_type": "markdown",
      "metadata": {},
      "source": [
        "# Data Cleaning And Merging"
      ]
    },
    {
      "cell_type": "markdown",
      "metadata": {},
      "source": [
        "Load and inspect the data - Having reviewed the original Kaggle datasets, we will not use them going forward as they were not extensive enough.\n",
        "\n",
        "Instead, we will proceed to download our required data from Yahoo Finance & FRED and use these together with the BitCoin price data to create 1 dataset."
      ]
    },
    {
      "cell_type": "code",
      "execution_count": 4,
      "metadata": {},
      "outputs": [
        {
          "data": {
            "text/html": [
              "<div>\n",
              "<style scoped>\n",
              "    .dataframe tbody tr th:only-of-type {\n",
              "        vertical-align: middle;\n",
              "    }\n",
              "\n",
              "    .dataframe tbody tr th {\n",
              "        vertical-align: top;\n",
              "    }\n",
              "\n",
              "    .dataframe thead th {\n",
              "        text-align: right;\n",
              "    }\n",
              "</style>\n",
              "<table border=\"1\" class=\"dataframe\">\n",
              "  <thead>\n",
              "    <tr style=\"text-align: right;\">\n",
              "      <th></th>\n",
              "      <th>Start</th>\n",
              "      <th>End</th>\n",
              "      <th>Open</th>\n",
              "      <th>High</th>\n",
              "      <th>Low</th>\n",
              "      <th>Close</th>\n",
              "      <th>Volume</th>\n",
              "      <th>Market Cap</th>\n",
              "    </tr>\n",
              "  </thead>\n",
              "  <tbody>\n",
              "    <tr>\n",
              "      <th>0</th>\n",
              "      <td>2025-07-31</td>\n",
              "      <td>2025-08-01</td>\n",
              "      <td>117823.0</td>\n",
              "      <td>118867.0</td>\n",
              "      <td>115606.0</td>\n",
              "      <td>115606.0</td>\n",
              "      <td>6.462546e+10</td>\n",
              "      <td>2.347673e+12</td>\n",
              "    </tr>\n",
              "    <tr>\n",
              "      <th>1</th>\n",
              "      <td>2025-07-30</td>\n",
              "      <td>2025-07-31</td>\n",
              "      <td>117796.0</td>\n",
              "      <td>118699.0</td>\n",
              "      <td>116027.0</td>\n",
              "      <td>117800.0</td>\n",
              "      <td>5.748423e+10</td>\n",
              "      <td>2.343903e+12</td>\n",
              "    </tr>\n",
              "    <tr>\n",
              "      <th>2</th>\n",
              "      <td>2025-07-29</td>\n",
              "      <td>2025-07-30</td>\n",
              "      <td>118100.0</td>\n",
              "      <td>119095.0</td>\n",
              "      <td>117084.0</td>\n",
              "      <td>117877.0</td>\n",
              "      <td>6.025039e+10</td>\n",
              "      <td>2.351844e+12</td>\n",
              "    </tr>\n",
              "    <tr>\n",
              "      <th>3</th>\n",
              "      <td>2025-07-28</td>\n",
              "      <td>2025-07-29</td>\n",
              "      <td>119370.0</td>\n",
              "      <td>119759.0</td>\n",
              "      <td>117435.0</td>\n",
              "      <td>117883.0</td>\n",
              "      <td>5.371660e+10</td>\n",
              "      <td>2.360848e+12</td>\n",
              "    </tr>\n",
              "    <tr>\n",
              "      <th>4</th>\n",
              "      <td>2025-07-27</td>\n",
              "      <td>2025-07-28</td>\n",
              "      <td>117944.0</td>\n",
              "      <td>119767.0</td>\n",
              "      <td>117842.0</td>\n",
              "      <td>119429.0</td>\n",
              "      <td>3.495047e+10</td>\n",
              "      <td>2.357912e+12</td>\n",
              "    </tr>\n",
              "  </tbody>\n",
              "</table>\n",
              "</div>"
            ],
            "text/plain": [
              "        Start         End      Open      High       Low     Close  \\\n",
              "0  2025-07-31  2025-08-01  117823.0  118867.0  115606.0  115606.0   \n",
              "1  2025-07-30  2025-07-31  117796.0  118699.0  116027.0  117800.0   \n",
              "2  2025-07-29  2025-07-30  118100.0  119095.0  117084.0  117877.0   \n",
              "3  2025-07-28  2025-07-29  119370.0  119759.0  117435.0  117883.0   \n",
              "4  2025-07-27  2025-07-28  117944.0  119767.0  117842.0  119429.0   \n",
              "\n",
              "         Volume    Market Cap  \n",
              "0  6.462546e+10  2.347673e+12  \n",
              "1  5.748423e+10  2.343903e+12  \n",
              "2  6.025039e+10  2.351844e+12  \n",
              "3  5.371660e+10  2.360848e+12  \n",
              "4  3.495047e+10  2.357912e+12  "
            ]
          },
          "execution_count": 4,
          "metadata": {},
          "output_type": "execute_result"
        }
      ],
      "source": [
        "import pandas as pd\n",
        "df_bitcoin = pd.read_csv(f\"inputs/datasets/raw/bitcoin_2010-07-17_2025-07-31.csv\")\n",
        "df_bitcoin.head()"
      ]
    },
    {
      "cell_type": "markdown",
      "metadata": {},
      "source": [
        "We are only insterested in the date and closing price of the BitCoin dataset, renaming 'End' and 'Close', while also converting the date using datetime. "
      ]
    },
    {
      "cell_type": "code",
      "execution_count": 5,
      "metadata": {},
      "outputs": [],
      "source": [
        "df_bitcoin = df_bitcoin[['End', 'Close']].copy()\n",
        "df_bitcoin.rename(columns={'End': 'Date', 'Close': 'Bitcoin_Close'}, inplace=True)\n",
        "\n",
        "df_bitcoin['Date'] = pd.to_datetime(df_bitcoin['Date']).dt.strftime('%Y-%m-%d')"
      ]
    },
    {
      "cell_type": "code",
      "execution_count": 6,
      "metadata": {},
      "outputs": [
        {
          "data": {
            "text/html": [
              "<div>\n",
              "<style scoped>\n",
              "    .dataframe tbody tr th:only-of-type {\n",
              "        vertical-align: middle;\n",
              "    }\n",
              "\n",
              "    .dataframe tbody tr th {\n",
              "        vertical-align: top;\n",
              "    }\n",
              "\n",
              "    .dataframe thead th {\n",
              "        text-align: right;\n",
              "    }\n",
              "</style>\n",
              "<table border=\"1\" class=\"dataframe\">\n",
              "  <thead>\n",
              "    <tr style=\"text-align: right;\">\n",
              "      <th></th>\n",
              "      <th>Date</th>\n",
              "      <th>Bitcoin_Close</th>\n",
              "    </tr>\n",
              "  </thead>\n",
              "  <tbody>\n",
              "    <tr>\n",
              "      <th>0</th>\n",
              "      <td>2025-08-01</td>\n",
              "      <td>115606.0</td>\n",
              "    </tr>\n",
              "    <tr>\n",
              "      <th>1</th>\n",
              "      <td>2025-07-31</td>\n",
              "      <td>117800.0</td>\n",
              "    </tr>\n",
              "    <tr>\n",
              "      <th>2</th>\n",
              "      <td>2025-07-30</td>\n",
              "      <td>117877.0</td>\n",
              "    </tr>\n",
              "    <tr>\n",
              "      <th>3</th>\n",
              "      <td>2025-07-29</td>\n",
              "      <td>117883.0</td>\n",
              "    </tr>\n",
              "    <tr>\n",
              "      <th>4</th>\n",
              "      <td>2025-07-28</td>\n",
              "      <td>119429.0</td>\n",
              "    </tr>\n",
              "  </tbody>\n",
              "</table>\n",
              "</div>"
            ],
            "text/plain": [
              "         Date  Bitcoin_Close\n",
              "0  2025-08-01       115606.0\n",
              "1  2025-07-31       117800.0\n",
              "2  2025-07-30       117877.0\n",
              "3  2025-07-29       117883.0\n",
              "4  2025-07-28       119429.0"
            ]
          },
          "execution_count": 6,
          "metadata": {},
          "output_type": "execute_result"
        }
      ],
      "source": [
        "df_bitcoin.head()"
      ]
    },
    {
      "cell_type": "markdown",
      "metadata": {},
      "source": [
        "Next, we download the historic prices or the Nasdaq Index, Gold and Oil from Yahoo Finance via yfinance in Python.  \n",
        "\n",
        "All dates are from 19/07/2010 to 31/07/2025 to coincide with the BitCoin dates.\n",
        "\n",
        "This data is then merged and sorted by date."
      ]
    },
    {
      "cell_type": "code",
      "execution_count": 7,
      "metadata": {},
      "outputs": [
        {
          "data": {
            "text/html": [
              "<div>\n",
              "<style scoped>\n",
              "    .dataframe tbody tr th:only-of-type {\n",
              "        vertical-align: middle;\n",
              "    }\n",
              "\n",
              "    .dataframe tbody tr th {\n",
              "        vertical-align: top;\n",
              "    }\n",
              "\n",
              "    .dataframe thead th {\n",
              "        text-align: right;\n",
              "    }\n",
              "</style>\n",
              "<table border=\"1\" class=\"dataframe\">\n",
              "  <thead>\n",
              "    <tr style=\"text-align: right;\">\n",
              "      <th></th>\n",
              "      <th>Date</th>\n",
              "      <th>Nasdaq_Close</th>\n",
              "      <th>Gold_Close</th>\n",
              "      <th>Brent_Close</th>\n",
              "    </tr>\n",
              "  </thead>\n",
              "  <tbody>\n",
              "    <tr>\n",
              "      <th>0</th>\n",
              "      <td>2010-07-19</td>\n",
              "      <td>2198.229980</td>\n",
              "      <td>1181.699951</td>\n",
              "      <td>75.620003</td>\n",
              "    </tr>\n",
              "    <tr>\n",
              "      <th>1</th>\n",
              "      <td>2010-07-20</td>\n",
              "      <td>2222.489990</td>\n",
              "      <td>1191.500000</td>\n",
              "      <td>76.220001</td>\n",
              "    </tr>\n",
              "    <tr>\n",
              "      <th>2</th>\n",
              "      <td>2010-07-21</td>\n",
              "      <td>2187.330078</td>\n",
              "      <td>1191.599976</td>\n",
              "      <td>75.370003</td>\n",
              "    </tr>\n",
              "    <tr>\n",
              "      <th>3</th>\n",
              "      <td>2010-07-22</td>\n",
              "      <td>2245.889893</td>\n",
              "      <td>1195.500000</td>\n",
              "      <td>77.820000</td>\n",
              "    </tr>\n",
              "    <tr>\n",
              "      <th>4</th>\n",
              "      <td>2010-07-23</td>\n",
              "      <td>2269.469971</td>\n",
              "      <td>1187.699951</td>\n",
              "      <td>77.449997</td>\n",
              "    </tr>\n",
              "  </tbody>\n",
              "</table>\n",
              "</div>"
            ],
            "text/plain": [
              "         Date  Nasdaq_Close   Gold_Close  Brent_Close\n",
              "0  2010-07-19   2198.229980  1181.699951    75.620003\n",
              "1  2010-07-20   2222.489990  1191.500000    76.220001\n",
              "2  2010-07-21   2187.330078  1191.599976    75.370003\n",
              "3  2010-07-22   2245.889893  1195.500000    77.820000\n",
              "4  2010-07-23   2269.469971  1187.699951    77.449997"
            ]
          },
          "execution_count": 7,
          "metadata": {},
          "output_type": "execute_result"
        }
      ],
      "source": [
        "import yfinance as yf\n",
        "import pandas as pd\n",
        "\n",
        "nasdaq = yf.Ticker(\"^IXIC\")\n",
        "df_nasdaq_history = nasdaq.history(start=\"2010-07-19\", end=\"2025-07-31\")\n",
        "df_nasdaq_history = df_nasdaq_history.reset_index()\n",
        "df_nasdaq_history['Date'] = df_nasdaq_history['Date'].dt.strftime('%Y-%m-%d')\n",
        "df_nasdaq_history.rename(columns={'Close': 'Nasdaq_Close'}, inplace=True)\n",
        "df_nasdaq_index = df_nasdaq_history[['Date', 'Nasdaq_Close']]\n",
        "\n",
        "gold = yf.Ticker(\"GC=F\")\n",
        "df_gold_history = gold.history(start=\"2010-07-19\", end=\"2025-07-31\")\n",
        "df_gold_history = df_gold_history.reset_index()\n",
        "df_gold_history['Date'] = df_gold_history['Date'].dt.strftime('%Y-%m-%d')\n",
        "df_gold_history.rename(columns={'Close': 'Gold_Close'}, inplace=True)\n",
        "df_gold_index = df_gold_history[['Date', 'Gold_Close']]\n",
        "\n",
        "brent = yf.Ticker(\"BZ=F\")\n",
        "df_brent_history = brent.history(start=\"2010-07-19\", end=\"2025-07-31\")\n",
        "df_brent_history = df_brent_history.reset_index()\n",
        "df_brent_history['Date'] = df_brent_history['Date'].dt.strftime('%Y-%m-%d')\n",
        "df_brent_history.rename(columns={'Close': 'Brent_Close'}, inplace=True)\n",
        "df_brent_index = df_brent_history[['Date', 'Brent_Close']]\n",
        "\n",
        "# Merge Nasdaq and Gold\n",
        "df_nasdaq_commodities = pd.merge(df_nasdaq_index, df_gold_index, on='Date', how='outer')\n",
        "\n",
        "# Merge the result with Brent\n",
        "df_nasdaq_commodities = pd.merge(df_nasdaq_commodities, df_brent_index, on='Date', how='outer')\n",
        "\n",
        "# Sort by Date\n",
        "df_nasdaq_commodities = df_nasdaq_commodities.sort_values(by='Date').reset_index(drop=True)\n",
        "\n",
        "df_nasdaq_commodities.head()\n",
        "\n"
      ]
    },
    {
      "cell_type": "markdown",
      "metadata": {},
      "source": [
        "We check for any missing data."
      ]
    },
    {
      "cell_type": "code",
      "execution_count": 8,
      "metadata": {},
      "outputs": [
        {
          "name": "stdout",
          "output_type": "stream",
          "text": [
            "Date             0\n",
            "Nasdaq_Close     3\n",
            "Gold_Close       4\n",
            "Brent_Close     32\n",
            "dtype: int64\n"
          ]
        }
      ],
      "source": [
        "print(df_nasdaq_commodities.isnull().sum())"
      ]
    },
    {
      "cell_type": "markdown",
      "metadata": {},
      "source": [
        "We forward fill any blanks with the last data entry."
      ]
    },
    {
      "cell_type": "code",
      "execution_count": 9,
      "metadata": {},
      "outputs": [],
      "source": [
        "df_nasdaq_commodities = df_nasdaq_commodities.ffill()"
      ]
    },
    {
      "cell_type": "markdown",
      "metadata": {},
      "source": [
        "We can see that there are no blanks after forward filling."
      ]
    },
    {
      "cell_type": "code",
      "execution_count": 10,
      "metadata": {},
      "outputs": [
        {
          "name": "stdout",
          "output_type": "stream",
          "text": [
            "Date            0\n",
            "Nasdaq_Close    0\n",
            "Gold_Close      0\n",
            "Brent_Close     0\n",
            "dtype: int64\n"
          ]
        }
      ],
      "source": [
        "print(df_nasdaq_commodities.isnull().sum())"
      ]
    },
    {
      "cell_type": "markdown",
      "metadata": {},
      "source": [
        "Next, we download a number of economic indicators from FRED via an API (https://fred.stlouisfed.org/).\n",
        "\n",
        "We loop through the list, saving each individually to the intially empty macro_dataframes dictionary."
      ]
    },
    {
      "cell_type": "code",
      "execution_count": 2,
      "metadata": {},
      "outputs": [],
      "source": [
        "from fredapi import Fred\n",
        "import pandas as pd\n",
        "from dotenv import load_dotenv\n",
        "import os\n",
        "\n",
        "load_dotenv()\n",
        "fred_api_key = os.getenv(\"FRED_API_KEY\")\n",
        "fred = Fred(api_key=fred_api_key)\n",
        "\n",
        "series_dict = {\n",
        "    'CPIAUCSL': 'CPI',\n",
        "    'DGS10': 'Ten_Year_Yield',\n",
        "    'FEDFUNDS': 'Fed_Funds_Rate',\n",
        "    'M2SL': 'M2_Money_Supply',\n",
        "    'VIXCLS': 'VIX',\n",
        "    'UMCSENT': 'Consumer_Sentiment',\n",
        "    'GDPC1': 'Real_GDP',\n",
        "    'UNRATE': 'Unemployment_Rate',\n",
        "    'RSAFS': 'Retail_Sales',\n",
        "    'GFDEGDQ188S': 'Debt_to_GDP'\n",
        "}\n",
        "\n",
        "macro_dataframes = {}\n",
        "\n",
        "# Loop through each series and format\n",
        "for series_id, label in series_dict.items():\n",
        "    data = fred.get_series(series_id, observation_start='2010-01-01')\n",
        "    df = data.reset_index()\n",
        "    df.columns = ['Date', label]\n",
        "    df['Date'] = pd.to_datetime(df['Date']).dt.strftime('%Y-%m-%d')\n",
        "    macro_dataframes[label] = df"
      ]
    },
    {
      "cell_type": "markdown",
      "metadata": {},
      "source": [
        "We then merge each download into one file based on date and we then sort by the date."
      ]
    },
    {
      "cell_type": "code",
      "execution_count": 3,
      "metadata": {},
      "outputs": [],
      "source": [
        "from functools import reduce\n",
        "import pandas as pd\n",
        "\n",
        "dfs = list(macro_dataframes.values())\n",
        "\n",
        "df_macro_merged = reduce(lambda left, right: pd.merge(left, right, on='Date', how='outer'), dfs)\n",
        "\n",
        "df_macro_merged = df_macro_merged.sort_values(by='Date').reset_index(drop=True)\n"
      ]
    },
    {
      "cell_type": "code",
      "execution_count": 4,
      "metadata": {},
      "outputs": [
        {
          "data": {
            "text/html": [
              "<div>\n",
              "<style scoped>\n",
              "    .dataframe tbody tr th:only-of-type {\n",
              "        vertical-align: middle;\n",
              "    }\n",
              "\n",
              "    .dataframe tbody tr th {\n",
              "        vertical-align: top;\n",
              "    }\n",
              "\n",
              "    .dataframe thead th {\n",
              "        text-align: right;\n",
              "    }\n",
              "</style>\n",
              "<table border=\"1\" class=\"dataframe\">\n",
              "  <thead>\n",
              "    <tr style=\"text-align: right;\">\n",
              "      <th></th>\n",
              "      <th>Date</th>\n",
              "      <th>CPI</th>\n",
              "      <th>Ten_Year_Yield</th>\n",
              "      <th>Fed_Funds_Rate</th>\n",
              "      <th>M2_Money_Supply</th>\n",
              "      <th>VIX</th>\n",
              "      <th>Consumer_Sentiment</th>\n",
              "      <th>Real_GDP</th>\n",
              "      <th>Unemployment_Rate</th>\n",
              "      <th>Retail_Sales</th>\n",
              "      <th>Debt_to_GDP</th>\n",
              "    </tr>\n",
              "  </thead>\n",
              "  <tbody>\n",
              "    <tr>\n",
              "      <th>0</th>\n",
              "      <td>2010-01-01</td>\n",
              "      <td>217.488</td>\n",
              "      <td>NaN</td>\n",
              "      <td>0.11</td>\n",
              "      <td>8478.0</td>\n",
              "      <td>NaN</td>\n",
              "      <td>74.4</td>\n",
              "      <td>16582.71</td>\n",
              "      <td>9.8</td>\n",
              "      <td>339093.0</td>\n",
              "      <td>86.51175</td>\n",
              "    </tr>\n",
              "    <tr>\n",
              "      <th>1</th>\n",
              "      <td>2010-01-04</td>\n",
              "      <td>NaN</td>\n",
              "      <td>3.85</td>\n",
              "      <td>NaN</td>\n",
              "      <td>NaN</td>\n",
              "      <td>20.04</td>\n",
              "      <td>NaN</td>\n",
              "      <td>NaN</td>\n",
              "      <td>NaN</td>\n",
              "      <td>NaN</td>\n",
              "      <td>NaN</td>\n",
              "    </tr>\n",
              "    <tr>\n",
              "      <th>2</th>\n",
              "      <td>2010-01-05</td>\n",
              "      <td>NaN</td>\n",
              "      <td>3.77</td>\n",
              "      <td>NaN</td>\n",
              "      <td>NaN</td>\n",
              "      <td>19.35</td>\n",
              "      <td>NaN</td>\n",
              "      <td>NaN</td>\n",
              "      <td>NaN</td>\n",
              "      <td>NaN</td>\n",
              "      <td>NaN</td>\n",
              "    </tr>\n",
              "    <tr>\n",
              "      <th>3</th>\n",
              "      <td>2010-01-06</td>\n",
              "      <td>NaN</td>\n",
              "      <td>3.85</td>\n",
              "      <td>NaN</td>\n",
              "      <td>NaN</td>\n",
              "      <td>19.16</td>\n",
              "      <td>NaN</td>\n",
              "      <td>NaN</td>\n",
              "      <td>NaN</td>\n",
              "      <td>NaN</td>\n",
              "      <td>NaN</td>\n",
              "    </tr>\n",
              "    <tr>\n",
              "      <th>4</th>\n",
              "      <td>2010-01-07</td>\n",
              "      <td>NaN</td>\n",
              "      <td>3.85</td>\n",
              "      <td>NaN</td>\n",
              "      <td>NaN</td>\n",
              "      <td>19.06</td>\n",
              "      <td>NaN</td>\n",
              "      <td>NaN</td>\n",
              "      <td>NaN</td>\n",
              "      <td>NaN</td>\n",
              "      <td>NaN</td>\n",
              "    </tr>\n",
              "  </tbody>\n",
              "</table>\n",
              "</div>"
            ],
            "text/plain": [
              "         Date      CPI  Ten_Year_Yield  Fed_Funds_Rate  M2_Money_Supply  \\\n",
              "0  2010-01-01  217.488             NaN            0.11           8478.0   \n",
              "1  2010-01-04      NaN            3.85             NaN              NaN   \n",
              "2  2010-01-05      NaN            3.77             NaN              NaN   \n",
              "3  2010-01-06      NaN            3.85             NaN              NaN   \n",
              "4  2010-01-07      NaN            3.85             NaN              NaN   \n",
              "\n",
              "     VIX  Consumer_Sentiment  Real_GDP  Unemployment_Rate  Retail_Sales  \\\n",
              "0    NaN                74.4  16582.71                9.8      339093.0   \n",
              "1  20.04                 NaN       NaN                NaN           NaN   \n",
              "2  19.35                 NaN       NaN                NaN           NaN   \n",
              "3  19.16                 NaN       NaN                NaN           NaN   \n",
              "4  19.06                 NaN       NaN                NaN           NaN   \n",
              "\n",
              "   Debt_to_GDP  \n",
              "0     86.51175  \n",
              "1          NaN  \n",
              "2          NaN  \n",
              "3          NaN  \n",
              "4          NaN  "
            ]
          },
          "execution_count": 4,
          "metadata": {},
          "output_type": "execute_result"
        }
      ],
      "source": [
        "df_macro_merged.head()"
      ]
    },
    {
      "cell_type": "markdown",
      "metadata": {},
      "source": [
        "We check for missing data and see there are quite a lot of missing entries.  This is due to the timeframes of the data - Monthly, weekly, quarterly."
      ]
    },
    {
      "cell_type": "code",
      "execution_count": 15,
      "metadata": {},
      "outputs": [
        {
          "name": "stdout",
          "output_type": "stream",
          "text": [
            "Date                     0\n",
            "CPI                   3946\n",
            "Ten_Year_Yield         221\n",
            "Fed_Funds_Rate        3946\n",
            "M2_Money_Supply       3947\n",
            "VIX                    175\n",
            "Consumer_Sentiment    3947\n",
            "Real_GDP              4071\n",
            "Unemployment_Rate     3946\n",
            "Retail_Sales          3946\n",
            "Debt_to_GDP           4072\n",
            "dtype: int64\n"
          ]
        }
      ],
      "source": [
        "print(df_macro_merged.isnull().sum())"
      ]
    },
    {
      "cell_type": "markdown",
      "metadata": {},
      "source": [
        "We forward fill again for any blank data"
      ]
    },
    {
      "cell_type": "code",
      "execution_count": 16,
      "metadata": {},
      "outputs": [],
      "source": [
        "df_macro_merged = df_macro_merged.sort_values(by='Date').reset_index(drop=True)\n",
        "df_macro_merged = df_macro_merged.ffill()"
      ]
    },
    {
      "cell_type": "markdown",
      "metadata": {},
      "source": [
        "And backfill for index 0"
      ]
    },
    {
      "cell_type": "code",
      "execution_count": 17,
      "metadata": {},
      "outputs": [],
      "source": [
        "df_macro_merged = df_macro_merged.bfill()"
      ]
    },
    {
      "cell_type": "code",
      "execution_count": 18,
      "metadata": {},
      "outputs": [
        {
          "data": {
            "text/html": [
              "<div>\n",
              "<style scoped>\n",
              "    .dataframe tbody tr th:only-of-type {\n",
              "        vertical-align: middle;\n",
              "    }\n",
              "\n",
              "    .dataframe tbody tr th {\n",
              "        vertical-align: top;\n",
              "    }\n",
              "\n",
              "    .dataframe thead th {\n",
              "        text-align: right;\n",
              "    }\n",
              "</style>\n",
              "<table border=\"1\" class=\"dataframe\">\n",
              "  <thead>\n",
              "    <tr style=\"text-align: right;\">\n",
              "      <th></th>\n",
              "      <th>Date</th>\n",
              "      <th>CPI</th>\n",
              "      <th>Ten_Year_Yield</th>\n",
              "      <th>Fed_Funds_Rate</th>\n",
              "      <th>M2_Money_Supply</th>\n",
              "      <th>VIX</th>\n",
              "      <th>Consumer_Sentiment</th>\n",
              "      <th>Real_GDP</th>\n",
              "      <th>Unemployment_Rate</th>\n",
              "      <th>Retail_Sales</th>\n",
              "      <th>Debt_to_GDP</th>\n",
              "    </tr>\n",
              "  </thead>\n",
              "  <tbody>\n",
              "    <tr>\n",
              "      <th>0</th>\n",
              "      <td>2010-01-01</td>\n",
              "      <td>217.488</td>\n",
              "      <td>3.85</td>\n",
              "      <td>0.11</td>\n",
              "      <td>8478.0</td>\n",
              "      <td>20.04</td>\n",
              "      <td>74.4</td>\n",
              "      <td>16582.71</td>\n",
              "      <td>9.8</td>\n",
              "      <td>339093.0</td>\n",
              "      <td>86.51175</td>\n",
              "    </tr>\n",
              "    <tr>\n",
              "      <th>1</th>\n",
              "      <td>2010-01-04</td>\n",
              "      <td>217.488</td>\n",
              "      <td>3.85</td>\n",
              "      <td>0.11</td>\n",
              "      <td>8478.0</td>\n",
              "      <td>20.04</td>\n",
              "      <td>74.4</td>\n",
              "      <td>16582.71</td>\n",
              "      <td>9.8</td>\n",
              "      <td>339093.0</td>\n",
              "      <td>86.51175</td>\n",
              "    </tr>\n",
              "    <tr>\n",
              "      <th>2</th>\n",
              "      <td>2010-01-05</td>\n",
              "      <td>217.488</td>\n",
              "      <td>3.77</td>\n",
              "      <td>0.11</td>\n",
              "      <td>8478.0</td>\n",
              "      <td>19.35</td>\n",
              "      <td>74.4</td>\n",
              "      <td>16582.71</td>\n",
              "      <td>9.8</td>\n",
              "      <td>339093.0</td>\n",
              "      <td>86.51175</td>\n",
              "    </tr>\n",
              "    <tr>\n",
              "      <th>3</th>\n",
              "      <td>2010-01-06</td>\n",
              "      <td>217.488</td>\n",
              "      <td>3.85</td>\n",
              "      <td>0.11</td>\n",
              "      <td>8478.0</td>\n",
              "      <td>19.16</td>\n",
              "      <td>74.4</td>\n",
              "      <td>16582.71</td>\n",
              "      <td>9.8</td>\n",
              "      <td>339093.0</td>\n",
              "      <td>86.51175</td>\n",
              "    </tr>\n",
              "    <tr>\n",
              "      <th>4</th>\n",
              "      <td>2010-01-07</td>\n",
              "      <td>217.488</td>\n",
              "      <td>3.85</td>\n",
              "      <td>0.11</td>\n",
              "      <td>8478.0</td>\n",
              "      <td>19.06</td>\n",
              "      <td>74.4</td>\n",
              "      <td>16582.71</td>\n",
              "      <td>9.8</td>\n",
              "      <td>339093.0</td>\n",
              "      <td>86.51175</td>\n",
              "    </tr>\n",
              "  </tbody>\n",
              "</table>\n",
              "</div>"
            ],
            "text/plain": [
              "         Date      CPI  Ten_Year_Yield  Fed_Funds_Rate  M2_Money_Supply  \\\n",
              "0  2010-01-01  217.488            3.85            0.11           8478.0   \n",
              "1  2010-01-04  217.488            3.85            0.11           8478.0   \n",
              "2  2010-01-05  217.488            3.77            0.11           8478.0   \n",
              "3  2010-01-06  217.488            3.85            0.11           8478.0   \n",
              "4  2010-01-07  217.488            3.85            0.11           8478.0   \n",
              "\n",
              "     VIX  Consumer_Sentiment  Real_GDP  Unemployment_Rate  Retail_Sales  \\\n",
              "0  20.04                74.4  16582.71                9.8      339093.0   \n",
              "1  20.04                74.4  16582.71                9.8      339093.0   \n",
              "2  19.35                74.4  16582.71                9.8      339093.0   \n",
              "3  19.16                74.4  16582.71                9.8      339093.0   \n",
              "4  19.06                74.4  16582.71                9.8      339093.0   \n",
              "\n",
              "   Debt_to_GDP  \n",
              "0     86.51175  \n",
              "1     86.51175  \n",
              "2     86.51175  \n",
              "3     86.51175  \n",
              "4     86.51175  "
            ]
          },
          "execution_count": 18,
          "metadata": {},
          "output_type": "execute_result"
        }
      ],
      "source": [
        "df_macro_merged.head()"
      ]
    },
    {
      "cell_type": "markdown",
      "metadata": {},
      "source": [
        "Now there is no missing data on this dataset."
      ]
    },
    {
      "cell_type": "code",
      "execution_count": 19,
      "metadata": {},
      "outputs": [
        {
          "name": "stdout",
          "output_type": "stream",
          "text": [
            "Date                  0\n",
            "CPI                   0\n",
            "Ten_Year_Yield        0\n",
            "Fed_Funds_Rate        0\n",
            "M2_Money_Supply       0\n",
            "VIX                   0\n",
            "Consumer_Sentiment    0\n",
            "Real_GDP              0\n",
            "Unemployment_Rate     0\n",
            "Retail_Sales          0\n",
            "Debt_to_GDP           0\n",
            "dtype: int64\n"
          ]
        }
      ],
      "source": [
        "print(df_macro_merged.isnull().sum())"
      ]
    },
    {
      "cell_type": "markdown",
      "metadata": {},
      "source": [
        "Finally, we are ready to merge all 3 datasets into one, using BitCoin as the anchor."
      ]
    },
    {
      "cell_type": "code",
      "execution_count": 20,
      "metadata": {},
      "outputs": [],
      "source": [
        "df_merged = pd.merge(df_bitcoin, df_nasdaq_commodities, on='Date', how='left')\n",
        "\n",
        "df_merged = pd.merge(df_merged, df_macro_merged, on='Date', how='left')\n",
        "\n",
        "df_merged = df_merged.sort_values(by='Date').reset_index(drop=True)"
      ]
    },
    {
      "cell_type": "markdown",
      "metadata": {},
      "source": [
        "Once again, we check for missing data in the merged file and see that there are quite a lot of missing entries.\n",
        "\n",
        "This is due to the weekend dates being included in the BitCoin dataset, whereas weekends and holidays were stripped out of the others."
      ]
    },
    {
      "cell_type": "code",
      "execution_count": 21,
      "metadata": {},
      "outputs": [
        {
          "name": "stdout",
          "output_type": "stream",
          "text": [
            "Date                     0\n",
            "Bitcoin_Close            0\n",
            "Nasdaq_Close          1709\n",
            "Gold_Close            1709\n",
            "Brent_Close           1709\n",
            "CPI                   1517\n",
            "Ten_Year_Yield        1517\n",
            "Fed_Funds_Rate        1517\n",
            "M2_Money_Supply       1517\n",
            "VIX                   1517\n",
            "Consumer_Sentiment    1517\n",
            "Real_GDP              1517\n",
            "Unemployment_Rate     1517\n",
            "Retail_Sales          1517\n",
            "Debt_to_GDP           1517\n",
            "dtype: int64\n"
          ]
        }
      ],
      "source": [
        "print(df_merged.isnull().sum())"
      ]
    },
    {
      "cell_type": "markdown",
      "metadata": {},
      "source": [
        "We forward fill for missing weekends and holidays."
      ]
    },
    {
      "cell_type": "code",
      "execution_count": 22,
      "metadata": {},
      "outputs": [],
      "source": [
        "df_merged = df_merged.ffill()"
      ]
    },
    {
      "cell_type": "markdown",
      "metadata": {},
      "source": [
        "We back fill as 18/07/2010 was a Sunday."
      ]
    },
    {
      "cell_type": "code",
      "execution_count": 23,
      "metadata": {},
      "outputs": [],
      "source": [
        "df_merged = df_merged.bfill()"
      ]
    },
    {
      "cell_type": "markdown",
      "metadata": {},
      "source": [
        "Now there is no missing data left in our fully merged dataset."
      ]
    },
    {
      "cell_type": "code",
      "execution_count": 24,
      "metadata": {},
      "outputs": [
        {
          "name": "stdout",
          "output_type": "stream",
          "text": [
            "Date                  0\n",
            "Bitcoin_Close         0\n",
            "Nasdaq_Close          0\n",
            "Gold_Close            0\n",
            "Brent_Close           0\n",
            "CPI                   0\n",
            "Ten_Year_Yield        0\n",
            "Fed_Funds_Rate        0\n",
            "M2_Money_Supply       0\n",
            "VIX                   0\n",
            "Consumer_Sentiment    0\n",
            "Real_GDP              0\n",
            "Unemployment_Rate     0\n",
            "Retail_Sales          0\n",
            "Debt_to_GDP           0\n",
            "dtype: int64\n"
          ]
        }
      ],
      "source": [
        "print(df_merged.isnull().sum())"
      ]
    },
    {
      "cell_type": "code",
      "execution_count": 25,
      "metadata": {},
      "outputs": [
        {
          "data": {
            "text/html": [
              "<div>\n",
              "<style scoped>\n",
              "    .dataframe tbody tr th:only-of-type {\n",
              "        vertical-align: middle;\n",
              "    }\n",
              "\n",
              "    .dataframe tbody tr th {\n",
              "        vertical-align: top;\n",
              "    }\n",
              "\n",
              "    .dataframe thead th {\n",
              "        text-align: right;\n",
              "    }\n",
              "</style>\n",
              "<table border=\"1\" class=\"dataframe\">\n",
              "  <thead>\n",
              "    <tr style=\"text-align: right;\">\n",
              "      <th></th>\n",
              "      <th>Date</th>\n",
              "      <th>Bitcoin_Close</th>\n",
              "      <th>Nasdaq_Close</th>\n",
              "      <th>Gold_Close</th>\n",
              "      <th>Brent_Close</th>\n",
              "      <th>CPI</th>\n",
              "      <th>Ten_Year_Yield</th>\n",
              "      <th>Fed_Funds_Rate</th>\n",
              "      <th>M2_Money_Supply</th>\n",
              "      <th>VIX</th>\n",
              "      <th>Consumer_Sentiment</th>\n",
              "      <th>Real_GDP</th>\n",
              "      <th>Unemployment_Rate</th>\n",
              "      <th>Retail_Sales</th>\n",
              "      <th>Debt_to_GDP</th>\n",
              "    </tr>\n",
              "  </thead>\n",
              "  <tbody>\n",
              "    <tr>\n",
              "      <th>0</th>\n",
              "      <td>2010-07-18</td>\n",
              "      <td>0.0500</td>\n",
              "      <td>2198.229980</td>\n",
              "      <td>1181.699951</td>\n",
              "      <td>75.620003</td>\n",
              "      <td>217.605</td>\n",
              "      <td>2.99</td>\n",
              "      <td>0.18</td>\n",
              "      <td>8639.8</td>\n",
              "      <td>25.97</td>\n",
              "      <td>67.8</td>\n",
              "      <td>16872.266</td>\n",
              "      <td>9.4</td>\n",
              "      <td>347612.0</td>\n",
              "      <td>89.56528</td>\n",
              "    </tr>\n",
              "    <tr>\n",
              "      <th>1</th>\n",
              "      <td>2010-07-19</td>\n",
              "      <td>0.0858</td>\n",
              "      <td>2198.229980</td>\n",
              "      <td>1181.699951</td>\n",
              "      <td>75.620003</td>\n",
              "      <td>217.605</td>\n",
              "      <td>2.99</td>\n",
              "      <td>0.18</td>\n",
              "      <td>8639.8</td>\n",
              "      <td>25.97</td>\n",
              "      <td>67.8</td>\n",
              "      <td>16872.266</td>\n",
              "      <td>9.4</td>\n",
              "      <td>347612.0</td>\n",
              "      <td>89.56528</td>\n",
              "    </tr>\n",
              "    <tr>\n",
              "      <th>2</th>\n",
              "      <td>2010-07-20</td>\n",
              "      <td>0.0808</td>\n",
              "      <td>2222.489990</td>\n",
              "      <td>1191.500000</td>\n",
              "      <td>76.220001</td>\n",
              "      <td>217.605</td>\n",
              "      <td>2.98</td>\n",
              "      <td>0.18</td>\n",
              "      <td>8639.8</td>\n",
              "      <td>23.93</td>\n",
              "      <td>67.8</td>\n",
              "      <td>16872.266</td>\n",
              "      <td>9.4</td>\n",
              "      <td>347612.0</td>\n",
              "      <td>89.56528</td>\n",
              "    </tr>\n",
              "    <tr>\n",
              "      <th>3</th>\n",
              "      <td>2010-07-21</td>\n",
              "      <td>0.0747</td>\n",
              "      <td>2187.330078</td>\n",
              "      <td>1191.599976</td>\n",
              "      <td>75.370003</td>\n",
              "      <td>217.605</td>\n",
              "      <td>2.90</td>\n",
              "      <td>0.18</td>\n",
              "      <td>8639.8</td>\n",
              "      <td>25.64</td>\n",
              "      <td>67.8</td>\n",
              "      <td>16872.266</td>\n",
              "      <td>9.4</td>\n",
              "      <td>347612.0</td>\n",
              "      <td>89.56528</td>\n",
              "    </tr>\n",
              "    <tr>\n",
              "      <th>4</th>\n",
              "      <td>2010-07-22</td>\n",
              "      <td>0.0792</td>\n",
              "      <td>2245.889893</td>\n",
              "      <td>1195.500000</td>\n",
              "      <td>77.820000</td>\n",
              "      <td>217.605</td>\n",
              "      <td>2.96</td>\n",
              "      <td>0.18</td>\n",
              "      <td>8639.8</td>\n",
              "      <td>24.63</td>\n",
              "      <td>67.8</td>\n",
              "      <td>16872.266</td>\n",
              "      <td>9.4</td>\n",
              "      <td>347612.0</td>\n",
              "      <td>89.56528</td>\n",
              "    </tr>\n",
              "  </tbody>\n",
              "</table>\n",
              "</div>"
            ],
            "text/plain": [
              "         Date  Bitcoin_Close  Nasdaq_Close   Gold_Close  Brent_Close      CPI  \\\n",
              "0  2010-07-18         0.0500   2198.229980  1181.699951    75.620003  217.605   \n",
              "1  2010-07-19         0.0858   2198.229980  1181.699951    75.620003  217.605   \n",
              "2  2010-07-20         0.0808   2222.489990  1191.500000    76.220001  217.605   \n",
              "3  2010-07-21         0.0747   2187.330078  1191.599976    75.370003  217.605   \n",
              "4  2010-07-22         0.0792   2245.889893  1195.500000    77.820000  217.605   \n",
              "\n",
              "   Ten_Year_Yield  Fed_Funds_Rate  M2_Money_Supply    VIX  Consumer_Sentiment  \\\n",
              "0            2.99            0.18           8639.8  25.97                67.8   \n",
              "1            2.99            0.18           8639.8  25.97                67.8   \n",
              "2            2.98            0.18           8639.8  23.93                67.8   \n",
              "3            2.90            0.18           8639.8  25.64                67.8   \n",
              "4            2.96            0.18           8639.8  24.63                67.8   \n",
              "\n",
              "    Real_GDP  Unemployment_Rate  Retail_Sales  Debt_to_GDP  \n",
              "0  16872.266                9.4      347612.0     89.56528  \n",
              "1  16872.266                9.4      347612.0     89.56528  \n",
              "2  16872.266                9.4      347612.0     89.56528  \n",
              "3  16872.266                9.4      347612.0     89.56528  \n",
              "4  16872.266                9.4      347612.0     89.56528  "
            ]
          },
          "execution_count": 25,
          "metadata": {},
          "output_type": "execute_result"
        }
      ],
      "source": [
        "df_merged.head()"
      ]
    },
    {
      "cell_type": "code",
      "execution_count": 26,
      "metadata": {},
      "outputs": [
        {
          "name": "stdout",
          "output_type": "stream",
          "text": [
            "<class 'pandas.core.frame.DataFrame'>\n",
            "RangeIndex: 5494 entries, 0 to 5493\n",
            "Data columns (total 15 columns):\n",
            " #   Column              Non-Null Count  Dtype  \n",
            "---  ------              --------------  -----  \n",
            " 0   Date                5494 non-null   object \n",
            " 1   Bitcoin_Close       5494 non-null   float64\n",
            " 2   Nasdaq_Close        5494 non-null   float64\n",
            " 3   Gold_Close          5494 non-null   float64\n",
            " 4   Brent_Close         5494 non-null   float64\n",
            " 5   CPI                 5494 non-null   float64\n",
            " 6   Ten_Year_Yield      5494 non-null   float64\n",
            " 7   Fed_Funds_Rate      5494 non-null   float64\n",
            " 8   M2_Money_Supply     5494 non-null   float64\n",
            " 9   VIX                 5494 non-null   float64\n",
            " 10  Consumer_Sentiment  5494 non-null   float64\n",
            " 11  Real_GDP            5494 non-null   float64\n",
            " 12  Unemployment_Rate   5494 non-null   float64\n",
            " 13  Retail_Sales        5494 non-null   float64\n",
            " 14  Debt_to_GDP         5494 non-null   float64\n",
            "dtypes: float64(14), object(1)\n",
            "memory usage: 644.0+ KB\n"
          ]
        }
      ],
      "source": [
        "df_merged.info()"
      ]
    },
    {
      "cell_type": "markdown",
      "metadata": {},
      "source": [
        "We will now save this merged dataset."
      ]
    },
    {
      "cell_type": "code",
      "execution_count": 28,
      "metadata": {},
      "outputs": [],
      "source": [
        "df_merged.to_csv(\"inputs/datasets/raw/bitcoin_yahoo_fred_combined.csv\", index=False)"
      ]
    },
    {
      "cell_type": "markdown",
      "metadata": {
        "id": "ZY3l0-AxO93d"
      },
      "source": [
        "---"
      ]
    },
    {
      "cell_type": "markdown",
      "metadata": {
        "id": "ltNetd085qHf"
      },
      "source": [
        "# Push files to Repo"
      ]
    },
    {
      "cell_type": "markdown",
      "metadata": {},
      "source": [
        "* We finally save the dataset for use going forward"
      ]
    },
    {
      "cell_type": "code",
      "execution_count": 29,
      "metadata": {
        "id": "aKlnIozA4eQO",
        "outputId": "fd09bc1f-adb1-4511-f6ce-492a6af570c0"
      },
      "outputs": [
        {
          "name": "stdout",
          "output_type": "stream",
          "text": [
            "[Errno 17] File exists: 'outputs/datasets/collection'\n"
          ]
        }
      ],
      "source": [
        "import os\n",
        "try:\n",
        "  os.makedirs(name='outputs/datasets/collection')\n",
        "except Exception as e:\n",
        "  print(e)\n",
        "\n",
        "df_merged.to_csv(f\"outputs/datasets/collection/BitCoinVsMacroNasdaq_v5.csv\",index=False)"
      ]
    },
    {
      "cell_type": "markdown",
      "metadata": {},
      "source": [
        "### We can now proceed to workbook 2 - Data Analysis and Feature Engineering"
      ]
    }
  ],
  "metadata": {
    "accelerator": "GPU",
    "colab": {
      "name": "Data Practitioner Jupyter Notebook.ipynb",
      "provenance": [],
      "toc_visible": true
    },
    "kernelspec": {
      "display_name": "3.12.1",
      "language": "python",
      "name": "python3"
    },
    "language_info": {
      "codemirror_mode": {
        "name": "ipython",
        "version": 3
      },
      "file_extension": ".py",
      "mimetype": "text/x-python",
      "name": "python",
      "nbconvert_exporter": "python",
      "pygments_lexer": "ipython3",
      "version": "3.12.1"
    },
    "orig_nbformat": 2
  },
  "nbformat": 4,
  "nbformat_minor": 2
}
